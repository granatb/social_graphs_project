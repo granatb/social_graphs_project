{
 "cells": [
  {
   "cell_type": "code",
   "execution_count": 1,
   "id": "21df8dd0",
   "metadata": {
    "ExecuteTime": {
     "end_time": "2021-12-02T11:56:22.472592Z",
     "start_time": "2021-12-02T11:56:22.460625Z"
    }
   },
   "outputs": [
    {
     "data": {
      "text/html": [
       "<style>.container { width:60% !important; }</style>"
      ],
      "text/plain": [
       "<IPython.core.display.HTML object>"
      ]
     },
     "metadata": {},
     "output_type": "display_data"
    }
   ],
   "source": [
    "from IPython.core.display import display, HTML\n",
    "display(HTML(\"<style>.container { width:60% !important; }</style>\"))"
   ]
  },
  {
   "cell_type": "code",
   "execution_count": 2,
   "id": "3933f5e0",
   "metadata": {
    "ExecuteTime": {
     "end_time": "2021-12-02T15:42:40.048527Z",
     "start_time": "2021-12-02T15:42:39.850067Z"
    }
   },
   "outputs": [],
   "source": [
    "import networkx as nx\n",
    "\n",
    "from bokeh.io import output_file, show\n",
    "from bokeh.models import (BoxZoomTool, Circle, HoverTool,\n",
    "                          MultiLine, Plot, Range1d, ResetTool)\n",
    "from bokeh.palettes import Spectral4\n",
    "from bokeh.plotting import from_networkx\n",
    "\n",
    "# Prepare Data\n",
    "G = nx.karate_club_graph()\n",
    "\n",
    "SAME_CLUB_COLOR, DIFFERENT_CLUB_COLOR = \"black\", \"red\"\n",
    "edge_attrs = {}\n",
    "\n",
    "for start_node, end_node, _ in G.edges(data=True):\n",
    "    edge_color = SAME_CLUB_COLOR if G.nodes[start_node][\"club\"] == G.nodes[end_node][\"club\"] else DIFFERENT_CLUB_COLOR\n",
    "    edge_attrs[(start_node, end_node)] = edge_color\n",
    "\n",
    "nx.set_edge_attributes(G, edge_attrs, \"edge_color\")\n",
    "\n",
    "# Show with Bokeh\n",
    "plot = Plot(width=400, height=400,\n",
    "            x_range=Range1d(-1.1, 1.1), y_range=Range1d(-1.1, 1.1))\n",
    "plot.title.text = \"Graph Interaction Demonstration\"\n",
    "\n",
    "node_hover_tool = HoverTool(tooltips=[(\"index\", \"@index\"), (\"club\", \"@club\")])\n",
    "plot.add_tools(node_hover_tool, BoxZoomTool(), ResetTool())\n",
    "\n",
    "graph_renderer = from_networkx(G, nx.spring_layout, scale=1, center=(0, 0))\n",
    "\n",
    "graph_renderer.node_renderer.glyph = Circle(size=15, fill_color=Spectral4[0])\n",
    "graph_renderer.edge_renderer.glyph = MultiLine(line_color=\"edge_color\", line_alpha=0.8, line_width=1)\n",
    "plot.renderers.append(graph_renderer)\n",
    "\n",
    "output_file(\"interactive_graphs.html\")\n",
    "show(plot)"
   ]
  },
  {
   "cell_type": "code",
   "execution_count": 3,
   "id": "25f74d6b",
   "metadata": {
    "ExecuteTime": {
     "end_time": "2021-12-02T13:27:12.348086Z",
     "start_time": "2021-12-02T13:27:12.319164Z"
    },
    "scrolled": false
   },
   "outputs": [],
   "source": [
    "import urllib.request\n",
    "import json\n",
    "import re\n",
    "import numpy as np\n",
    "import pandas as pd\n",
    "import networkx as nx\n",
    "import seaborn as sns\n",
    "import nltk\n",
    "import gensim\n",
    "import gensim.corpora as corpora\n",
    "from gensim.models import CoherenceModel\n",
    "from matplotlib import pyplot as plt\n",
    "import requests\n",
    "# import stats\n",
    "import os\n",
    "import powerlaw\n",
    "\n",
    "# from fa2 import ForceAtlas2\n",
    "from nltk.tokenize import WordPunctTokenizer\n",
    "\n",
    "sns.set_style(\"whitegrid\", { \n",
    "    'axes.labelcolor': '1',\n",
    "     'figure.facecolor': '1',\n",
    "     'text.color': '1',\n",
    "     'xtick.color': '1',\n",
    "     'ytick.color': '1'})\n",
    "\n",
    "%matplotlib inline  "
   ]
  },
  {
   "cell_type": "code",
   "execution_count": 4,
   "id": "54464dd7",
   "metadata": {
    "ExecuteTime": {
     "end_time": "2021-12-02T13:27:13.506999Z",
     "start_time": "2021-12-02T13:27:12.692961Z"
    },
    "run_control": {
     "marked": true
    }
   },
   "outputs": [
    {
     "name": "stdout",
     "output_type": "stream",
     "text": [
      "https://aesthetics.fandom.com/api.php?action=query&prop=revisions&rvprop=content&rvslots=*&titles=List_of_Aesthetics&format=json\n"
     ]
    }
   ],
   "source": [
    "baseurl = \"https://aesthetics.fandom.com/api.php?\"\n",
    "action = \"action=query\"\n",
    "title = \"List_of_Aesthetics\"\n",
    "content = \"prop=revisions&rvprop=content&rvslots=*\" \n",
    "dataformat = \"format=json\" \n",
    "\n",
    "query = baseurl+action+\"&\"+content+\"&titles=\"+title+\"&\"+dataformat\n",
    "print(query)\n",
    "    \n",
    "response = urllib.request.urlopen(query)\n",
    "data = response.read()\n",
    "cont = data.decode('utf-8')\n",
    "\n",
    "jsontext = json.loads(cont)"
   ]
  },
  {
   "cell_type": "code",
   "execution_count": 5,
   "id": "b38097fa",
   "metadata": {
    "ExecuteTime": {
     "end_time": "2021-12-02T13:27:13.552877Z",
     "start_time": "2021-12-02T13:27:13.538915Z"
    }
   },
   "outputs": [],
   "source": [
    "en_pag=re.findall(r'\\d+',str(jsontext['query']['pages'].keys()))\n",
    "\n",
    "txt_new=jsontext['query']['pages'][str(en_pag[0])]['revisions'][0]['slots']['main']['*']"
   ]
  },
  {
   "cell_type": "code",
   "execution_count": 6,
   "id": "9d6d21be",
   "metadata": {
    "ExecuteTime": {
     "end_time": "2021-12-02T13:27:14.593311Z",
     "start_time": "2021-12-02T13:27:14.584339Z"
    }
   },
   "outputs": [],
   "source": [
    "pattern=\"(?:\\[\\[(.*?)\\]\\])\"\n",
    "\n",
    "alph_txt=re.split('(?:\\=\\=A\\=\\=)', txt_new)"
   ]
  },
  {
   "cell_type": "code",
   "execution_count": 7,
   "id": "9ac99ad2",
   "metadata": {
    "ExecuteTime": {
     "end_time": "2021-12-02T13:27:14.965886Z",
     "start_time": "2021-12-02T13:27:14.948931Z"
    }
   },
   "outputs": [],
   "source": [
    "alph_list=re.findall(pattern, alph_txt[1])"
   ]
  },
  {
   "cell_type": "code",
   "execution_count": 8,
   "id": "b63c2b50",
   "metadata": {
    "ExecuteTime": {
     "end_time": "2021-12-02T13:27:15.324453Z",
     "start_time": "2021-12-02T13:27:15.304491Z"
    }
   },
   "outputs": [
    {
     "data": {
      "text/plain": [
       "['Abstract',\n",
       " 'Abstract Tech',\n",
       " 'Acid Pixie',\n",
       " 'Acidwave',\n",
       " 'Adventurecore',\n",
       " 'Afrofuturism',\n",
       " 'Afro-Victorian',\n",
       " 'After Hours',\n",
       " 'Agrogirl/Agroboy|Agropeople',\n",
       " 'Alien',\n",
       " 'Alternative',\n",
       " 'Americana',\n",
       " 'American Pioneers',\n",
       " 'American Revolution',\n",
       " 'Androgynous',\n",
       " 'Anemoiacore',\n",
       " 'Angelcore',\n",
       " 'Anglocore',\n",
       " 'Anglo Gothic',\n",
       " 'Angura Kei',\n",
       " 'Animecore',\n",
       " 'Anti-Fashion',\n",
       " 'Applecore',\n",
       " 'Art Academia',\n",
       " 'Arts and Crafts Movement|Arts and Crafts',\n",
       " 'Art Deco',\n",
       " 'Art Hoe',\n",
       " 'Art Nouveau',\n",
       " 'Artistiekelingen',\n",
       " 'Athlete',\n",
       " 'Atompunk',\n",
       " 'Auroracore',\n",
       " 'Autumn',\n",
       " 'Avant-garde',\n",
       " 'Babycore',\n",
       " 'Babygirl',\n",
       " 'Barbiecore',\n",
       " 'Bardcore',\n",
       " 'Baddie',\n",
       " 'Ballet Academia',\n",
       " 'Baroque',\n",
       " 'Bastardcore',\n",
       " 'Beatnik',\n",
       " 'Bibliopunk',\n",
       " 'Biker',\n",
       " 'Bills',\n",
       " 'Bimbo Casual',\n",
       " 'Biopunk',\n",
       " 'Bizarro Fiction',\n",
       " 'Blob Web',\n",
       " 'Bookstore Girl',\n",
       " 'Bloomcore',\n",
       " 'Bodikon',\n",
       " 'Bogan',\n",
       " 'Bohemian',\n",
       " 'Bombacore',\n",
       " 'Bosozoku',\n",
       " 'Boujee',\n",
       " 'Breakcore',\n",
       " 'Brocore',\n",
       " 'Bronzepunk',\n",
       " 'Britpop',\n",
       " 'Bubble Goth',\n",
       " 'Bubblegum Bitch',\n",
       " 'Bubblegum Witch',\n",
       " 'Bunnycore',\n",
       " 'Butterfly',\n",
       " 'Cabincore',\n",
       " 'Cagole',\n",
       " 'Camp',\n",
       " 'Campcore',\n",
       " 'Candycore',\n",
       " 'Caninecore',\n",
       " 'Carcore',\n",
       " 'Cargopunk',\n",
       " 'Carnivalcore',\n",
       " 'Cartelcore',\n",
       " 'Cartooncore',\n",
       " 'Casino',\n",
       " 'Cassette Futurism',\n",
       " 'Changelingcore',\n",
       " 'Chav',\n",
       " 'Cherry Emoji Twitter',\n",
       " 'Chic Modernist',\n",
       " 'Cholo',\n",
       " 'Christcore',\n",
       " 'Christian Girl Autumn',\n",
       " 'Christmas',\n",
       " 'Chaotic Academia',\n",
       " 'City Pop',\n",
       " 'Classic Academia',\n",
       " 'Classic Lolita',\n",
       " 'Classicism',\n",
       " 'Cleancore',\n",
       " 'Clockpunk',\n",
       " 'Cloudcore',\n",
       " 'Clowncore',\n",
       " 'Club',\n",
       " 'Club Kids',\n",
       " 'Coffee House/Cafe',\n",
       " 'Comfy/Cozy',\n",
       " 'Common White Girl',\n",
       " 'Comiccore',\n",
       " 'Concore',\n",
       " 'Constructivism',\n",
       " 'Corporate',\n",
       " 'Cottagecore',\n",
       " 'Cottagegore',\n",
       " 'Country',\n",
       " 'Cowpunk',\n",
       " 'C-Pop',\n",
       " 'Crackhead',\n",
       " 'Craftcore',\n",
       " 'Cripplepunk',\n",
       " 'Crowcore',\n",
       " 'Crustpunk',\n",
       " 'Cryptid Academia',\n",
       " 'Cryptidcore',\n",
       " 'Crystalcore',\n",
       " 'Cubism',\n",
       " 'Cuddle Party',\n",
       " 'Cultcore',\n",
       " 'Cult Party Kei',\n",
       " 'Cyber Minimalism',\n",
       " 'Cyberdelic',\n",
       " 'Cyberghetto',\n",
       " 'Cybergoth',\n",
       " 'Cybergrunge',\n",
       " 'Cyberpop',\n",
       " 'Cyberprep',\n",
       " 'Cyberpunk',\n",
       " 'Dadaism',\n",
       " 'Dark Paradise',\n",
       " 'Dark Academia',\n",
       " 'Dark Naturalism',\n",
       " 'Dark Nautical',\n",
       " 'Dark Nymphet',\n",
       " 'Darkest Academia',\n",
       " 'Daydreampunk',\n",
       " 'Dazecore',\n",
       " 'Decora',\n",
       " 'Decopunk',\n",
       " 'Desertwave',\n",
       " 'De Stijl',\n",
       " 'Devilcore',\n",
       " 'Diner',\n",
       " 'Dinocore',\n",
       " 'Dieselpunk',\n",
       " 'Dollcore',\n",
       " 'Dolly Kei',\n",
       " 'Dracopunk',\n",
       " 'Dragoncore',\n",
       " 'Dreamy',\n",
       " 'Drugcore',\n",
       " 'Dual Kawaii',\n",
       " 'Dungeon Synth',\n",
       " 'Dullcore',\n",
       " 'E-Boy',\n",
       " 'E-Girl',\n",
       " 'Electro Swing',\n",
       " 'Emancicore',\n",
       " 'Emo',\n",
       " 'Equestrian',\n",
       " 'Ero guro',\n",
       " 'Erokawa',\n",
       " 'Ethereal',\n",
       " 'Expressionism',\n",
       " 'Fairy Academia',\n",
       " 'Fairycore',\n",
       " 'Fairy Kei',\n",
       " 'Fairy Tale',\n",
       " 'Fanfare',\n",
       " 'Fantasy',\n",
       " 'Fantasy Astronomy',\n",
       " 'Fashwave',\n",
       " 'Fauvism',\n",
       " 'Fawncore',\n",
       " 'Femme Fatale',\n",
       " 'Film Noir',\n",
       " 'Flapper',\n",
       " 'Fluxus Movement',\n",
       " 'Foodie',\n",
       " 'Forestpunk',\n",
       " 'Fractal art',\n",
       " 'Freak',\n",
       " 'French Girl',\n",
       " 'Frutiger Aero',\n",
       " 'Furry',\n",
       " 'Functionalism',\n",
       " 'Futago',\n",
       " 'Futurism',\n",
       " 'Gadgetpunk',\n",
       " 'Game Night',\n",
       " 'Gamine',\n",
       " 'Geek',\n",
       " 'Ghostcore',\n",
       " 'Girl-Next-Door',\n",
       " 'Glam Girl',\n",
       " 'Glam Rock',\n",
       " 'Glitch',\n",
       " 'Gloomcore',\n",
       " 'Glowwave',\n",
       " 'Goblincore',\n",
       " 'Goblin Academia',\n",
       " 'Golden Age of Detective Fiction',\n",
       " 'Golden Hour',\n",
       " 'Gopnik',\n",
       " 'Gorecore',\n",
       " 'Gorean',\n",
       " 'Goth',\n",
       " 'Gothcore',\n",
       " 'Gothic',\n",
       " 'Grandmillenial',\n",
       " 'Grandparentcore',\n",
       " 'Grindhouse',\n",
       " 'Grunge',\n",
       " 'Gull Girl',\n",
       " 'Gurokawa',\n",
       " 'Gyaru',\n",
       " 'Hallyu',\n",
       " 'Hauntology',\n",
       " 'Halloween',\n",
       " 'Happycore',\n",
       " 'Hatecore',\n",
       " 'Haussmann Paris',\n",
       " 'Health Goth',\n",
       " 'Heatwave',\n",
       " 'Heistcore',\n",
       " 'Hellenic',\n",
       " 'Hermaphroditus',\n",
       " 'High School Dream',\n",
       " 'Hikecore',\n",
       " 'Hip-Hop',\n",
       " 'Hippie',\n",
       " 'Hipster',\n",
       " 'Historical Americana',\n",
       " 'Holosexual',\n",
       " 'Honeycore',\n",
       " 'Horror',\n",
       " 'Horror Academia',\n",
       " 'Hot Topic',\n",
       " 'Hustlewave',\n",
       " 'Hydrogen',\n",
       " 'Hyperpop',\n",
       " 'Icepunk',\n",
       " 'Impressionism',\n",
       " 'Ironpunk',\n",
       " 'Indie',\n",
       " 'Internet Academia',\n",
       " 'Italo Disco',\n",
       " 'Italian Mafia',\n",
       " 'Jamcore',\n",
       " 'Jersey Shore',\n",
       " 'Joyride',\n",
       " 'Juggalo',\n",
       " 'Junglecore',\n",
       " 'Junkpunk',\n",
       " 'Karasu Zoku',\n",
       " 'Kawaii',\n",
       " 'Kawaii Gamer',\n",
       " 'Kidcore',\n",
       " 'Kid Science',\n",
       " 'Kinderwhore',\n",
       " 'Kingcore',\n",
       " 'Knightcore',\n",
       " 'Kogal',\n",
       " 'Kuromicore',\n",
       " 'Laborwave',\n",
       " 'Lagenlook',\n",
       " 'Larme Kei',\n",
       " 'La Sape',\n",
       " 'Light Academia',\n",
       " 'Lightningwave',\n",
       " 'Lil Girl',\n",
       " 'Lit Kid',\n",
       " 'Liminal Space',\n",
       " 'Lo-Fi',\n",
       " 'Lolita',\n",
       " 'Lounge',\n",
       " 'Lovecore',\n",
       " 'Luminism',\n",
       " 'Lunarpunk',\n",
       " 'Macaute',\n",
       " 'Mad Scientist',\n",
       " 'Magenta',\n",
       " 'Magewave',\n",
       " 'Maidcore',\n",
       " 'Malandragem',\n",
       " 'Mallgoth',\n",
       " 'Mall Ninja',\n",
       " 'Mangas',\n",
       " 'Maternity',\n",
       " 'McBling',\n",
       " 'Medicalcore',\n",
       " 'Medieval',\n",
       " 'Memphis',\n",
       " 'Metal',\n",
       " 'Metalcore',\n",
       " 'Metrosexual',\n",
       " 'Miami Metro',\n",
       " 'Midwest Emo',\n",
       " 'Midwest Gothic',\n",
       " 'Military',\n",
       " 'Milleniwave',\n",
       " 'Milk',\n",
       " 'Minimalism',\n",
       " 'Mod',\n",
       " 'Modernism',\n",
       " 'Mori Kei',\n",
       " 'Morute',\n",
       " 'Mote Kei',\n",
       " 'Mosscore',\n",
       " 'MS Paint|Ms Paint',\n",
       " 'Mushroomcore',\n",
       " 'Musical Academia',\n",
       " 'Nanopunk',\n",
       " 'Natural Philosophy',\n",
       " 'Naturecore',\n",
       " 'Nautical',\n",
       " 'Nazi Chic',\n",
       " 'Neko',\n",
       " 'Neomilitarism',\n",
       " 'Nerd',\n",
       " 'Nerdcore',\n",
       " 'New Age',\n",
       " 'New Romantic',\n",
       " 'Neo-Romanism|Neo - Romanism',\n",
       " 'New Wave',\n",
       " 'Nintencore',\n",
       " 'Normcore',\n",
       " 'Northerness',\n",
       " 'Nostalgiacore',\n",
       " 'Nowpunk',\n",
       " 'Nozems',\n",
       " 'Nuclear',\n",
       " 'Nu-Goth',\n",
       " 'Nymphet',\n",
       " 'Ocean Academia',\n",
       " 'Ocean Grunge',\n",
       " 'Old Hollywood',\n",
       " 'Old Web',\n",
       " 'Onii Kei',\n",
       " 'Oshare Kei',\n",
       " 'Otherkin',\n",
       " 'Pachuco',\n",
       " 'Pale',\n",
       " 'Palewave',\n",
       " 'Paleocore',\n",
       " 'Paninaro',\n",
       " 'Party Animal',\n",
       " 'Party Kei',\n",
       " 'Pastel',\n",
       " 'Pastel Academia',\n",
       " 'Pastel Goth',\n",
       " 'Pastel Punk',\n",
       " 'Peach',\n",
       " 'Pearly',\n",
       " 'Peoplehood',\n",
       " 'Petcore',\n",
       " 'Photorealism',\n",
       " 'Pigeoncore',\n",
       " 'Pink',\n",
       " 'Pin-up',\n",
       " 'Pirate',\n",
       " 'Pixel Cutie',\n",
       " 'Pixiecore',\n",
       " 'Plaguecore',\n",
       " 'Plant Mom',\n",
       " 'Playboy',\n",
       " 'Pointillism',\n",
       " 'Pop',\n",
       " 'Pop Art',\n",
       " 'Pop Kei',\n",
       " 'Post-Impressionism',\n",
       " 'Postmodernism',\n",
       " 'Post-Apocalyptic',\n",
       " 'Post-rock',\n",
       " 'Powwow Step',\n",
       " 'Prairiecore',\n",
       " 'Preppy',\n",
       " 'Princecore',\n",
       " 'Princesscore',\n",
       " 'Progressive academia|Progressive Academia',\n",
       " 'Psychedelica',\n",
       " 'Punk',\n",
       " 'Purism',\n",
       " 'Queencore',\n",
       " 'Queer Academia',\n",
       " 'Queercore',\n",
       " 'R&B',\n",
       " 'Racaille',\n",
       " 'Rainbowcore',\n",
       " 'Rainy Day',\n",
       " 'Rangercore',\n",
       " 'Ratcore',\n",
       " 'Ravencore',\n",
       " 'Raver',\n",
       " 'Real Life Super Hero',\n",
       " 'Realism',\n",
       " 'Reefwave',\n",
       " 'Regency',\n",
       " 'Regional Gothic',\n",
       " 'Retro-Futurism',\n",
       " 'Rivethead',\n",
       " 'Roaring 20s',\n",
       " 'Robotics Kids|Robotics Kid',\n",
       " 'Rockabilly',\n",
       " 'Rococo',\n",
       " 'Rococopunk',\n",
       " 'Rollerwave',\n",
       " 'Roma',\n",
       " 'Romantic Goth',\n",
       " 'Romanticism',\n",
       " 'Romantic Academia',\n",
       " 'Romantic Italian',\n",
       " 'Royalcore',\n",
       " 'Rural China',\n",
       " 'Rusticcore',\n",
       " 'Sadpeople|Sad people',\n",
       " 'Salon Kei',\n",
       " 'Sandalpunk',\n",
       " 'Sanriocore',\n",
       " 'Science Academia',\n",
       " 'Scrapbook',\n",
       " 'Scrapper',\n",
       " 'Scene',\n",
       " 'Scoutcore',\n",
       " 'Scuttlers',\n",
       " 'Seapunk',\n",
       " 'Selkiecore',\n",
       " 'Shanzhai',\n",
       " 'Shā mǎ tè',\n",
       " 'Shabby Chic',\n",
       " 'Sharpies',\n",
       " 'Shironuri',\n",
       " 'Sizz',\n",
       " 'Skinheads',\n",
       " 'Slimepunk',\n",
       " 'Sloanies',\n",
       " 'Slutcore',\n",
       " 'Snailcore',\n",
       " 'Snowdrop',\n",
       " 'Soft Apocalypse',\n",
       " 'Softie',\n",
       " 'Soft Macabre',\n",
       " 'Soggy',\n",
       " 'Solarpunk',\n",
       " 'Soulboys',\n",
       " 'Southern Gothic',\n",
       " 'Sovietwave',\n",
       " 'Spacecore',\n",
       " 'Sparklecore',\n",
       " 'Spiritcore',\n",
       " 'Spring',\n",
       " 'Spy fiction',\n",
       " 'Steampunk',\n",
       " 'Steelpunk',\n",
       " 'Stilyagi',\n",
       " 'Stimwave',\n",
       " 'Stonepunk',\n",
       " 'Stoner',\n",
       " 'Stripcore',\n",
       " 'Studyblr',\n",
       " 'Studyplace',\n",
       " 'Styla',\n",
       " 'Suburban Gothic',\n",
       " 'Sukeban',\n",
       " 'Summer',\n",
       " 'Suprematism',\n",
       " 'Surf Crush',\n",
       " 'Surrealism',\n",
       " 'Surreal Memer',\n",
       " 'Swenkas',\n",
       " 'Swordpunk',\n",
       " 'Synthwave',\n",
       " 'Takenokozoku',\n",
       " 'Tenwave',\n",
       " 'Techwear',\n",
       " 'Teddies',\n",
       " 'Technical Scene',\n",
       " 'Teethcore',\n",
       " 'Theatre Academia',\n",
       " 'Theatre Kids',\n",
       " 'Thrasher',\n",
       " 'Thriftcore',\n",
       " 'Tomboy',\n",
       " 'Trad Goth',\n",
       " 'Traditional Polish',\n",
       " 'Trailer Trash|Trailer Park Princess',\n",
       " 'Trashcore',\n",
       " 'Traumacore',\n",
       " 'Trendercore',\n",
       " 'Trillwave',\n",
       " 'Tropical',\n",
       " 'Tupinipunk',\n",
       " 'Tweencore',\n",
       " 'Twee',\n",
       " 'Ukiyo-e',\n",
       " 'Ulzzang',\n",
       " 'Urbancore',\n",
       " 'Unicorncore',\n",
       " 'Vacation Dadcore',\n",
       " 'Vampire',\n",
       " 'Vaporwave',\n",
       " 'Vibrant Academia',\n",
       " 'Victorian',\n",
       " 'Victorian Goth',\n",
       " 'Viking',\n",
       " 'Vintage',\n",
       " 'Vintage Academia',\n",
       " 'Vintage Parisian',\n",
       " \"Virgo's Tears\",\n",
       " 'Visual Kei',\n",
       " 'VSCO',\n",
       " 'Voidpunk',\n",
       " 'Vorticism',\n",
       " 'Vulture Culture',\n",
       " 'Wabi-Sabi',\n",
       " 'Waif',\n",
       " 'Waldorf',\n",
       " 'Wanderlust',\n",
       " 'Wandervogel',\n",
       " 'Warmcore',\n",
       " 'Web Creep',\n",
       " 'Weirdcore',\n",
       " 'Western',\n",
       " 'Winter',\n",
       " 'Witchy Academia',\n",
       " 'Witch House',\n",
       " 'Witchcore',\n",
       " 'Wizardcore',\n",
       " 'Wonderland',\n",
       " 'Woodland Goth',\n",
       " 'Wormcore',\n",
       " 'Writer Academia',\n",
       " 'Y2K',\n",
       " 'Yakuza',\n",
       " 'Yami Kawaii',\n",
       " 'Yankeecore',\n",
       " 'Yanki',\n",
       " 'Yume Kawaii',\n",
       " 'Yandere',\n",
       " 'Zazou',\n",
       " 'Zef',\n",
       " 'Zentai',\n",
       " 'Zombiecore',\n",
       " '1950s Suburbia',\n",
       " '2 Tone',\n",
       " '70s Disco']"
      ]
     },
     "execution_count": 8,
     "metadata": {},
     "output_type": "execute_result"
    }
   ],
   "source": [
    "alph_list"
   ]
  },
  {
   "cell_type": "code",
   "execution_count": 9,
   "id": "53f769a2",
   "metadata": {
    "ExecuteTime": {
     "end_time": "2021-12-02T13:27:15.700373Z",
     "start_time": "2021-12-02T13:27:15.685415Z"
    }
   },
   "outputs": [
    {
     "name": "stdout",
     "output_type": "stream",
     "text": [
      "True\n"
     ]
    }
   ],
   "source": [
    "print(\"|\" in \"Agrogirl/Agroboy|Agropeople\")"
   ]
  },
  {
   "cell_type": "code",
   "execution_count": 10,
   "id": "c67e6a91",
   "metadata": {
    "ExecuteTime": {
     "end_time": "2021-12-02T13:27:16.464474Z",
     "start_time": "2021-12-02T13:27:16.443505Z"
    }
   },
   "outputs": [],
   "source": [
    "DG = nx.DiGraph()\n",
    "\n",
    "for i in alph_list:\n",
    "    if \"|\" in i:\n",
    "        spl=re.split('(?:\\|)', i)\n",
    "        alph_list[alph_list.index(i)]=spl[1]\n",
    "        DG.add_node(spl[1])    \n",
    "    else:\n",
    "        DG.add_node(i)"
   ]
  },
  {
   "cell_type": "code",
   "execution_count": 11,
   "id": "a1a2341a",
   "metadata": {
    "ExecuteTime": {
     "end_time": "2021-12-02T13:27:17.087492Z",
     "start_time": "2021-12-02T13:27:17.073504Z"
    }
   },
   "outputs": [
    {
     "data": {
      "text/plain": [
       "549"
      ]
     },
     "execution_count": 11,
     "metadata": {},
     "output_type": "execute_result"
    }
   ],
   "source": [
    "len(alph_list)"
   ]
  },
  {
   "cell_type": "code",
   "execution_count": 12,
   "id": "032a05e7",
   "metadata": {
    "ExecuteTime": {
     "end_time": "2021-12-02T13:27:17.759624Z",
     "start_time": "2021-12-02T13:27:17.743673Z"
    }
   },
   "outputs": [],
   "source": [
    "#len(DG.nodes())"
   ]
  },
  {
   "cell_type": "code",
   "execution_count": 13,
   "id": "de85c414",
   "metadata": {
    "ExecuteTime": {
     "end_time": "2021-12-02T13:27:18.801174Z",
     "start_time": "2021-12-02T13:27:18.781210Z"
    }
   },
   "outputs": [],
   "source": [
    "mapping = {'Neo - Romanism':'Neo-Romanism', 'Robotics Kid':'Robotics Kids', 'Sad people':'Sadpeople'}\n",
    "DG = nx.relabel_nodes(DG, mapping)"
   ]
  },
  {
   "cell_type": "code",
   "execution_count": 28,
   "id": "d76ff988",
   "metadata": {
    "ExecuteTime": {
     "end_time": "2021-12-02T13:27:19.682547Z",
     "start_time": "2021-12-02T13:27:19.641657Z"
    }
   },
   "outputs": [],
   "source": [
    "pd.DataFrame(list(DG.nodes())).to_csv('aesthetics.csv')"
   ]
  },
  {
   "cell_type": "code",
   "execution_count": 14,
   "id": "704711d5",
   "metadata": {
    "ExecuteTime": {
     "end_time": "2021-12-02T13:27:20.068520Z",
     "start_time": "2021-12-02T13:27:20.062530Z"
    }
   },
   "outputs": [
    {
     "data": {
      "text/plain": [
       "['Abstract',\n",
       " 'Abstract Tech',\n",
       " 'Acid Pixie',\n",
       " 'Acidwave',\n",
       " 'Adventurecore',\n",
       " 'Afrofuturism',\n",
       " 'Afro-Victorian',\n",
       " 'After Hours',\n",
       " 'Agropeople',\n",
       " 'Alien',\n",
       " 'Alternative',\n",
       " 'Americana',\n",
       " 'American Pioneers',\n",
       " 'American Revolution',\n",
       " 'Androgynous',\n",
       " 'Anemoiacore',\n",
       " 'Angelcore',\n",
       " 'Anglocore',\n",
       " 'Anglo Gothic',\n",
       " 'Angura Kei',\n",
       " 'Animecore',\n",
       " 'Anti-Fashion',\n",
       " 'Applecore',\n",
       " 'Art Academia',\n",
       " 'Arts and Crafts',\n",
       " 'Art Deco',\n",
       " 'Art Hoe',\n",
       " 'Art Nouveau',\n",
       " 'Artistiekelingen',\n",
       " 'Athlete',\n",
       " 'Atompunk',\n",
       " 'Auroracore',\n",
       " 'Autumn',\n",
       " 'Avant-garde',\n",
       " 'Babycore',\n",
       " 'Babygirl',\n",
       " 'Barbiecore',\n",
       " 'Bardcore',\n",
       " 'Baddie',\n",
       " 'Ballet Academia',\n",
       " 'Baroque',\n",
       " 'Bastardcore',\n",
       " 'Beatnik',\n",
       " 'Bibliopunk',\n",
       " 'Biker',\n",
       " 'Bills',\n",
       " 'Bimbo Casual',\n",
       " 'Biopunk',\n",
       " 'Bizarro Fiction',\n",
       " 'Blob Web',\n",
       " 'Bookstore Girl',\n",
       " 'Bloomcore',\n",
       " 'Bodikon',\n",
       " 'Bogan',\n",
       " 'Bohemian',\n",
       " 'Bombacore',\n",
       " 'Bosozoku',\n",
       " 'Boujee',\n",
       " 'Breakcore',\n",
       " 'Brocore',\n",
       " 'Bronzepunk',\n",
       " 'Britpop',\n",
       " 'Bubble Goth',\n",
       " 'Bubblegum Bitch',\n",
       " 'Bubblegum Witch',\n",
       " 'Bunnycore',\n",
       " 'Butterfly',\n",
       " 'Cabincore',\n",
       " 'Cagole',\n",
       " 'Camp',\n",
       " 'Campcore',\n",
       " 'Candycore',\n",
       " 'Caninecore',\n",
       " 'Carcore',\n",
       " 'Cargopunk',\n",
       " 'Carnivalcore',\n",
       " 'Cartelcore',\n",
       " 'Cartooncore',\n",
       " 'Casino',\n",
       " 'Cassette Futurism',\n",
       " 'Changelingcore',\n",
       " 'Chav',\n",
       " 'Cherry Emoji Twitter',\n",
       " 'Chic Modernist',\n",
       " 'Cholo',\n",
       " 'Christcore',\n",
       " 'Christian Girl Autumn',\n",
       " 'Christmas',\n",
       " 'Chaotic Academia',\n",
       " 'City Pop',\n",
       " 'Classic Academia',\n",
       " 'Classic Lolita',\n",
       " 'Classicism',\n",
       " 'Cleancore',\n",
       " 'Clockpunk',\n",
       " 'Cloudcore',\n",
       " 'Clowncore',\n",
       " 'Club',\n",
       " 'Club Kids',\n",
       " 'Coffee House/Cafe',\n",
       " 'Comfy/Cozy',\n",
       " 'Common White Girl',\n",
       " 'Comiccore',\n",
       " 'Concore',\n",
       " 'Constructivism',\n",
       " 'Corporate',\n",
       " 'Cottagecore',\n",
       " 'Cottagegore',\n",
       " 'Country',\n",
       " 'Cowpunk',\n",
       " 'C-Pop',\n",
       " 'Crackhead',\n",
       " 'Craftcore',\n",
       " 'Cripplepunk',\n",
       " 'Crowcore',\n",
       " 'Crustpunk',\n",
       " 'Cryptid Academia',\n",
       " 'Cryptidcore',\n",
       " 'Crystalcore',\n",
       " 'Cubism',\n",
       " 'Cuddle Party',\n",
       " 'Cultcore',\n",
       " 'Cult Party Kei',\n",
       " 'Cyber Minimalism',\n",
       " 'Cyberdelic',\n",
       " 'Cyberghetto',\n",
       " 'Cybergoth',\n",
       " 'Cybergrunge',\n",
       " 'Cyberpop',\n",
       " 'Cyberprep',\n",
       " 'Cyberpunk',\n",
       " 'Dadaism',\n",
       " 'Dark Paradise',\n",
       " 'Dark Academia',\n",
       " 'Dark Naturalism',\n",
       " 'Dark Nautical',\n",
       " 'Dark Nymphet',\n",
       " 'Darkest Academia',\n",
       " 'Daydreampunk',\n",
       " 'Dazecore',\n",
       " 'Decora',\n",
       " 'Decopunk',\n",
       " 'Desertwave',\n",
       " 'De Stijl',\n",
       " 'Devilcore',\n",
       " 'Diner',\n",
       " 'Dinocore',\n",
       " 'Dieselpunk',\n",
       " 'Dollcore',\n",
       " 'Dolly Kei',\n",
       " 'Dracopunk',\n",
       " 'Dragoncore',\n",
       " 'Dreamy',\n",
       " 'Drugcore',\n",
       " 'Dual Kawaii',\n",
       " 'Dungeon Synth',\n",
       " 'Dullcore',\n",
       " 'E-Boy',\n",
       " 'E-Girl',\n",
       " 'Electro Swing',\n",
       " 'Emancicore',\n",
       " 'Emo',\n",
       " 'Equestrian',\n",
       " 'Ero guro',\n",
       " 'Erokawa',\n",
       " 'Ethereal',\n",
       " 'Expressionism',\n",
       " 'Fairy Academia',\n",
       " 'Fairycore',\n",
       " 'Fairy Kei',\n",
       " 'Fairy Tale',\n",
       " 'Fanfare',\n",
       " 'Fantasy',\n",
       " 'Fantasy Astronomy',\n",
       " 'Fashwave',\n",
       " 'Fauvism',\n",
       " 'Fawncore',\n",
       " 'Femme Fatale',\n",
       " 'Film Noir',\n",
       " 'Flapper',\n",
       " 'Fluxus Movement',\n",
       " 'Foodie',\n",
       " 'Forestpunk',\n",
       " 'Fractal art',\n",
       " 'Freak',\n",
       " 'French Girl',\n",
       " 'Frutiger Aero',\n",
       " 'Furry',\n",
       " 'Functionalism',\n",
       " 'Futago',\n",
       " 'Futurism',\n",
       " 'Gadgetpunk',\n",
       " 'Game Night',\n",
       " 'Gamine',\n",
       " 'Geek',\n",
       " 'Ghostcore',\n",
       " 'Girl-Next-Door',\n",
       " 'Glam Girl',\n",
       " 'Glam Rock',\n",
       " 'Glitch',\n",
       " 'Gloomcore',\n",
       " 'Glowwave',\n",
       " 'Goblincore',\n",
       " 'Goblin Academia',\n",
       " 'Golden Age of Detective Fiction',\n",
       " 'Golden Hour',\n",
       " 'Gopnik',\n",
       " 'Gorecore',\n",
       " 'Gorean',\n",
       " 'Goth',\n",
       " 'Gothcore',\n",
       " 'Gothic',\n",
       " 'Grandmillenial',\n",
       " 'Grandparentcore',\n",
       " 'Grindhouse',\n",
       " 'Grunge',\n",
       " 'Gull Girl',\n",
       " 'Gurokawa',\n",
       " 'Gyaru',\n",
       " 'Hallyu',\n",
       " 'Hauntology',\n",
       " 'Halloween',\n",
       " 'Happycore',\n",
       " 'Hatecore',\n",
       " 'Haussmann Paris',\n",
       " 'Health Goth',\n",
       " 'Heatwave',\n",
       " 'Heistcore',\n",
       " 'Hellenic',\n",
       " 'Hermaphroditus',\n",
       " 'High School Dream',\n",
       " 'Hikecore',\n",
       " 'Hip-Hop',\n",
       " 'Hippie',\n",
       " 'Hipster',\n",
       " 'Historical Americana',\n",
       " 'Holosexual',\n",
       " 'Honeycore',\n",
       " 'Horror',\n",
       " 'Horror Academia',\n",
       " 'Hot Topic',\n",
       " 'Hustlewave',\n",
       " 'Hydrogen',\n",
       " 'Hyperpop',\n",
       " 'Icepunk',\n",
       " 'Impressionism',\n",
       " 'Ironpunk',\n",
       " 'Indie',\n",
       " 'Internet Academia',\n",
       " 'Italo Disco',\n",
       " 'Italian Mafia',\n",
       " 'Jamcore',\n",
       " 'Jersey Shore',\n",
       " 'Joyride',\n",
       " 'Juggalo',\n",
       " 'Junglecore',\n",
       " 'Junkpunk',\n",
       " 'Karasu Zoku',\n",
       " 'Kawaii',\n",
       " 'Kawaii Gamer',\n",
       " 'Kidcore',\n",
       " 'Kid Science',\n",
       " 'Kinderwhore',\n",
       " 'Kingcore',\n",
       " 'Knightcore',\n",
       " 'Kogal',\n",
       " 'Kuromicore',\n",
       " 'Laborwave',\n",
       " 'Lagenlook',\n",
       " 'Larme Kei',\n",
       " 'La Sape',\n",
       " 'Light Academia',\n",
       " 'Lightningwave',\n",
       " 'Lil Girl',\n",
       " 'Lit Kid',\n",
       " 'Liminal Space',\n",
       " 'Lo-Fi',\n",
       " 'Lolita',\n",
       " 'Lounge',\n",
       " 'Lovecore',\n",
       " 'Luminism',\n",
       " 'Lunarpunk',\n",
       " 'Macaute',\n",
       " 'Mad Scientist',\n",
       " 'Magenta',\n",
       " 'Magewave',\n",
       " 'Maidcore',\n",
       " 'Malandragem',\n",
       " 'Mallgoth',\n",
       " 'Mall Ninja',\n",
       " 'Mangas',\n",
       " 'Maternity',\n",
       " 'McBling',\n",
       " 'Medicalcore',\n",
       " 'Medieval',\n",
       " 'Memphis',\n",
       " 'Metal',\n",
       " 'Metalcore',\n",
       " 'Metrosexual',\n",
       " 'Miami Metro',\n",
       " 'Midwest Emo',\n",
       " 'Midwest Gothic',\n",
       " 'Military',\n",
       " 'Milleniwave',\n",
       " 'Milk',\n",
       " 'Minimalism',\n",
       " 'Mod',\n",
       " 'Modernism',\n",
       " 'Mori Kei',\n",
       " 'Morute',\n",
       " 'Mote Kei',\n",
       " 'Mosscore',\n",
       " 'Ms Paint',\n",
       " 'Mushroomcore',\n",
       " 'Musical Academia',\n",
       " 'Nanopunk',\n",
       " 'Natural Philosophy',\n",
       " 'Naturecore',\n",
       " 'Nautical',\n",
       " 'Nazi Chic',\n",
       " 'Neko',\n",
       " 'Neomilitarism',\n",
       " 'Nerd',\n",
       " 'Nerdcore',\n",
       " 'New Age',\n",
       " 'New Romantic',\n",
       " 'Neo-Romanism',\n",
       " 'New Wave',\n",
       " 'Nintencore',\n",
       " 'Normcore',\n",
       " 'Northerness',\n",
       " 'Nostalgiacore',\n",
       " 'Nowpunk',\n",
       " 'Nozems',\n",
       " 'Nuclear',\n",
       " 'Nu-Goth',\n",
       " 'Nymphet',\n",
       " 'Ocean Academia',\n",
       " 'Ocean Grunge',\n",
       " 'Old Hollywood',\n",
       " 'Old Web',\n",
       " 'Onii Kei',\n",
       " 'Oshare Kei',\n",
       " 'Otherkin',\n",
       " 'Pachuco',\n",
       " 'Pale',\n",
       " 'Palewave',\n",
       " 'Paleocore',\n",
       " 'Paninaro',\n",
       " 'Party Animal',\n",
       " 'Party Kei',\n",
       " 'Pastel',\n",
       " 'Pastel Academia',\n",
       " 'Pastel Goth',\n",
       " 'Pastel Punk',\n",
       " 'Peach',\n",
       " 'Pearly',\n",
       " 'Peoplehood',\n",
       " 'Petcore',\n",
       " 'Photorealism',\n",
       " 'Pigeoncore',\n",
       " 'Pink',\n",
       " 'Pin-up',\n",
       " 'Pirate',\n",
       " 'Pixel Cutie',\n",
       " 'Pixiecore',\n",
       " 'Plaguecore',\n",
       " 'Plant Mom',\n",
       " 'Playboy',\n",
       " 'Pointillism',\n",
       " 'Pop',\n",
       " 'Pop Art',\n",
       " 'Pop Kei',\n",
       " 'Post-Impressionism',\n",
       " 'Postmodernism',\n",
       " 'Post-Apocalyptic',\n",
       " 'Post-rock',\n",
       " 'Powwow Step',\n",
       " 'Prairiecore',\n",
       " 'Preppy',\n",
       " 'Princecore',\n",
       " 'Princesscore',\n",
       " 'Progressive Academia',\n",
       " 'Psychedelica',\n",
       " 'Punk',\n",
       " 'Purism',\n",
       " 'Queencore',\n",
       " 'Queer Academia',\n",
       " 'Queercore',\n",
       " 'R&B',\n",
       " 'Racaille',\n",
       " 'Rainbowcore',\n",
       " 'Rainy Day',\n",
       " 'Rangercore',\n",
       " 'Ratcore',\n",
       " 'Ravencore',\n",
       " 'Raver',\n",
       " 'Real Life Super Hero',\n",
       " 'Realism',\n",
       " 'Reefwave',\n",
       " 'Regency',\n",
       " 'Regional Gothic',\n",
       " 'Retro-Futurism',\n",
       " 'Rivethead',\n",
       " 'Roaring 20s',\n",
       " 'Robotics Kids',\n",
       " 'Rockabilly',\n",
       " 'Rococo',\n",
       " 'Rococopunk',\n",
       " 'Rollerwave',\n",
       " 'Roma',\n",
       " 'Romantic Goth',\n",
       " 'Romanticism',\n",
       " 'Romantic Academia',\n",
       " 'Romantic Italian',\n",
       " 'Royalcore',\n",
       " 'Rural China',\n",
       " 'Rusticcore',\n",
       " 'Sadpeople',\n",
       " 'Salon Kei',\n",
       " 'Sandalpunk',\n",
       " 'Sanriocore',\n",
       " 'Science Academia',\n",
       " 'Scrapbook',\n",
       " 'Scrapper',\n",
       " 'Scene',\n",
       " 'Scoutcore',\n",
       " 'Scuttlers',\n",
       " 'Seapunk',\n",
       " 'Selkiecore',\n",
       " 'Shanzhai',\n",
       " 'Shā mǎ tè',\n",
       " 'Shabby Chic',\n",
       " 'Sharpies',\n",
       " 'Shironuri',\n",
       " 'Sizz',\n",
       " 'Skinheads',\n",
       " 'Slimepunk',\n",
       " 'Sloanies',\n",
       " 'Slutcore',\n",
       " 'Snailcore',\n",
       " 'Snowdrop',\n",
       " 'Soft Apocalypse',\n",
       " 'Softie',\n",
       " 'Soft Macabre',\n",
       " 'Soggy',\n",
       " 'Solarpunk',\n",
       " 'Soulboys',\n",
       " 'Southern Gothic',\n",
       " 'Sovietwave',\n",
       " 'Spacecore',\n",
       " 'Sparklecore',\n",
       " 'Spiritcore',\n",
       " 'Spring',\n",
       " 'Spy fiction',\n",
       " 'Steampunk',\n",
       " 'Steelpunk',\n",
       " 'Stilyagi',\n",
       " 'Stimwave',\n",
       " 'Stonepunk',\n",
       " 'Stoner',\n",
       " 'Stripcore',\n",
       " 'Studyblr',\n",
       " 'Studyplace',\n",
       " 'Styla',\n",
       " 'Suburban Gothic',\n",
       " 'Sukeban',\n",
       " 'Summer',\n",
       " 'Suprematism',\n",
       " 'Surf Crush',\n",
       " 'Surrealism',\n",
       " 'Surreal Memer',\n",
       " 'Swenkas',\n",
       " 'Swordpunk',\n",
       " 'Synthwave',\n",
       " 'Takenokozoku',\n",
       " 'Tenwave',\n",
       " 'Techwear',\n",
       " 'Teddies',\n",
       " 'Technical Scene',\n",
       " 'Teethcore',\n",
       " 'Theatre Academia',\n",
       " 'Theatre Kids',\n",
       " 'Thrasher',\n",
       " 'Thriftcore',\n",
       " 'Tomboy',\n",
       " 'Trad Goth',\n",
       " 'Traditional Polish',\n",
       " 'Trailer Park Princess',\n",
       " 'Trashcore',\n",
       " 'Traumacore',\n",
       " 'Trendercore',\n",
       " 'Trillwave',\n",
       " 'Tropical',\n",
       " 'Tupinipunk',\n",
       " 'Tweencore',\n",
       " 'Twee',\n",
       " 'Ukiyo-e',\n",
       " 'Ulzzang',\n",
       " 'Urbancore',\n",
       " 'Unicorncore',\n",
       " 'Vacation Dadcore',\n",
       " 'Vampire',\n",
       " 'Vaporwave',\n",
       " 'Vibrant Academia',\n",
       " 'Victorian',\n",
       " 'Victorian Goth',\n",
       " 'Viking',\n",
       " 'Vintage',\n",
       " 'Vintage Academia',\n",
       " 'Vintage Parisian',\n",
       " \"Virgo's Tears\",\n",
       " 'Visual Kei',\n",
       " 'VSCO',\n",
       " 'Voidpunk',\n",
       " 'Vorticism',\n",
       " 'Vulture Culture',\n",
       " 'Wabi-Sabi',\n",
       " 'Waif',\n",
       " 'Waldorf',\n",
       " 'Wanderlust',\n",
       " 'Wandervogel',\n",
       " 'Warmcore',\n",
       " 'Web Creep',\n",
       " 'Weirdcore',\n",
       " 'Western',\n",
       " 'Winter',\n",
       " 'Witchy Academia',\n",
       " 'Witch House',\n",
       " 'Witchcore',\n",
       " 'Wizardcore',\n",
       " 'Wonderland',\n",
       " 'Woodland Goth',\n",
       " 'Wormcore',\n",
       " 'Writer Academia',\n",
       " 'Y2K',\n",
       " 'Yakuza',\n",
       " 'Yami Kawaii',\n",
       " 'Yankeecore',\n",
       " 'Yanki',\n",
       " 'Yume Kawaii',\n",
       " 'Yandere',\n",
       " 'Zazou',\n",
       " 'Zef',\n",
       " 'Zentai',\n",
       " 'Zombiecore',\n",
       " '1950s Suburbia',\n",
       " '2 Tone',\n",
       " '70s Disco']"
      ]
     },
     "execution_count": 14,
     "metadata": {},
     "output_type": "execute_result"
    }
   ],
   "source": [
    "list(DG.nodes)"
   ]
  },
  {
   "cell_type": "code",
   "execution_count": 11,
   "id": "d1678d65",
   "metadata": {
    "ExecuteTime": {
     "end_time": "2021-12-02T13:31:37.967791Z",
     "start_time": "2021-12-02T13:27:20.709350Z"
    }
   },
   "outputs": [],
   "source": [
    "for char in DG:\n",
    "    address = 'https://aesthetics.fandom.com/api.php?'\n",
    "    action=\"action=query\"\n",
    "    titles=f\"titles={char}\"\n",
    "#     content=\"prop=extracts&exlimit=1&explaintext\"\n",
    "    content=\"prop=revisions&rvslots=*&rvprop=content\"\n",
    "    dataformat=\"format=json\"\n",
    "    query = '%s%s&%s&%s&%s' % (address, action, titles, content, dataformat)\n",
    "    response = requests.get(query)\n",
    "    content_char = response.text\n",
    "    char_file = char.replace('/','_')\n",
    "    with open('aesthetics/'+f'{char_file}.txt', 'w') as f:\n",
    "        f.write(content_char)"
   ]
  },
  {
   "cell_type": "code",
   "execution_count": 15,
   "id": "38065314",
   "metadata": {
    "ExecuteTime": {
     "end_time": "2021-12-02T13:31:38.309876Z",
     "start_time": "2021-12-02T13:31:38.047579Z"
    }
   },
   "outputs": [],
   "source": [
    "loc={}\n",
    "for char in DG:\n",
    "    char_file = char.replace('/','_')\n",
    "    with open('aesthetics/'+f'{char_file}.txt', 'r') as f:\n",
    "        a = f.read()\n",
    "        loc[char] = {'loc':len(re.findall(r'\\w+', a))}\n"
   ]
  },
  {
   "cell_type": "code",
   "execution_count": 16,
   "id": "2ee98bf4",
   "metadata": {
    "ExecuteTime": {
     "end_time": "2021-12-02T14:55:50.933801Z",
     "start_time": "2021-12-02T14:55:50.910853Z"
    }
   },
   "outputs": [
    {
     "data": {
      "text/plain": [
       "549"
      ]
     },
     "execution_count": 16,
     "metadata": {},
     "output_type": "execute_result"
    }
   ],
   "source": [
    "len(loc)"
   ]
  },
  {
   "cell_type": "code",
   "execution_count": 17,
   "id": "292bce2d",
   "metadata": {
    "ExecuteTime": {
     "end_time": "2021-12-02T14:55:51.494487Z",
     "start_time": "2021-12-02T14:55:51.456589Z"
    }
   },
   "outputs": [
    {
     "data": {
      "text/plain": [
       "{'Abstract': {'loc': 553},\n",
       " 'Abstract Tech': {'loc': 761},\n",
       " 'Acid Pixie': {'loc': 599},\n",
       " 'Acidwave': {'loc': 432},\n",
       " 'Adventurecore': {'loc': 1750},\n",
       " 'Afrofuturism': {'loc': 982},\n",
       " 'Afro-Victorian': {'loc': 981},\n",
       " 'After Hours': {'loc': 688},\n",
       " 'Agropeople': {'loc': 530},\n",
       " 'Alien': {'loc': 396},\n",
       " 'Alternative': {'loc': 2029},\n",
       " 'Americana': {'loc': 2793},\n",
       " 'American Pioneers': {'loc': 1373},\n",
       " 'American Revolution': {'loc': 207},\n",
       " 'Androgynous': {'loc': 391},\n",
       " 'Anemoiacore': {'loc': 1029},\n",
       " 'Angelcore': {'loc': 1983},\n",
       " 'Anglocore': {'loc': 346},\n",
       " 'Anglo Gothic': {'loc': 604},\n",
       " 'Angura Kei': {'loc': 342},\n",
       " 'Animecore': {'loc': 1217},\n",
       " 'Anti-Fashion': {'loc': 401},\n",
       " 'Applecore': {'loc': 320},\n",
       " 'Art Academia': {'loc': 974},\n",
       " 'Arts and Crafts': {'loc': 11},\n",
       " 'Art Deco': {'loc': 965},\n",
       " 'Art Hoe': {'loc': 998},\n",
       " 'Art Nouveau': {'loc': 364},\n",
       " 'Artistiekelingen': {'loc': 204},\n",
       " 'Athlete': {'loc': 697},\n",
       " 'Atompunk': {'loc': 897},\n",
       " 'Auroracore': {'loc': 1018},\n",
       " 'Autumn': {'loc': 529},\n",
       " 'Avant-garde': {'loc': 361},\n",
       " 'Babycore': {'loc': 745},\n",
       " 'Babygirl': {'loc': 2018},\n",
       " 'Barbiecore': {'loc': 1219},\n",
       " 'Bardcore': {'loc': 596},\n",
       " 'Baddie': {'loc': 1722},\n",
       " 'Ballet Academia': {'loc': 595},\n",
       " 'Baroque': {'loc': 1093},\n",
       " 'Bastardcore': {'loc': 746},\n",
       " 'Beatnik': {'loc': 355},\n",
       " 'Bibliopunk': {'loc': 383},\n",
       " 'Biker': {'loc': 631},\n",
       " 'Bills': {'loc': 150},\n",
       " 'Bimbo Casual': {'loc': 424},\n",
       " 'Biopunk': {'loc': 409},\n",
       " 'Bizarro Fiction': {'loc': 684},\n",
       " 'Blob Web': {'loc': 526},\n",
       " 'Bookstore Girl': {'loc': 407},\n",
       " 'Bloomcore': {'loc': 626},\n",
       " 'Bodikon': {'loc': 1863},\n",
       " 'Bogan': {'loc': 131},\n",
       " 'Bohemian': {'loc': 455},\n",
       " 'Bombacore': {'loc': 277},\n",
       " 'Bosozoku': {'loc': 225},\n",
       " 'Boujee': {'loc': 1108},\n",
       " 'Breakcore': {'loc': 1453},\n",
       " 'Brocore': {'loc': 856},\n",
       " 'Bronzepunk': {'loc': 297},\n",
       " 'Britpop': {'loc': 279},\n",
       " 'Bubble Goth': {'loc': 352},\n",
       " 'Bubblegum Bitch': {'loc': 1068},\n",
       " 'Bubblegum Witch': {'loc': 461},\n",
       " 'Bunnycore': {'loc': 477},\n",
       " 'Butterfly': {'loc': 447},\n",
       " 'Cabincore': {'loc': 1038},\n",
       " 'Cagole': {'loc': 371},\n",
       " 'Camp': {'loc': 1100},\n",
       " 'Campcore': {'loc': 394},\n",
       " 'Candycore': {'loc': 537},\n",
       " 'Caninecore': {'loc': 1791},\n",
       " 'Carcore': {'loc': 569},\n",
       " 'Cargopunk': {'loc': 325},\n",
       " 'Carnivalcore': {'loc': 609},\n",
       " 'Cartelcore': {'loc': 423},\n",
       " 'Cartooncore': {'loc': 997},\n",
       " 'Casino': {'loc': 542},\n",
       " 'Cassette Futurism': {'loc': 295},\n",
       " 'Changelingcore': {'loc': 662},\n",
       " 'Chav': {'loc': 1335},\n",
       " 'Cherry Emoji Twitter': {'loc': 711},\n",
       " 'Chic Modernist': {'loc': 600},\n",
       " 'Cholo': {'loc': 514},\n",
       " 'Christcore': {'loc': 444},\n",
       " 'Christian Girl Autumn': {'loc': 606},\n",
       " 'Christmas': {'loc': 1387},\n",
       " 'Chaotic Academia': {'loc': 1847},\n",
       " 'City Pop': {'loc': 1230},\n",
       " 'Classic Academia': {'loc': 674},\n",
       " 'Classic Lolita': {'loc': 295},\n",
       " 'Classicism': {'loc': 659},\n",
       " 'Cleancore': {'loc': 924},\n",
       " 'Clockpunk': {'loc': 197},\n",
       " 'Cloudcore': {'loc': 406},\n",
       " 'Clowncore': {'loc': 1128},\n",
       " 'Club': {'loc': 601},\n",
       " 'Club Kids': {'loc': 1147},\n",
       " 'Coffee House/Cafe': {'loc': 663},\n",
       " 'Comfy/Cozy': {'loc': 826},\n",
       " 'Common White Girl': {'loc': 1051},\n",
       " 'Comiccore': {'loc': 1410},\n",
       " 'Concore': {'loc': 1438},\n",
       " 'Constructivism': {'loc': 369},\n",
       " 'Corporate': {'loc': 763},\n",
       " 'Cottagecore': {'loc': 5146},\n",
       " 'Cottagegore': {'loc': 736},\n",
       " 'Country': {'loc': 843},\n",
       " 'Cowpunk': {'loc': 194},\n",
       " 'C-Pop': {'loc': 275},\n",
       " 'Crackhead': {'loc': 937},\n",
       " 'Craftcore': {'loc': 817},\n",
       " 'Cripplepunk': {'loc': 574},\n",
       " 'Crowcore': {'loc': 524},\n",
       " 'Crustpunk': {'loc': 605},\n",
       " 'Cryptid Academia': {'loc': 861},\n",
       " 'Cryptidcore': {'loc': 1616},\n",
       " 'Crystalcore': {'loc': 644},\n",
       " 'Cubism': {'loc': 735},\n",
       " 'Cuddle Party': {'loc': 508},\n",
       " 'Cultcore': {'loc': 621},\n",
       " 'Cult Party Kei': {'loc': 1061},\n",
       " 'Cyber Minimalism': {'loc': 516},\n",
       " 'Cyberdelic': {'loc': 769},\n",
       " 'Cyberghetto': {'loc': 409},\n",
       " 'Cybergoth': {'loc': 947},\n",
       " 'Cybergrunge': {'loc': 377},\n",
       " 'Cyberpop': {'loc': 863},\n",
       " 'Cyberprep': {'loc': 524},\n",
       " 'Cyberpunk': {'loc': 2288},\n",
       " 'Dadaism': {'loc': 998},\n",
       " 'Dark Paradise': {'loc': 640},\n",
       " 'Dark Academia': {'loc': 7910},\n",
       " 'Dark Naturalism': {'loc': 668},\n",
       " 'Dark Nautical': {'loc': 1027},\n",
       " 'Dark Nymphet': {'loc': 292},\n",
       " 'Darkest Academia': {'loc': 788},\n",
       " 'Daydreampunk': {'loc': 244},\n",
       " 'Dazecore': {'loc': 497},\n",
       " 'Decora': {'loc': 574},\n",
       " 'Decopunk': {'loc': 707},\n",
       " 'Desertwave': {'loc': 651},\n",
       " 'De Stijl': {'loc': 472},\n",
       " 'Devilcore': {'loc': 1224},\n",
       " 'Diner': {'loc': 578},\n",
       " 'Dinocore': {'loc': 468},\n",
       " 'Dieselpunk': {'loc': 565},\n",
       " 'Dollcore': {'loc': 508},\n",
       " 'Dolly Kei': {'loc': 483},\n",
       " 'Dracopunk': {'loc': 234},\n",
       " 'Dragoncore': {'loc': 1666},\n",
       " 'Dreamy': {'loc': 1103},\n",
       " 'Drugcore': {'loc': 789},\n",
       " 'Dual Kawaii': {'loc': 602},\n",
       " 'Dungeon Synth': {'loc': 338},\n",
       " 'Dullcore': {'loc': 560},\n",
       " 'E-Boy': {'loc': 758},\n",
       " 'E-Girl': {'loc': 927},\n",
       " 'Electro Swing': {'loc': 451},\n",
       " 'Emancicore': {'loc': 1039},\n",
       " 'Emo': {'loc': 1156},\n",
       " 'Equestrian': {'loc': 384},\n",
       " 'Ero guro': {'loc': 162},\n",
       " 'Erokawa': {'loc': 423},\n",
       " 'Ethereal': {'loc': 580},\n",
       " 'Expressionism': {'loc': 730},\n",
       " 'Fairy Academia': {'loc': 1016},\n",
       " 'Fairycore': {'loc': 1001},\n",
       " 'Fairy Kei': {'loc': 794},\n",
       " 'Fairy Tale': {'loc': 623},\n",
       " 'Fanfare': {'loc': 1291},\n",
       " 'Fantasy': {'loc': 746},\n",
       " 'Fantasy Astronomy': {'loc': 107},\n",
       " 'Fashwave': {'loc': 1582},\n",
       " 'Fauvism': {'loc': 794},\n",
       " 'Fawncore': {'loc': 530},\n",
       " 'Femme Fatale': {'loc': 1134},\n",
       " 'Film Noir': {'loc': 466},\n",
       " 'Flapper': {'loc': 1280},\n",
       " 'Fluxus Movement': {'loc': 133},\n",
       " 'Foodie': {'loc': 1059},\n",
       " 'Forestpunk': {'loc': 1291},\n",
       " 'Fractal art': {'loc': 260},\n",
       " 'Freak': {'loc': 105},\n",
       " 'French Girl': {'loc': 896},\n",
       " 'Frutiger Aero': {'loc': 752},\n",
       " 'Furry': {'loc': 937},\n",
       " 'Functionalism': {'loc': 132},\n",
       " 'Futago': {'loc': 280},\n",
       " 'Futurism': {'loc': 443},\n",
       " 'Gadgetpunk': {'loc': 215},\n",
       " 'Game Night': {'loc': 328},\n",
       " 'Gamine': {'loc': 606},\n",
       " 'Geek': {'loc': 835},\n",
       " 'Ghostcore': {'loc': 770},\n",
       " 'Girl-Next-Door': {'loc': 339},\n",
       " 'Glam Girl': {'loc': 349},\n",
       " 'Glam Rock': {'loc': 696},\n",
       " 'Glitch': {'loc': 653},\n",
       " 'Gloomcore': {'loc': 710},\n",
       " 'Glowwave': {'loc': 1147},\n",
       " 'Goblincore': {'loc': 1693},\n",
       " 'Goblin Academia': {'loc': 622},\n",
       " 'Golden Age of Detective Fiction': {'loc': 1140},\n",
       " 'Golden Hour': {'loc': 522},\n",
       " 'Gopnik': {'loc': 499},\n",
       " 'Gorecore': {'loc': 655},\n",
       " 'Gorean': {'loc': 185},\n",
       " 'Goth': {'loc': 4115},\n",
       " 'Gothcore': {'loc': 500},\n",
       " 'Gothic': {'loc': 1076},\n",
       " 'Grandmillenial': {'loc': 661},\n",
       " 'Grandparentcore': {'loc': 926},\n",
       " 'Grindhouse': {'loc': 410},\n",
       " 'Grunge': {'loc': 1688},\n",
       " 'Gull Girl': {'loc': 536},\n",
       " 'Gurokawa': {'loc': 661},\n",
       " 'Gyaru': {'loc': 2949},\n",
       " 'Hallyu': {'loc': 1315},\n",
       " 'Hauntology': {'loc': 713},\n",
       " 'Halloween': {'loc': 715},\n",
       " 'Happycore': {'loc': 870},\n",
       " 'Hatecore': {'loc': 439},\n",
       " 'Haussmann Paris': {'loc': 207},\n",
       " 'Health Goth': {'loc': 933},\n",
       " 'Heatwave': {'loc': 498},\n",
       " 'Heistcore': {'loc': 1487},\n",
       " 'Hellenic': {'loc': 1829},\n",
       " 'Hermaphroditus': {'loc': 456},\n",
       " 'High School Dream': {'loc': 836},\n",
       " 'Hikecore': {'loc': 498},\n",
       " 'Hip-Hop': {'loc': 1695},\n",
       " 'Hippie': {'loc': 861},\n",
       " 'Hipster': {'loc': 565},\n",
       " 'Historical Americana': {'loc': 622},\n",
       " 'Holosexual': {'loc': 734},\n",
       " 'Honeycore': {'loc': 893},\n",
       " 'Horror': {'loc': 1379},\n",
       " 'Horror Academia': {'loc': 1649},\n",
       " 'Hot Topic': {'loc': 1138},\n",
       " 'Hustlewave': {'loc': 706},\n",
       " 'Hydrogen': {'loc': 395},\n",
       " 'Hyperpop': {'loc': 928},\n",
       " 'Icepunk': {'loc': 671},\n",
       " 'Impressionism': {'loc': 643},\n",
       " 'Ironpunk': {'loc': 75},\n",
       " 'Indie': {'loc': 1322},\n",
       " 'Internet Academia': {'loc': 650},\n",
       " 'Italo Disco': {'loc': 443},\n",
       " 'Italian Mafia': {'loc': 1060},\n",
       " 'Jamcore': {'loc': 670},\n",
       " 'Jersey Shore': {'loc': 1483},\n",
       " 'Joyride': {'loc': 612},\n",
       " 'Juggalo': {'loc': 478},\n",
       " 'Junglecore': {'loc': 888},\n",
       " 'Junkpunk': {'loc': 21},\n",
       " 'Karasu Zoku': {'loc': 775},\n",
       " 'Kawaii': {'loc': 3658},\n",
       " 'Kawaii Gamer': {'loc': 754},\n",
       " 'Kidcore': {'loc': 1286},\n",
       " 'Kid Science': {'loc': 466},\n",
       " 'Kinderwhore': {'loc': 934},\n",
       " 'Kingcore': {'loc': 711},\n",
       " 'Knightcore': {'loc': 690},\n",
       " 'Kogal': {'loc': 596},\n",
       " 'Kuromicore': {'loc': 500},\n",
       " 'Laborwave': {'loc': 657},\n",
       " 'Lagenlook': {'loc': 153},\n",
       " 'Larme Kei': {'loc': 1295},\n",
       " 'La Sape': {'loc': 614},\n",
       " 'Light Academia': {'loc': 2486},\n",
       " 'Lightningwave': {'loc': 335},\n",
       " 'Lil Girl': {'loc': 315},\n",
       " 'Lit Kid': {'loc': 221},\n",
       " 'Liminal Space': {'loc': 1315},\n",
       " 'Lo-Fi': {'loc': 2056},\n",
       " 'Lolita': {'loc': 3643},\n",
       " 'Lounge': {'loc': 469},\n",
       " 'Lovecore': {'loc': 1346},\n",
       " 'Luminism': {'loc': 517},\n",
       " 'Lunarpunk': {'loc': 824},\n",
       " 'Macaute': {'loc': 571},\n",
       " 'Mad Scientist': {'loc': 290},\n",
       " 'Magenta': {'loc': 238},\n",
       " 'Magewave': {'loc': 435},\n",
       " 'Maidcore': {'loc': 583},\n",
       " 'Malandragem': {'loc': 243},\n",
       " 'Mallgoth': {'loc': 500},\n",
       " 'Mall Ninja': {'loc': 1001},\n",
       " 'Mangas': {'loc': 234},\n",
       " 'Maternity': {'loc': 135},\n",
       " 'McBling': {'loc': 1062},\n",
       " 'Medicalcore': {'loc': 988},\n",
       " 'Medieval': {'loc': 180},\n",
       " 'Memphis': {'loc': 462},\n",
       " 'Metal': {'loc': 1861},\n",
       " 'Metalcore': {'loc': 571},\n",
       " 'Metrosexual': {'loc': 287},\n",
       " 'Miami Metro': {'loc': 411},\n",
       " 'Midwest Emo': {'loc': 1779},\n",
       " 'Midwest Gothic': {'loc': 557},\n",
       " 'Military': {'loc': 2370},\n",
       " 'Milleniwave': {'loc': 4128},\n",
       " 'Milk': {'loc': 463},\n",
       " 'Minimalism': {'loc': 2036},\n",
       " 'Mod': {'loc': 1010},\n",
       " 'Modernism': {'loc': 1232},\n",
       " 'Mori Kei': {'loc': 1312},\n",
       " 'Morute': {'loc': 1621},\n",
       " 'Mote Kei': {'loc': 235},\n",
       " 'Mosscore': {'loc': 755},\n",
       " 'Ms Paint': {'loc': 536},\n",
       " 'Mushroomcore': {'loc': 734},\n",
       " 'Musical Academia': {'loc': 1332},\n",
       " 'Nanopunk': {'loc': 156},\n",
       " 'Natural Philosophy': {'loc': 23},\n",
       " 'Naturecore': {'loc': 587},\n",
       " 'Nautical': {'loc': 579},\n",
       " 'Nazi Chic': {'loc': 784},\n",
       " 'Neko': {'loc': 558},\n",
       " 'Neomilitarism': {'loc': 517},\n",
       " 'Nerd': {'loc': 1465},\n",
       " 'Nerdcore': {'loc': 1356},\n",
       " 'New Age': {'loc': 2057},\n",
       " 'New Romantic': {'loc': 281},\n",
       " 'Neo-Romanism': {'loc': 1917},\n",
       " 'New Wave': {'loc': 241},\n",
       " 'Nintencore': {'loc': 686},\n",
       " 'Normcore': {'loc': 1415},\n",
       " 'Northerness': {'loc': 851},\n",
       " 'Nostalgiacore': {'loc': 1526},\n",
       " 'Nowpunk': {'loc': 143},\n",
       " 'Nozems': {'loc': 101},\n",
       " 'Nuclear': {'loc': 398},\n",
       " 'Nu-Goth': {'loc': 504},\n",
       " 'Nymphet': {'loc': 1782},\n",
       " 'Ocean Academia': {'loc': 1426},\n",
       " 'Ocean Grunge': {'loc': 824},\n",
       " 'Old Hollywood': {'loc': 908},\n",
       " 'Old Web': {'loc': 1053},\n",
       " 'Onii Kei': {'loc': 162},\n",
       " 'Oshare Kei': {'loc': 486},\n",
       " 'Otherkin': {'loc': 1514},\n",
       " 'Pachuco': {'loc': 295},\n",
       " 'Pale': {'loc': 1243},\n",
       " 'Palewave': {'loc': 692},\n",
       " 'Paleocore': {'loc': 429},\n",
       " 'Paninaro': {'loc': 151},\n",
       " 'Party Animal': {'loc': 375},\n",
       " 'Party Kei': {'loc': 386},\n",
       " 'Pastel': {'loc': 484},\n",
       " 'Pastel Academia': {'loc': 3222},\n",
       " 'Pastel Goth': {'loc': 718},\n",
       " 'Pastel Punk': {'loc': 226},\n",
       " 'Peach': {'loc': 1298},\n",
       " 'Pearly': {'loc': 439},\n",
       " 'Peoplehood': {'loc': 424},\n",
       " 'Petcore': {'loc': 439},\n",
       " 'Photorealism': {'loc': 374},\n",
       " 'Pigeoncore': {'loc': 681},\n",
       " 'Pink': {'loc': 491},\n",
       " 'Pin-up': {'loc': 2381},\n",
       " 'Pirate': {'loc': 906},\n",
       " 'Pixel Cutie': {'loc': 612},\n",
       " 'Pixiecore': {'loc': 573},\n",
       " 'Plaguecore': {'loc': 465},\n",
       " 'Plant Mom': {'loc': 909},\n",
       " 'Playboy': {'loc': 1109},\n",
       " 'Pointillism': {'loc': 210},\n",
       " 'Pop': {'loc': 4340},\n",
       " 'Pop Art': {'loc': 749},\n",
       " 'Pop Kei': {'loc': 306},\n",
       " 'Post-Impressionism': {'loc': 212},\n",
       " 'Postmodernism': {'loc': 281},\n",
       " 'Post-Apocalyptic': {'loc': 860},\n",
       " 'Post-rock': {'loc': 435},\n",
       " 'Powwow Step': {'loc': 214},\n",
       " 'Prairiecore': {'loc': 718},\n",
       " 'Preppy': {'loc': 3287},\n",
       " 'Princecore': {'loc': 746},\n",
       " 'Princesscore': {'loc': 1302},\n",
       " 'Progressive Academia': {'loc': 594},\n",
       " 'Psychedelica': {'loc': 632},\n",
       " 'Punk': {'loc': 2283},\n",
       " 'Purism': {'loc': 426},\n",
       " 'Queencore': {'loc': 851},\n",
       " 'Queer Academia': {'loc': 730},\n",
       " 'Queercore': {'loc': 921},\n",
       " 'R&B': {'loc': 14},\n",
       " 'Racaille': {'loc': 326},\n",
       " 'Rainbowcore': {'loc': 998},\n",
       " 'Rainy Day': {'loc': 776},\n",
       " 'Rangercore': {'loc': 322},\n",
       " 'Ratcore': {'loc': 491},\n",
       " 'Ravencore': {'loc': 616},\n",
       " 'Raver': {'loc': 1656},\n",
       " 'Real Life Super Hero': {'loc': 394},\n",
       " 'Realism': {'loc': 321},\n",
       " 'Reefwave': {'loc': 506},\n",
       " 'Regency': {'loc': 870},\n",
       " 'Regional Gothic': {'loc': 297},\n",
       " 'Retro-Futurism': {'loc': 439},\n",
       " 'Rivethead': {'loc': 917},\n",
       " 'Roaring 20s': {'loc': 466},\n",
       " 'Robotics Kids': {'loc': 731},\n",
       " 'Rockabilly': {'loc': 574},\n",
       " 'Rococo': {'loc': 514},\n",
       " 'Rococopunk': {'loc': 143},\n",
       " 'Rollerwave': {'loc': 1237},\n",
       " 'Roma': {'loc': 667},\n",
       " 'Romantic Goth': {'loc': 413},\n",
       " 'Romanticism': {'loc': 1098},\n",
       " 'Romantic Academia': {'loc': 1449},\n",
       " 'Romantic Italian': {'loc': 609},\n",
       " 'Royalcore': {'loc': 3606},\n",
       " 'Rural China': {'loc': 629},\n",
       " 'Rusticcore': {'loc': 290},\n",
       " 'Sadpeople': {'loc': 947},\n",
       " 'Salon Kei': {'loc': 211},\n",
       " 'Sandalpunk': {'loc': 277},\n",
       " 'Sanriocore': {'loc': 709},\n",
       " 'Science Academia': {'loc': 2250},\n",
       " 'Scrapbook': {'loc': 409},\n",
       " 'Scrapper': {'loc': 578},\n",
       " 'Scene': {'loc': 634},\n",
       " 'Scoutcore': {'loc': 566},\n",
       " 'Scuttlers': {'loc': 168},\n",
       " 'Seapunk': {'loc': 1035},\n",
       " 'Selkiecore': {'loc': 1354},\n",
       " 'Shanzhai': {'loc': 245},\n",
       " 'Shā mǎ tè': {'loc': 26},\n",
       " 'Shabby Chic': {'loc': 404},\n",
       " 'Sharpies': {'loc': 582},\n",
       " 'Shironuri': {'loc': 199},\n",
       " 'Sizz': {'loc': 540},\n",
       " 'Skinheads': {'loc': 1121},\n",
       " 'Slimepunk': {'loc': 707},\n",
       " 'Sloanies': {'loc': 2655},\n",
       " 'Slutcore': {'loc': 760},\n",
       " 'Snailcore': {'loc': 219},\n",
       " 'Snowdrop': {'loc': 601},\n",
       " 'Soft Apocalypse': {'loc': 509},\n",
       " 'Softie': {'loc': 1528},\n",
       " 'Soft Macabre': {'loc': 256},\n",
       " 'Soggy': {'loc': 446},\n",
       " 'Solarpunk': {'loc': 1009},\n",
       " 'Soulboys': {'loc': 148},\n",
       " 'Southern Gothic': {'loc': 1237},\n",
       " 'Sovietwave': {'loc': 1164},\n",
       " 'Spacecore': {'loc': 825},\n",
       " 'Sparklecore': {'loc': 375},\n",
       " 'Spiritcore': {'loc': 484},\n",
       " 'Spring': {'loc': 351},\n",
       " 'Spy fiction': {'loc': 23},\n",
       " 'Steampunk': {'loc': 908},\n",
       " 'Steelpunk': {'loc': 469},\n",
       " 'Stilyagi': {'loc': 139},\n",
       " 'Stimwave': {'loc': 285},\n",
       " 'Stonepunk': {'loc': 142},\n",
       " 'Stoner': {'loc': 1087},\n",
       " 'Stripcore': {'loc': 801},\n",
       " 'Studyblr': {'loc': 512},\n",
       " 'Studyplace': {'loc': 271},\n",
       " 'Styla': {'loc': 247},\n",
       " 'Suburban Gothic': {'loc': 733},\n",
       " 'Sukeban': {'loc': 502},\n",
       " 'Summer': {'loc': 482},\n",
       " 'Suprematism': {'loc': 262},\n",
       " 'Surf Crush': {'loc': 780},\n",
       " 'Surrealism': {'loc': 359},\n",
       " 'Surreal Memer': {'loc': 419},\n",
       " 'Swenkas': {'loc': 249},\n",
       " 'Swordpunk': {'loc': 278},\n",
       " 'Synthwave': {'loc': 1780},\n",
       " 'Takenokozoku': {'loc': 322},\n",
       " 'Tenwave': {'loc': 527},\n",
       " 'Techwear': {'loc': 271},\n",
       " 'Teddies': {'loc': 626},\n",
       " 'Technical Scene': {'loc': 375},\n",
       " 'Teethcore': {'loc': 315},\n",
       " 'Theatre Academia': {'loc': 672},\n",
       " 'Theatre Kids': {'loc': 625},\n",
       " 'Thrasher': {'loc': 998},\n",
       " 'Thriftcore': {'loc': 498},\n",
       " 'Tomboy': {'loc': 685},\n",
       " 'Trad Goth': {'loc': 342},\n",
       " 'Traditional Polish': {'loc': 1620},\n",
       " 'Trailer Park Princess': {'loc': 700},\n",
       " 'Trashcore': {'loc': 501},\n",
       " 'Traumacore': {'loc': 2867},\n",
       " 'Trendercore': {'loc': 1016},\n",
       " 'Trillwave': {'loc': 3590},\n",
       " 'Tropical': {'loc': 1298},\n",
       " 'Tupinipunk': {'loc': 280},\n",
       " 'Tweencore': {'loc': 638},\n",
       " 'Twee': {'loc': 1233},\n",
       " 'Ukiyo-e': {'loc': 178},\n",
       " 'Ulzzang': {'loc': 222},\n",
       " 'Urbancore': {'loc': 1148},\n",
       " 'Unicorncore': {'loc': 1387},\n",
       " 'Vacation Dadcore': {'loc': 1765},\n",
       " 'Vampire': {'loc': 1525},\n",
       " 'Vaporwave': {'loc': 4913},\n",
       " 'Vibrant Academia': {'loc': 1148},\n",
       " 'Victorian': {'loc': 773},\n",
       " 'Victorian Goth': {'loc': 250},\n",
       " 'Viking': {'loc': 575},\n",
       " 'Vintage': {'loc': 455},\n",
       " 'Vintage Academia': {'loc': 1037},\n",
       " 'Vintage Parisian': {'loc': 1543},\n",
       " \"Virgo's Tears\": {'loc': 291},\n",
       " 'Visual Kei': {'loc': 902},\n",
       " 'VSCO': {'loc': 1368},\n",
       " 'Voidpunk': {'loc': 673},\n",
       " 'Vorticism': {'loc': 282},\n",
       " 'Vulture Culture': {'loc': 280},\n",
       " 'Wabi-Sabi': {'loc': 208},\n",
       " 'Waif': {'loc': 2138},\n",
       " 'Waldorf': {'loc': 1072},\n",
       " 'Wanderlust': {'loc': 297},\n",
       " 'Wandervogel': {'loc': 115},\n",
       " 'Warmcore': {'loc': 265},\n",
       " 'Web Creep': {'loc': 645},\n",
       " 'Weirdcore': {'loc': 1338},\n",
       " 'Western': {'loc': 1829},\n",
       " 'Winter': {'loc': 375},\n",
       " 'Witchy Academia': {'loc': 754},\n",
       " 'Witch House': {'loc': 808},\n",
       " 'Witchcore': {'loc': 1364},\n",
       " 'Wizardcore': {'loc': 359},\n",
       " 'Wonderland': {'loc': 464},\n",
       " 'Woodland Goth': {'loc': 23},\n",
       " 'Wormcore': {'loc': 681},\n",
       " 'Writer Academia': {'loc': 1074},\n",
       " 'Y2K': {'loc': 2716},\n",
       " 'Yakuza': {'loc': 380},\n",
       " 'Yami Kawaii': {'loc': 1276},\n",
       " 'Yankeecore': {'loc': 472},\n",
       " 'Yanki': {'loc': 449},\n",
       " 'Yume Kawaii': {'loc': 706},\n",
       " 'Yandere': {'loc': 1302},\n",
       " 'Zazou': {'loc': 131},\n",
       " 'Zef': {'loc': 183},\n",
       " 'Zentai': {'loc': 684},\n",
       " 'Zombiecore': {'loc': 217},\n",
       " '1950s Suburbia': {'loc': 1378},\n",
       " '2 Tone': {'loc': 523},\n",
       " '70s Disco': {'loc': 210}}"
      ]
     },
     "execution_count": 17,
     "metadata": {},
     "output_type": "execute_result"
    }
   ],
   "source": [
    "loc"
   ]
  },
  {
   "cell_type": "code",
   "execution_count": 18,
   "id": "bfd128e9",
   "metadata": {
    "ExecuteTime": {
     "end_time": "2021-12-02T14:55:55.917079Z",
     "start_time": "2021-12-02T14:55:55.876185Z"
    }
   },
   "outputs": [
    {
     "ename": "TypeError",
     "evalue": "unsupported operand type(s) for +: 'int' and 'dict'",
     "output_type": "error",
     "traceback": [
      "\u001b[1;31m---------------------------------------------------------------------------\u001b[0m",
      "\u001b[1;31mTypeError\u001b[0m                                 Traceback (most recent call last)",
      "\u001b[1;32m<ipython-input-18-72a06fb1083c>\u001b[0m in \u001b[0;36m<module>\u001b[1;34m\u001b[0m\n\u001b[1;32m----> 1\u001b[1;33m \u001b[0msum\u001b[0m\u001b[1;33m(\u001b[0m\u001b[1;33m[\u001b[0m\u001b[0mloc\u001b[0m\u001b[1;33m[\u001b[0m\u001b[0md\u001b[0m\u001b[1;33m]\u001b[0m \u001b[1;32mfor\u001b[0m \u001b[0md\u001b[0m \u001b[1;32min\u001b[0m \u001b[0mloc\u001b[0m\u001b[1;33m]\u001b[0m\u001b[1;33m)\u001b[0m\u001b[1;33m/\u001b[0m\u001b[0mlen\u001b[0m\u001b[1;33m(\u001b[0m\u001b[0mloc\u001b[0m\u001b[1;33m)\u001b[0m\u001b[1;33m\u001b[0m\u001b[1;33m\u001b[0m\u001b[0m\n\u001b[0m",
      "\u001b[1;31mTypeError\u001b[0m: unsupported operand type(s) for +: 'int' and 'dict'"
     ]
    }
   ],
   "source": [
    "sum([loc[d] for d in loc])/len(loc)"
   ]
  },
  {
   "cell_type": "code",
   "execution_count": 19,
   "id": "676e64cc",
   "metadata": {
    "ExecuteTime": {
     "end_time": "2021-12-02T14:55:59.461099Z",
     "start_time": "2021-12-02T14:55:59.455114Z"
    }
   },
   "outputs": [
    {
     "data": {
      "text/plain": [
       "True"
      ]
     },
     "execution_count": 19,
     "metadata": {},
     "output_type": "execute_result"
    }
   ],
   "source": [
    "\"Sadpeople\" in DG"
   ]
  },
  {
   "cell_type": "code",
   "execution_count": 20,
   "id": "6feeb449",
   "metadata": {
    "ExecuteTime": {
     "end_time": "2021-12-02T14:56:01.765275Z",
     "start_time": "2021-12-02T14:56:01.494496Z"
    }
   },
   "outputs": [],
   "source": [
    "##re.split('}}', content_char)[0]\n",
    "egdes={}\n",
    "for char in DG:\n",
    "    char_file = char.replace('/','_')\n",
    "    with open('aesthetics/'+f'{char_file}.txt', 'r') as f:\n",
    "        a = f.read().replace('\\n', '')\n",
    "        pol = list(set(re.findall(r'\\[\\[([\\w\\s]*).*?\\]\\]', a)))\n",
    "    table = str(re.findall(r'(?<=\\{\\{).*?(?=\\}\\})', a))\n",
    "\n",
    "    \n",
    "    connections = [x for x in list(set(re.findall(r'(?<=\\[\\[).*?(?=\\]\\])', table))) if x in DG]\n",
    "    \n",
    "    for c in connections:\n",
    "        DG.add_edge(char, c )"
   ]
  },
  {
   "cell_type": "code",
   "execution_count": 21,
   "id": "dedd765d",
   "metadata": {
    "ExecuteTime": {
     "end_time": "2021-12-02T14:56:02.203454Z",
     "start_time": "2021-12-02T14:56:02.197471Z"
    }
   },
   "outputs": [
    {
     "data": {
      "text/plain": [
       "3293"
      ]
     },
     "execution_count": 21,
     "metadata": {},
     "output_type": "execute_result"
    }
   ],
   "source": [
    "len(DG.edges())"
   ]
  },
  {
   "cell_type": "code",
   "execution_count": 22,
   "id": "1f396ea0",
   "metadata": {
    "ExecuteTime": {
     "end_time": "2021-12-02T14:56:04.276539Z",
     "start_time": "2021-12-02T14:56:04.260583Z"
    }
   },
   "outputs": [],
   "source": [
    "# Defining node colors and edge colors\n",
    "d = dict(DG.degree)\n",
    "#mapping = {\"Enemy\": '#D22B2B', \"Boss\": '#FFD700', \"Ally\": '#63D1F4'}\n",
    "colors = [\"Green\"]\n",
    "edge_colors = ['Blue']"
   ]
  },
  {
   "cell_type": "code",
   "execution_count": 23,
   "id": "ffa94b07",
   "metadata": {
    "ExecuteTime": {
     "end_time": "2021-12-02T14:39:47.634615Z",
     "start_time": "2021-12-02T14:39:45.533570Z"
    }
   },
   "outputs": [
    {
     "name": "stderr",
     "output_type": "stream",
     "text": [
      "ERROR: Could not find a version that satisfies the requirement NetworkxD3\n",
      "ERROR: No matching distribution found for NetworkxD3\n"
     ]
    }
   ],
   "source": [
    "!pip install NetworkxD3"
   ]
  },
  {
   "cell_type": "code",
   "execution_count": 25,
   "id": "39650526",
   "metadata": {
    "ExecuteTime": {
     "end_time": "2021-12-02T14:53:21.162095Z",
     "start_time": "2021-12-02T14:53:20.154452Z"
    }
   },
   "outputs": [
    {
     "name": "stderr",
     "output_type": "stream",
     "text": [
      "C:\\Users\\Gabo\\anaconda3\\lib\\site-packages\\dash_bootstrap_components\\_table.py:5: UserWarning: \n",
      "The dash_html_components package is deprecated. Please replace\n",
      "`import dash_html_components as html` with `from dash import html`\n",
      "  import dash_html_components as html\n"
     ]
    }
   ],
   "source": [
    "import jaal"
   ]
  },
  {
   "cell_type": "code",
   "execution_count": 26,
   "id": "7a5c4579",
   "metadata": {
    "ExecuteTime": {
     "end_time": "2021-12-02T15:10:45.508198Z",
     "start_time": "2021-12-02T15:10:45.492242Z"
    }
   },
   "outputs": [
    {
     "ename": "NameError",
     "evalue": "name 'UGCC' is not defined",
     "output_type": "error",
     "traceback": [
      "\u001b[1;31m---------------------------------------------------------------------------\u001b[0m",
      "\u001b[1;31mNameError\u001b[0m                                 Traceback (most recent call last)",
      "\u001b[1;32m<ipython-input-26-a31d6a879be1>\u001b[0m in \u001b[0;36m<module>\u001b[1;34m\u001b[0m\n\u001b[1;32m----> 1\u001b[1;33m \u001b[0mUGCC\u001b[0m\u001b[1;33m.\u001b[0m\u001b[0mnodes\u001b[0m\u001b[1;33m[\u001b[0m\u001b[1;34m'Abstract'\u001b[0m\u001b[1;33m]\u001b[0m\u001b[1;33m[\u001b[0m\u001b[1;34m'loc'\u001b[0m\u001b[1;33m]\u001b[0m\u001b[1;33m\u001b[0m\u001b[1;33m\u001b[0m\u001b[0m\n\u001b[0m",
      "\u001b[1;31mNameError\u001b[0m: name 'UGCC' is not defined"
     ]
    }
   ],
   "source": [
    "UGCC.nodes['Abstract']['loc']"
   ]
  },
  {
   "cell_type": "code",
   "execution_count": 118,
   "id": "925a0a93",
   "metadata": {
    "ExecuteTime": {
     "end_time": "2021-12-02T15:10:34.192576Z",
     "start_time": "2021-12-02T15:10:34.179611Z"
    }
   },
   "outputs": [],
   "source": [
    "nx.set_node_attributes(UGCC, loc)"
   ]
  },
  {
   "cell_type": "code",
   "execution_count": 141,
   "id": "deff5fe6",
   "metadata": {
    "ExecuteTime": {
     "end_time": "2021-12-02T15:46:25.602201Z",
     "start_time": "2021-12-02T15:46:25.584249Z"
    }
   },
   "outputs": [
    {
     "ename": "KeyError",
     "evalue": "'index'",
     "output_type": "error",
     "traceback": [
      "\u001b[1;31m---------------------------------------------------------------------------\u001b[0m",
      "\u001b[1;31mKeyError\u001b[0m                                  Traceback (most recent call last)",
      "\u001b[1;32m~\\AppData\\Local\\Temp/ipykernel_35164/691814681.py\u001b[0m in \u001b[0;36m<module>\u001b[1;34m\u001b[0m\n\u001b[1;32m----> 1\u001b[1;33m \u001b[0mG\u001b[0m\u001b[1;33m.\u001b[0m\u001b[0mnodes\u001b[0m\u001b[1;33m[\u001b[0m\u001b[0mstart_node\u001b[0m\u001b[1;33m]\u001b[0m\u001b[1;33m[\u001b[0m\u001b[1;34m'index'\u001b[0m\u001b[1;33m]\u001b[0m\u001b[1;33m\u001b[0m\u001b[1;33m\u001b[0m\u001b[0m\n\u001b[0m",
      "\u001b[1;31mKeyError\u001b[0m: 'index'"
     ]
    }
   ],
   "source": [
    "G.nodes[start_node]['index']"
   ]
  },
  {
   "cell_type": "code",
   "execution_count": 153,
   "id": "482e1983",
   "metadata": {
    "ExecuteTime": {
     "end_time": "2021-12-02T15:56:09.666100Z",
     "start_time": "2021-12-02T15:56:09.637178Z"
    }
   },
   "outputs": [
    {
     "data": {
      "text/plain": [
       "{'Abstract': {'loc': 553},\n",
       " 'Abstract Tech': {'loc': 761},\n",
       " 'Acid Pixie': {'loc': 599},\n",
       " 'Acidwave': {'loc': 432},\n",
       " 'Adventurecore': {'loc': 1750},\n",
       " 'Afrofuturism': {'loc': 982},\n",
       " 'Afro-Victorian': {'loc': 981},\n",
       " 'After Hours': {'loc': 688},\n",
       " 'Agropeople': {'loc': 530},\n",
       " 'Alien': {'loc': 396},\n",
       " 'Alternative': {'loc': 2029},\n",
       " 'Americana': {'loc': 2793},\n",
       " 'American Pioneers': {'loc': 1373},\n",
       " 'American Revolution': {'loc': 207},\n",
       " 'Androgynous': {'loc': 391},\n",
       " 'Anemoiacore': {'loc': 1029},\n",
       " 'Angelcore': {'loc': 1983},\n",
       " 'Anglocore': {'loc': 346},\n",
       " 'Anglo Gothic': {'loc': 604},\n",
       " 'Angura Kei': {'loc': 342},\n",
       " 'Animecore': {'loc': 1217},\n",
       " 'Anti-Fashion': {'loc': 401},\n",
       " 'Applecore': {'loc': 320},\n",
       " 'Art Academia': {'loc': 974},\n",
       " 'Arts and Crafts': {'loc': 11},\n",
       " 'Art Deco': {'loc': 965},\n",
       " 'Art Hoe': {'loc': 998},\n",
       " 'Art Nouveau': {'loc': 364},\n",
       " 'Artistiekelingen': {'loc': 204},\n",
       " 'Athlete': {'loc': 697},\n",
       " 'Atompunk': {'loc': 897},\n",
       " 'Auroracore': {'loc': 1018},\n",
       " 'Autumn': {'loc': 529},\n",
       " 'Avant-garde': {'loc': 361},\n",
       " 'Babycore': {'loc': 745},\n",
       " 'Babygirl': {'loc': 2018},\n",
       " 'Barbiecore': {'loc': 1219},\n",
       " 'Bardcore': {'loc': 596},\n",
       " 'Baddie': {'loc': 1722},\n",
       " 'Ballet Academia': {'loc': 595},\n",
       " 'Baroque': {'loc': 1093},\n",
       " 'Bastardcore': {'loc': 746},\n",
       " 'Beatnik': {'loc': 355},\n",
       " 'Bibliopunk': {'loc': 383},\n",
       " 'Biker': {'loc': 631},\n",
       " 'Bills': {'loc': 150},\n",
       " 'Bimbo Casual': {'loc': 424},\n",
       " 'Biopunk': {'loc': 409},\n",
       " 'Bizarro Fiction': {'loc': 684},\n",
       " 'Blob Web': {'loc': 526},\n",
       " 'Bookstore Girl': {'loc': 407},\n",
       " 'Bloomcore': {'loc': 626},\n",
       " 'Bodikon': {'loc': 1863},\n",
       " 'Bogan': {'loc': 131},\n",
       " 'Bohemian': {'loc': 455},\n",
       " 'Bombacore': {'loc': 277},\n",
       " 'Bosozoku': {'loc': 225},\n",
       " 'Boujee': {'loc': 1108},\n",
       " 'Breakcore': {'loc': 1453},\n",
       " 'Brocore': {'loc': 856},\n",
       " 'Bronzepunk': {'loc': 297},\n",
       " 'Britpop': {'loc': 279},\n",
       " 'Bubble Goth': {'loc': 352},\n",
       " 'Bubblegum Bitch': {'loc': 1068},\n",
       " 'Bubblegum Witch': {'loc': 461},\n",
       " 'Bunnycore': {'loc': 477},\n",
       " 'Butterfly': {'loc': 447},\n",
       " 'Cabincore': {'loc': 1038},\n",
       " 'Cagole': {'loc': 371},\n",
       " 'Camp': {'loc': 1100},\n",
       " 'Campcore': {'loc': 394},\n",
       " 'Candycore': {'loc': 537},\n",
       " 'Caninecore': {'loc': 1791},\n",
       " 'Carcore': {'loc': 569},\n",
       " 'Cargopunk': {'loc': 325},\n",
       " 'Carnivalcore': {'loc': 609},\n",
       " 'Cartelcore': {'loc': 423},\n",
       " 'Cartooncore': {'loc': 997},\n",
       " 'Casino': {'loc': 542},\n",
       " 'Cassette Futurism': {'loc': 295},\n",
       " 'Changelingcore': {'loc': 662},\n",
       " 'Chav': {'loc': 1335},\n",
       " 'Cherry Emoji Twitter': {'loc': 711},\n",
       " 'Chic Modernist': {'loc': 600},\n",
       " 'Cholo': {'loc': 514},\n",
       " 'Christcore': {'loc': 444},\n",
       " 'Christian Girl Autumn': {'loc': 606},\n",
       " 'Christmas': {'loc': 1387},\n",
       " 'Chaotic Academia': {'loc': 1847},\n",
       " 'City Pop': {'loc': 1230},\n",
       " 'Classic Academia': {'loc': 674},\n",
       " 'Classic Lolita': {'loc': 295},\n",
       " 'Classicism': {'loc': 659},\n",
       " 'Cleancore': {'loc': 924},\n",
       " 'Clockpunk': {'loc': 197},\n",
       " 'Cloudcore': {'loc': 406},\n",
       " 'Clowncore': {'loc': 1128},\n",
       " 'Club': {'loc': 601},\n",
       " 'Club Kids': {'loc': 1147},\n",
       " 'Coffee House/Cafe': {'loc': 663},\n",
       " 'Comfy/Cozy': {'loc': 826},\n",
       " 'Common White Girl': {'loc': 1051},\n",
       " 'Comiccore': {'loc': 1410},\n",
       " 'Concore': {'loc': 1438},\n",
       " 'Constructivism': {'loc': 369},\n",
       " 'Corporate': {'loc': 763},\n",
       " 'Cottagecore': {'loc': 5146},\n",
       " 'Cottagegore': {'loc': 736},\n",
       " 'Country': {'loc': 843},\n",
       " 'Cowpunk': {'loc': 194},\n",
       " 'C-Pop': {'loc': 275},\n",
       " 'Crackhead': {'loc': 937},\n",
       " 'Craftcore': {'loc': 817},\n",
       " 'Cripplepunk': {'loc': 574},\n",
       " 'Crowcore': {'loc': 524},\n",
       " 'Crustpunk': {'loc': 605},\n",
       " 'Cryptid Academia': {'loc': 861},\n",
       " 'Cryptidcore': {'loc': 1616},\n",
       " 'Crystalcore': {'loc': 644},\n",
       " 'Cubism': {'loc': 735},\n",
       " 'Cuddle Party': {'loc': 508},\n",
       " 'Cultcore': {'loc': 621},\n",
       " 'Cult Party Kei': {'loc': 1061},\n",
       " 'Cyber Minimalism': {'loc': 516},\n",
       " 'Cyberdelic': {'loc': 769},\n",
       " 'Cyberghetto': {'loc': 409},\n",
       " 'Cybergoth': {'loc': 947},\n",
       " 'Cybergrunge': {'loc': 377},\n",
       " 'Cyberpop': {'loc': 863},\n",
       " 'Cyberprep': {'loc': 524},\n",
       " 'Cyberpunk': {'loc': 2288},\n",
       " 'Dadaism': {'loc': 998},\n",
       " 'Dark Paradise': {'loc': 640},\n",
       " 'Dark Academia': {'loc': 7910},\n",
       " 'Dark Naturalism': {'loc': 668},\n",
       " 'Dark Nautical': {'loc': 1027},\n",
       " 'Dark Nymphet': {'loc': 292},\n",
       " 'Darkest Academia': {'loc': 788},\n",
       " 'Daydreampunk': {'loc': 244},\n",
       " 'Dazecore': {'loc': 497},\n",
       " 'Decora': {'loc': 574},\n",
       " 'Decopunk': {'loc': 707},\n",
       " 'Desertwave': {'loc': 651},\n",
       " 'De Stijl': {'loc': 472},\n",
       " 'Devilcore': {'loc': 1224},\n",
       " 'Diner': {'loc': 578},\n",
       " 'Dinocore': {'loc': 468},\n",
       " 'Dieselpunk': {'loc': 565},\n",
       " 'Dollcore': {'loc': 508},\n",
       " 'Dolly Kei': {'loc': 483},\n",
       " 'Dracopunk': {'loc': 234},\n",
       " 'Dragoncore': {'loc': 1666},\n",
       " 'Dreamy': {'loc': 1103},\n",
       " 'Drugcore': {'loc': 789},\n",
       " 'Dual Kawaii': {'loc': 602},\n",
       " 'Dungeon Synth': {'loc': 338},\n",
       " 'Dullcore': {'loc': 560},\n",
       " 'E-Boy': {'loc': 758},\n",
       " 'E-Girl': {'loc': 927},\n",
       " 'Electro Swing': {'loc': 451},\n",
       " 'Emancicore': {'loc': 1039},\n",
       " 'Emo': {'loc': 1156},\n",
       " 'Equestrian': {'loc': 384},\n",
       " 'Ero guro': {'loc': 162},\n",
       " 'Erokawa': {'loc': 423},\n",
       " 'Ethereal': {'loc': 580},\n",
       " 'Expressionism': {'loc': 730},\n",
       " 'Fairy Academia': {'loc': 1016},\n",
       " 'Fairycore': {'loc': 1001},\n",
       " 'Fairy Kei': {'loc': 794},\n",
       " 'Fairy Tale': {'loc': 623},\n",
       " 'Fanfare': {'loc': 1291},\n",
       " 'Fantasy': {'loc': 746},\n",
       " 'Fantasy Astronomy': {'loc': 107},\n",
       " 'Fashwave': {'loc': 1582},\n",
       " 'Fauvism': {'loc': 794},\n",
       " 'Fawncore': {'loc': 530},\n",
       " 'Femme Fatale': {'loc': 1134},\n",
       " 'Film Noir': {'loc': 466},\n",
       " 'Flapper': {'loc': 1280},\n",
       " 'Fluxus Movement': {'loc': 133},\n",
       " 'Foodie': {'loc': 1059},\n",
       " 'Forestpunk': {'loc': 1291},\n",
       " 'Fractal art': {'loc': 260},\n",
       " 'Freak': {'loc': 105},\n",
       " 'French Girl': {'loc': 896},\n",
       " 'Frutiger Aero': {'loc': 752},\n",
       " 'Furry': {'loc': 937},\n",
       " 'Functionalism': {'loc': 132},\n",
       " 'Futago': {'loc': 280},\n",
       " 'Futurism': {'loc': 443},\n",
       " 'Gadgetpunk': {'loc': 215},\n",
       " 'Game Night': {'loc': 328},\n",
       " 'Gamine': {'loc': 606},\n",
       " 'Geek': {'loc': 835},\n",
       " 'Ghostcore': {'loc': 770},\n",
       " 'Girl-Next-Door': {'loc': 339},\n",
       " 'Glam Girl': {'loc': 349},\n",
       " 'Glam Rock': {'loc': 696},\n",
       " 'Glitch': {'loc': 653},\n",
       " 'Gloomcore': {'loc': 710},\n",
       " 'Glowwave': {'loc': 1147},\n",
       " 'Goblincore': {'loc': 1693},\n",
       " 'Goblin Academia': {'loc': 613},\n",
       " 'Golden Age of Detective Fiction': {'loc': 1140},\n",
       " 'Golden Hour': {'loc': 522},\n",
       " 'Gopnik': {'loc': 499},\n",
       " 'Gorecore': {'loc': 655},\n",
       " 'Gorean': {'loc': 185},\n",
       " 'Goth': {'loc': 4115},\n",
       " 'Gothcore': {'loc': 500},\n",
       " 'Gothic': {'loc': 1076},\n",
       " 'Grandmillenial': {'loc': 661},\n",
       " 'Grandparentcore': {'loc': 926},\n",
       " 'Grindhouse': {'loc': 410},\n",
       " 'Grunge': {'loc': 1688},\n",
       " 'Gull Girl': {'loc': 536},\n",
       " 'Gurokawa': {'loc': 661},\n",
       " 'Gyaru': {'loc': 2949},\n",
       " 'Hallyu': {'loc': 1315},\n",
       " 'Hauntology': {'loc': 713},\n",
       " 'Halloween': {'loc': 715},\n",
       " 'Happycore': {'loc': 870},\n",
       " 'Hatecore': {'loc': 439},\n",
       " 'Haussmann Paris': {'loc': 207},\n",
       " 'Health Goth': {'loc': 933},\n",
       " 'Heatwave': {'loc': 498},\n",
       " 'Heistcore': {'loc': 1487},\n",
       " 'Hellenic': {'loc': 1829},\n",
       " 'Hermaphroditus': {'loc': 456},\n",
       " 'High School Dream': {'loc': 836},\n",
       " 'Hikecore': {'loc': 498},\n",
       " 'Hip-Hop': {'loc': 1695},\n",
       " 'Hippie': {'loc': 861},\n",
       " 'Hipster': {'loc': 565},\n",
       " 'Historical Americana': {'loc': 622},\n",
       " 'Holosexual': {'loc': 734},\n",
       " 'Honeycore': {'loc': 893},\n",
       " 'Horror': {'loc': 1379},\n",
       " 'Horror Academia': {'loc': 1649},\n",
       " 'Hot Topic': {'loc': 1138},\n",
       " 'Hustlewave': {'loc': 706},\n",
       " 'Hydrogen': {'loc': 395},\n",
       " 'Hyperpop': {'loc': 928},\n",
       " 'Icepunk': {'loc': 671},\n",
       " 'Impressionism': {'loc': 643},\n",
       " 'Ironpunk': {'loc': 75},\n",
       " 'Indie': {'loc': 1322},\n",
       " 'Internet Academia': {'loc': 650},\n",
       " 'Italo Disco': {'loc': 443},\n",
       " 'Italian Mafia': {'loc': 1060},\n",
       " 'Jamcore': {'loc': 670},\n",
       " 'Jersey Shore': {'loc': 1483},\n",
       " 'Joyride': {'loc': 612},\n",
       " 'Juggalo': {'loc': 478},\n",
       " 'Junglecore': {'loc': 888},\n",
       " 'Junkpunk': {'loc': 21},\n",
       " 'Karasu Zoku': {'loc': 775},\n",
       " 'Kawaii': {'loc': 3658},\n",
       " 'Kidcore': {'loc': 1286},\n",
       " 'Kid Science': {'loc': 466},\n",
       " 'Kinderwhore': {'loc': 934},\n",
       " 'Kingcore': {'loc': 711},\n",
       " 'Knightcore': {'loc': 690},\n",
       " 'Kogal': {'loc': 596},\n",
       " 'Kuromicore': {'loc': 500},\n",
       " 'Laborwave': {'loc': 657},\n",
       " 'Lagenlook': {'loc': 153},\n",
       " 'Larme Kei': {'loc': 1295},\n",
       " 'La Sape': {'loc': 614},\n",
       " 'Light Academia': {'loc': 2486},\n",
       " 'Lightningwave': {'loc': 335},\n",
       " 'Lil Girl': {'loc': 315},\n",
       " 'Lit Kid': {'loc': 221},\n",
       " 'Liminal Space': {'loc': 1315},\n",
       " 'Lo-Fi': {'loc': 2056},\n",
       " 'Lolita': {'loc': 3643},\n",
       " 'Lounge': {'loc': 469},\n",
       " 'Lovecore': {'loc': 1346},\n",
       " 'Luminism': {'loc': 517},\n",
       " 'Lunarpunk': {'loc': 824},\n",
       " 'Macaute': {'loc': 571},\n",
       " 'Mad Scientist': {'loc': 290},\n",
       " 'Magenta': {'loc': 238},\n",
       " 'Magewave': {'loc': 435},\n",
       " 'Maidcore': {'loc': 583},\n",
       " 'Malandragem': {'loc': 243},\n",
       " 'Mallgoth': {'loc': 500},\n",
       " 'Mall Ninja': {'loc': 1001},\n",
       " 'Mangas': {'loc': 234},\n",
       " 'Maternity': {'loc': 135},\n",
       " 'McBling': {'loc': 1062},\n",
       " 'Medicalcore': {'loc': 988},\n",
       " 'Medieval': {'loc': 180},\n",
       " 'Memphis': {'loc': 462},\n",
       " 'Metal': {'loc': 1953},\n",
       " 'Metalcore': {'loc': 571},\n",
       " 'Metrosexual': {'loc': 287},\n",
       " 'Miami Metro': {'loc': 411},\n",
       " 'Midwest Emo': {'loc': 1779},\n",
       " 'Midwest Gothic': {'loc': 557},\n",
       " 'Military': {'loc': 2370},\n",
       " 'Milleniwave': {'loc': 4128},\n",
       " 'Milk': {'loc': 463},\n",
       " 'Minimalism': {'loc': 2036},\n",
       " 'Mod': {'loc': 1010},\n",
       " 'Modernism': {'loc': 1232},\n",
       " 'Mori Kei': {'loc': 1312},\n",
       " 'Morute': {'loc': 1621},\n",
       " 'Mote Kei': {'loc': 235},\n",
       " 'Mosscore': {'loc': 755},\n",
       " 'Ms Paint': {'loc': 10},\n",
       " 'Mushroomcore': {'loc': 734},\n",
       " 'Musical Academia': {'loc': 1332},\n",
       " 'Nanopunk': {'loc': 156},\n",
       " 'Natural Philosophy': {'loc': 23},\n",
       " 'Naturecore': {'loc': 587},\n",
       " 'Nautical': {'loc': 579},\n",
       " 'Nazi Chic': {'loc': 784},\n",
       " 'Neko': {'loc': 558},\n",
       " 'Neomilitarism': {'loc': 517},\n",
       " 'Nerd': {'loc': 1465},\n",
       " 'Nerdcore': {'loc': 1356},\n",
       " 'New Age': {'loc': 2057},\n",
       " 'New Romantic': {'loc': 281},\n",
       " 'Neo-Romanism': {'loc': 1917},\n",
       " 'New Wave': {'loc': 241},\n",
       " 'Nintencore': {'loc': 686},\n",
       " 'Normcore': {'loc': 1415},\n",
       " 'Northerness': {'loc': 851},\n",
       " 'Nostalgiacore': {'loc': 1526},\n",
       " 'Nowpunk': {'loc': 143},\n",
       " 'Nozems': {'loc': 101},\n",
       " 'Nuclear': {'loc': 398},\n",
       " 'Nu-Goth': {'loc': 504},\n",
       " 'Nymphet': {'loc': 1782},\n",
       " 'Ocean Academia': {'loc': 1426},\n",
       " 'Ocean Grunge': {'loc': 824},\n",
       " 'Old Hollywood': {'loc': 908},\n",
       " 'Old Web': {'loc': 1053},\n",
       " 'Onii Kei': {'loc': 162},\n",
       " 'Oshare Kei': {'loc': 486},\n",
       " 'Otherkin': {'loc': 1514},\n",
       " 'Pachuco': {'loc': 295},\n",
       " 'Pale': {'loc': 1243},\n",
       " 'Palewave': {'loc': 692},\n",
       " 'Paleocore': {'loc': 429},\n",
       " 'Paninaro': {'loc': 151},\n",
       " 'Party Animal': {'loc': 375},\n",
       " 'Party Kei': {'loc': 386},\n",
       " 'Pastel': {'loc': 484},\n",
       " 'Pastel Academia': {'loc': 3222},\n",
       " 'Pastel Goth': {'loc': 718},\n",
       " 'Pastel Punk': {'loc': 226},\n",
       " 'Peach': {'loc': 1298},\n",
       " 'Pearly': {'loc': 439},\n",
       " 'Peoplehood': {'loc': 424},\n",
       " 'Petcore': {'loc': 439},\n",
       " 'Photorealism': {'loc': 374},\n",
       " 'Pigeoncore': {'loc': 681},\n",
       " 'Pink': {'loc': 491},\n",
       " 'Pin-up': {'loc': 2381},\n",
       " 'Pirate': {'loc': 906},\n",
       " 'Pixel Cutie': {'loc': 612},\n",
       " 'Pixiecore': {'loc': 573},\n",
       " 'Plaguecore': {'loc': 465},\n",
       " 'Plant Mom': {'loc': 909},\n",
       " 'Playboy': {'loc': 1109},\n",
       " 'Pointillism': {'loc': 210},\n",
       " 'Pop': {'loc': 4340},\n",
       " 'Pop Art': {'loc': 749},\n",
       " 'Pop Kei': {'loc': 306},\n",
       " 'Post-Impressionism': {'loc': 212},\n",
       " 'Postmodernism': {'loc': 281},\n",
       " 'Post-Apocalyptic': {'loc': 860},\n",
       " 'Post-rock': {'loc': 435},\n",
       " 'Powwow Step': {'loc': 214},\n",
       " 'Prairiecore': {'loc': 718},\n",
       " 'Preppy': {'loc': 3287},\n",
       " 'Princecore': {'loc': 746},\n",
       " 'Princesscore': {'loc': 1302},\n",
       " 'Progressive Academia': {'loc': 594},\n",
       " 'Psychedelica': {'loc': 632},\n",
       " 'Punk': {'loc': 2283},\n",
       " 'Purism': {'loc': 426},\n",
       " 'Queencore': {'loc': 851},\n",
       " 'Queer Academia': {'loc': 730},\n",
       " 'Queercore': {'loc': 921},\n",
       " 'R&B': {'loc': 14},\n",
       " 'Racaille': {'loc': 326},\n",
       " 'Rainbowcore': {'loc': 998},\n",
       " 'Rainy Day': {'loc': 776},\n",
       " 'Rangercore': {'loc': 322},\n",
       " 'Ratcore': {'loc': 491},\n",
       " 'Ravencore': {'loc': 616},\n",
       " 'Raver': {'loc': 1656},\n",
       " 'Real Life Super Hero': {'loc': 394},\n",
       " 'Realism': {'loc': 321},\n",
       " 'Reefwave': {'loc': 506},\n",
       " 'Regency': {'loc': 870},\n",
       " 'Regional Gothic': {'loc': 297},\n",
       " 'Retro-Futurism': {'loc': 439},\n",
       " 'Rivethead': {'loc': 917},\n",
       " 'Roaring 20s': {'loc': 466},\n",
       " 'Robotics Kids': {'loc': 731},\n",
       " 'Rockabilly': {'loc': 574},\n",
       " 'Rococo': {'loc': 514},\n",
       " 'Rococopunk': {'loc': 143},\n",
       " 'Rollerwave': {'loc': 1237},\n",
       " 'Roma': {'loc': 667},\n",
       " 'Romantic Goth': {'loc': 413},\n",
       " 'Romanticism': {'loc': 1098},\n",
       " 'Romantic Academia': {'loc': 1449},\n",
       " 'Romantic Italian': {'loc': 609},\n",
       " 'Royalcore': {'loc': 3606},\n",
       " 'Rural China': {'loc': 629},\n",
       " 'Rusticcore': {'loc': 290},\n",
       " 'Sadpeople': {'loc': 947},\n",
       " 'Salon Kei': {'loc': 211},\n",
       " 'Sandalpunk': {'loc': 277},\n",
       " 'Sanriocore': {'loc': 709},\n",
       " 'Science Academia': {'loc': 2250},\n",
       " 'Scrapbook': {'loc': 409},\n",
       " 'Scrapper': {'loc': 578},\n",
       " 'Scene': {'loc': 634},\n",
       " 'Scoutcore': {'loc': 566},\n",
       " 'Scuttlers': {'loc': 168},\n",
       " 'Seapunk': {'loc': 1035},\n",
       " 'Selkiecore': {'loc': 1354},\n",
       " 'Shanzhai': {'loc': 245},\n",
       " 'Shā mǎ tè': {'loc': 26},\n",
       " 'Shabby Chic': {'loc': 404},\n",
       " 'Sharpies': {'loc': 582},\n",
       " 'Shironuri': {'loc': 199},\n",
       " 'Sizz': {'loc': 540},\n",
       " 'Skinheads': {'loc': 1121},\n",
       " 'Slimepunk': {'loc': 707},\n",
       " 'Sloanies': {'loc': 2655},\n",
       " 'Slutcore': {'loc': 760},\n",
       " 'Snailcore': {'loc': 219},\n",
       " 'Snowdrop': {'loc': 601},\n",
       " 'Soft Apocalypse': {'loc': 509},\n",
       " 'Softie': {'loc': 1528},\n",
       " 'Soft Macabre': {'loc': 256},\n",
       " 'Soggy': {'loc': 446},\n",
       " 'Solarpunk': {'loc': 1009},\n",
       " 'Soulboys': {'loc': 148},\n",
       " 'Southern Gothic': {'loc': 1237},\n",
       " 'Sovietwave': {'loc': 1164},\n",
       " 'Spacecore': {'loc': 825},\n",
       " 'Sparklecore': {'loc': 375},\n",
       " 'Spiritcore': {'loc': 484},\n",
       " 'Spring': {'loc': 351},\n",
       " 'Spy fiction': {'loc': 23},\n",
       " 'Steampunk': {'loc': 908},\n",
       " 'Steelpunk': {'loc': 469},\n",
       " 'Stilyagi': {'loc': 139},\n",
       " 'Stimwave': {'loc': 285},\n",
       " 'Stonepunk': {'loc': 142},\n",
       " 'Stoner': {'loc': 1087},\n",
       " 'Stripcore': {'loc': 801},\n",
       " 'Studyblr': {'loc': 512},\n",
       " 'Studyplace': {'loc': 271},\n",
       " 'Styla': {'loc': 247},\n",
       " 'Suburban Gothic': {'loc': 733},\n",
       " 'Sukeban': {'loc': 502},\n",
       " 'Summer': {'loc': 482},\n",
       " 'Suprematism': {'loc': 262},\n",
       " 'Surf Crush': {'loc': 780},\n",
       " 'Surrealism': {'loc': 359},\n",
       " 'Surreal Memer': {'loc': 419},\n",
       " 'Swenkas': {'loc': 249},\n",
       " 'Swordpunk': {'loc': 278},\n",
       " 'Synthwave': {'loc': 1780},\n",
       " 'Takenokozoku': {'loc': 322},\n",
       " 'Tenwave': {'loc': 527},\n",
       " 'Techwear': {'loc': 271},\n",
       " 'Teddies': {'loc': 626},\n",
       " 'Technical Scene': {'loc': 375},\n",
       " 'Teethcore': {'loc': 315},\n",
       " 'Theatre Academia': {'loc': 672},\n",
       " 'Theatre Kids': {'loc': 625},\n",
       " 'Thrasher': {'loc': 998},\n",
       " 'Thriftcore': {'loc': 498},\n",
       " 'Tomboy': {'loc': 685},\n",
       " 'Trad Goth': {'loc': 342},\n",
       " 'Traditional Polish': {'loc': 1620},\n",
       " 'Trailer Park Princess': {'loc': 700},\n",
       " 'Trashcore': {'loc': 501},\n",
       " 'Traumacore': {'loc': 2867},\n",
       " 'Trendercore': {'loc': 1016},\n",
       " 'Trillwave': {'loc': 3590},\n",
       " 'Tropical': {'loc': 1298},\n",
       " 'Tupinipunk': {'loc': 280},\n",
       " 'Tweencore': {'loc': 638},\n",
       " 'Twee': {'loc': 1233},\n",
       " 'Ukiyo-e': {'loc': 178},\n",
       " 'Ulzzang': {'loc': 222},\n",
       " 'Urbancore': {'loc': 1148},\n",
       " 'Unicorncore': {'loc': 1387},\n",
       " 'Vacation Dadcore': {'loc': 1765},\n",
       " 'Vampire': {'loc': 1525},\n",
       " 'Vaporwave': {'loc': 4913},\n",
       " 'Vibrant Academia': {'loc': 1148},\n",
       " 'Victorian': {'loc': 773},\n",
       " 'Victorian Goth': {'loc': 250},\n",
       " 'Viking': {'loc': 575},\n",
       " 'Vintage': {'loc': 455},\n",
       " 'Vintage Academia': {'loc': 1037},\n",
       " 'Vintage Parisian': {'loc': 1543},\n",
       " \"Virgo's Tears\": {'loc': 291},\n",
       " 'Visual Kei': {'loc': 902},\n",
       " 'VSCO': {'loc': 1368},\n",
       " 'Voidpunk': {'loc': 673},\n",
       " 'Vorticism': {'loc': 282},\n",
       " 'Vulture Culture': {'loc': 280},\n",
       " 'Wabi-Sabi': {'loc': 208},\n",
       " 'Waif': {'loc': 1998},\n",
       " 'Waldorf': {'loc': 1072},\n",
       " 'Wanderlust': {'loc': 297},\n",
       " 'Wandervogel': {'loc': 115},\n",
       " 'Warmcore': {'loc': 265},\n",
       " 'Web Creep': {'loc': 645},\n",
       " 'Weirdcore': {'loc': 1338},\n",
       " 'Western': {'loc': 1733},\n",
       " 'Winter': {'loc': 375},\n",
       " 'Witchy Academia': {'loc': 754},\n",
       " 'Witch House': {'loc': 808},\n",
       " 'Witchcore': {'loc': 1364},\n",
       " 'Wizardcore': {'loc': 359},\n",
       " 'Wonderland': {'loc': 464},\n",
       " 'Woodland Goth': {'loc': 23},\n",
       " 'Wormcore': {'loc': 681},\n",
       " 'Writer Academia': {'loc': 1074},\n",
       " 'Y2K': {'loc': 2716},\n",
       " 'Yakuza': {'loc': 380},\n",
       " 'Yami Kawaii': {'loc': 1276},\n",
       " 'Yankeecore': {'loc': 472},\n",
       " 'Yanki': {'loc': 449},\n",
       " 'Yume Kawaii': {'loc': 706},\n",
       " 'Yandere': {'loc': 1302},\n",
       " 'Zazou': {'loc': 131},\n",
       " 'Zef': {'loc': 183},\n",
       " 'Zentai': {'loc': 684},\n",
       " 'Zombiecore': {'loc': 217},\n",
       " '1950s Suburbia': {'loc': 1378},\n",
       " '2 Tone': {'loc': 523},\n",
       " '70s Disco': {'loc': 210}}"
      ]
     },
     "execution_count": 153,
     "metadata": {},
     "output_type": "execute_result"
    }
   ],
   "source": [
    "loc"
   ]
  },
  {
   "cell_type": "code",
   "execution_count": 154,
   "id": "b27bdab8",
   "metadata": {
    "ExecuteTime": {
     "end_time": "2021-12-02T15:57:26.357736Z",
     "start_time": "2021-12-02T15:57:26.334790Z"
    }
   },
   "outputs": [],
   "source": [
    "for char in d.keys():\n",
    "    d[char] = {'deg':d[char]}"
   ]
  },
  {
   "cell_type": "code",
   "execution_count": 155,
   "id": "b52f0241",
   "metadata": {
    "ExecuteTime": {
     "end_time": "2021-12-02T15:57:27.308736Z",
     "start_time": "2021-12-02T15:57:27.267822Z"
    }
   },
   "outputs": [
    {
     "data": {
      "text/plain": [
       "{'Abstract': {'deg': 14},\n",
       " 'Abstract Tech': {'deg': 10},\n",
       " 'Acid Pixie': {'deg': 10},\n",
       " 'Acidwave': {'deg': 11},\n",
       " 'Adventurecore': {'deg': 30},\n",
       " 'Afrofuturism': {'deg': 8},\n",
       " 'Afro-Victorian': {'deg': 0},\n",
       " 'After Hours': {'deg': 29},\n",
       " 'Agropeople': {'deg': 2},\n",
       " 'Alien': {'deg': 13},\n",
       " 'Alternative': {'deg': 10},\n",
       " 'Americana': {'deg': 34},\n",
       " 'American Pioneers': {'deg': 7},\n",
       " 'American Revolution': {'deg': 3},\n",
       " 'Androgynous': {'deg': 9},\n",
       " 'Anemoiacore': {'deg': 7},\n",
       " 'Angelcore': {'deg': 27},\n",
       " 'Anglocore': {'deg': 0},\n",
       " 'Anglo Gothic': {'deg': 10},\n",
       " 'Angura Kei': {'deg': 5},\n",
       " 'Animecore': {'deg': 38},\n",
       " 'Anti-Fashion': {'deg': 5},\n",
       " 'Applecore': {'deg': 5},\n",
       " 'Art Academia': {'deg': 50},\n",
       " 'Arts and Crafts': {'deg': 0},\n",
       " 'Art Deco': {'deg': 13},\n",
       " 'Art Hoe': {'deg': 24},\n",
       " 'Art Nouveau': {'deg': 6},\n",
       " 'Artistiekelingen': {'deg': 3},\n",
       " 'Athlete': {'deg': 5},\n",
       " 'Atompunk': {'deg': 17},\n",
       " 'Auroracore': {'deg': 14},\n",
       " 'Autumn': {'deg': 14},\n",
       " 'Avant-garde': {'deg': 16},\n",
       " 'Babycore': {'deg': 16},\n",
       " 'Babygirl': {'deg': 24},\n",
       " 'Barbiecore': {'deg': 12},\n",
       " 'Bardcore': {'deg': 11},\n",
       " 'Baddie': {'deg': 33},\n",
       " 'Ballet Academia': {'deg': 12},\n",
       " 'Baroque': {'deg': 12},\n",
       " 'Bastardcore': {'deg': 12},\n",
       " 'Beatnik': {'deg': 7},\n",
       " 'Bibliopunk': {'deg': 3},\n",
       " 'Biker': {'deg': 6},\n",
       " 'Bills': {'deg': 0},\n",
       " 'Bimbo Casual': {'deg': 7},\n",
       " 'Biopunk': {'deg': 9},\n",
       " 'Bizarro Fiction': {'deg': 3},\n",
       " 'Blob Web': {'deg': 10},\n",
       " 'Bookstore Girl': {'deg': 5},\n",
       " 'Bloomcore': {'deg': 34},\n",
       " 'Bodikon': {'deg': 6},\n",
       " 'Bogan': {'deg': 1},\n",
       " 'Bohemian': {'deg': 7},\n",
       " 'Bombacore': {'deg': 0},\n",
       " 'Bosozoku': {'deg': 5},\n",
       " 'Boujee': {'deg': 34},\n",
       " 'Breakcore': {'deg': 2},\n",
       " 'Brocore': {'deg': 22},\n",
       " 'Bronzepunk': {'deg': 6},\n",
       " 'Britpop': {'deg': 1},\n",
       " 'Bubble Goth': {'deg': 6},\n",
       " 'Bubblegum Bitch': {'deg': 11},\n",
       " 'Bubblegum Witch': {'deg': 12},\n",
       " 'Bunnycore': {'deg': 11},\n",
       " 'Butterfly': {'deg': 7},\n",
       " 'Cabincore': {'deg': 25},\n",
       " 'Cagole': {'deg': 9},\n",
       " 'Camp': {'deg': 21},\n",
       " 'Campcore': {'deg': 11},\n",
       " 'Candycore': {'deg': 6},\n",
       " 'Caninecore': {'deg': 10},\n",
       " 'Carcore': {'deg': 15},\n",
       " 'Cargopunk': {'deg': 8},\n",
       " 'Carnivalcore': {'deg': 4},\n",
       " 'Cartelcore': {'deg': 11},\n",
       " 'Cartooncore': {'deg': 18},\n",
       " 'Casino': {'deg': 17},\n",
       " 'Cassette Futurism': {'deg': 6},\n",
       " 'Changelingcore': {'deg': 8},\n",
       " 'Chav': {'deg': 15},\n",
       " 'Cherry Emoji Twitter': {'deg': 7},\n",
       " 'Chic Modernist': {'deg': 19},\n",
       " 'Cholo': {'deg': 1},\n",
       " 'Christcore': {'deg': 10},\n",
       " 'Christian Girl Autumn': {'deg': 5},\n",
       " 'Christmas': {'deg': 1},\n",
       " 'Chaotic Academia': {'deg': 15},\n",
       " 'City Pop': {'deg': 11},\n",
       " 'Classic Academia': {'deg': 17},\n",
       " 'Classic Lolita': {'deg': 2},\n",
       " 'Classicism': {'deg': 10},\n",
       " 'Cleancore': {'deg': 13},\n",
       " 'Clockpunk': {'deg': 4},\n",
       " 'Cloudcore': {'deg': 15},\n",
       " 'Clowncore': {'deg': 11},\n",
       " 'Club': {'deg': 15},\n",
       " 'Club Kids': {'deg': 8},\n",
       " 'Coffee House/Cafe': {'deg': 13},\n",
       " 'Comfy/Cozy': {'deg': 26},\n",
       " 'Common White Girl': {'deg': 3},\n",
       " 'Comiccore': {'deg': 0},\n",
       " 'Concore': {'deg': 4},\n",
       " 'Constructivism': {'deg': 7},\n",
       " 'Corporate': {'deg': 20},\n",
       " 'Cottagecore': {'deg': 81},\n",
       " 'Cottagegore': {'deg': 14},\n",
       " 'Country': {'deg': 9},\n",
       " 'Cowpunk': {'deg': 1},\n",
       " 'C-Pop': {'deg': 1},\n",
       " 'Crackhead': {'deg': 11},\n",
       " 'Craftcore': {'deg': 12},\n",
       " 'Cripplepunk': {'deg': 3},\n",
       " 'Crowcore': {'deg': 21},\n",
       " 'Crustpunk': {'deg': 1},\n",
       " 'Cryptid Academia': {'deg': 13},\n",
       " 'Cryptidcore': {'deg': 29},\n",
       " 'Crystalcore': {'deg': 28},\n",
       " 'Cubism': {'deg': 10},\n",
       " 'Cuddle Party': {'deg': 15},\n",
       " 'Cultcore': {'deg': 7},\n",
       " 'Cult Party Kei': {'deg': 14},\n",
       " 'Cyber Minimalism': {'deg': 8},\n",
       " 'Cyberdelic': {'deg': 25},\n",
       " 'Cyberghetto': {'deg': 18},\n",
       " 'Cybergoth': {'deg': 16},\n",
       " 'Cybergrunge': {'deg': 4},\n",
       " 'Cyberpop': {'deg': 9},\n",
       " 'Cyberprep': {'deg': 19},\n",
       " 'Cyberpunk': {'deg': 75},\n",
       " 'Dadaism': {'deg': 21},\n",
       " 'Dark Paradise': {'deg': 24},\n",
       " 'Dark Academia': {'deg': 60},\n",
       " 'Dark Naturalism': {'deg': 12},\n",
       " 'Dark Nautical': {'deg': 10},\n",
       " 'Dark Nymphet': {'deg': 2},\n",
       " 'Darkest Academia': {'deg': 17},\n",
       " 'Daydreampunk': {'deg': 4},\n",
       " 'Dazecore': {'deg': 19},\n",
       " 'Decora': {'deg': 16},\n",
       " 'Decopunk': {'deg': 12},\n",
       " 'Desertwave': {'deg': 8},\n",
       " 'De Stijl': {'deg': 6},\n",
       " 'Devilcore': {'deg': 22},\n",
       " 'Diner': {'deg': 5},\n",
       " 'Dinocore': {'deg': 5},\n",
       " 'Dieselpunk': {'deg': 13},\n",
       " 'Dollcore': {'deg': 8},\n",
       " 'Dolly Kei': {'deg': 6},\n",
       " 'Dracopunk': {'deg': 4},\n",
       " 'Dragoncore': {'deg': 20},\n",
       " 'Dreamy': {'deg': 40},\n",
       " 'Drugcore': {'deg': 30},\n",
       " 'Dual Kawaii': {'deg': 20},\n",
       " 'Dungeon Synth': {'deg': 0},\n",
       " 'Dullcore': {'deg': 15},\n",
       " 'E-Boy': {'deg': 23},\n",
       " 'E-Girl': {'deg': 27},\n",
       " 'Electro Swing': {'deg': 5},\n",
       " 'Emancicore': {'deg': 0},\n",
       " 'Emo': {'deg': 25},\n",
       " 'Equestrian': {'deg': 2},\n",
       " 'Ero guro': {'deg': 0},\n",
       " 'Erokawa': {'deg': 13},\n",
       " 'Ethereal': {'deg': 26},\n",
       " 'Expressionism': {'deg': 5},\n",
       " 'Fairy Academia': {'deg': 25},\n",
       " 'Fairycore': {'deg': 28},\n",
       " 'Fairy Kei': {'deg': 14},\n",
       " 'Fairy Tale': {'deg': 13},\n",
       " 'Fanfare': {'deg': 4},\n",
       " 'Fantasy': {'deg': 20},\n",
       " 'Fantasy Astronomy': {'deg': 4},\n",
       " 'Fashwave': {'deg': 12},\n",
       " 'Fauvism': {'deg': 8},\n",
       " 'Fawncore': {'deg': 7},\n",
       " 'Femme Fatale': {'deg': 21},\n",
       " 'Film Noir': {'deg': 5},\n",
       " 'Flapper': {'deg': 13},\n",
       " 'Fluxus Movement': {'deg': 5},\n",
       " 'Foodie': {'deg': 27},\n",
       " 'Forestpunk': {'deg': 16},\n",
       " 'Fractal art': {'deg': 1},\n",
       " 'Freak': {'deg': 2},\n",
       " 'French Girl': {'deg': 2},\n",
       " 'Frutiger Aero': {'deg': 21},\n",
       " 'Furry': {'deg': 4},\n",
       " 'Functionalism': {'deg': 0},\n",
       " 'Futago': {'deg': 1},\n",
       " 'Futurism': {'deg': 12},\n",
       " 'Gadgetpunk': {'deg': 5},\n",
       " 'Game Night': {'deg': 11},\n",
       " 'Gamine': {'deg': 3},\n",
       " 'Geek': {'deg': 19},\n",
       " 'Ghostcore': {'deg': 12},\n",
       " 'Girl-Next-Door': {'deg': 7},\n",
       " 'Glam Girl': {'deg': 7},\n",
       " 'Glam Rock': {'deg': 10},\n",
       " 'Glitch': {'deg': 18},\n",
       " 'Gloomcore': {'deg': 15},\n",
       " 'Glowwave': {'deg': 53},\n",
       " 'Goblincore': {'deg': 37},\n",
       " 'Goblin Academia': {'deg': 5},\n",
       " 'Golden Age of Detective Fiction': {'deg': 5},\n",
       " 'Golden Hour': {'deg': 13},\n",
       " 'Gopnik': {'deg': 1},\n",
       " 'Gorecore': {'deg': 7},\n",
       " 'Gorean': {'deg': 0},\n",
       " 'Goth': {'deg': 56},\n",
       " 'Gothcore': {'deg': 12},\n",
       " 'Gothic': {'deg': 13},\n",
       " 'Grandmillenial': {'deg': 0},\n",
       " 'Grandparentcore': {'deg': 8},\n",
       " 'Grindhouse': {'deg': 0},\n",
       " 'Grunge': {'deg': 53},\n",
       " 'Gull Girl': {'deg': 0},\n",
       " 'Gurokawa': {'deg': 12},\n",
       " 'Gyaru': {'deg': 20},\n",
       " 'Hallyu': {'deg': 7},\n",
       " 'Hauntology': {'deg': 6},\n",
       " 'Halloween': {'deg': 11},\n",
       " 'Happycore': {'deg': 18},\n",
       " 'Hatecore': {'deg': 15},\n",
       " 'Haussmann Paris': {'deg': 1},\n",
       " 'Health Goth': {'deg': 5},\n",
       " 'Heatwave': {'deg': 12},\n",
       " 'Heistcore': {'deg': 4},\n",
       " 'Hellenic': {'deg': 18},\n",
       " 'Hermaphroditus': {'deg': 13},\n",
       " 'High School Dream': {'deg': 19},\n",
       " 'Hikecore': {'deg': 8},\n",
       " 'Hip-Hop': {'deg': 17},\n",
       " 'Hippie': {'deg': 29},\n",
       " 'Hipster': {'deg': 14},\n",
       " 'Historical Americana': {'deg': 3},\n",
       " 'Holosexual': {'deg': 24},\n",
       " 'Honeycore': {'deg': 10},\n",
       " 'Horror': {'deg': 20},\n",
       " 'Horror Academia': {'deg': 5},\n",
       " 'Hot Topic': {'deg': 20},\n",
       " 'Hustlewave': {'deg': 11},\n",
       " 'Hydrogen': {'deg': 5},\n",
       " 'Hyperpop': {'deg': 15},\n",
       " 'Icepunk': {'deg': 16},\n",
       " 'Impressionism': {'deg': 9},\n",
       " 'Ironpunk': {'deg': 2},\n",
       " 'Indie': {'deg': 26},\n",
       " 'Internet Academia': {'deg': 7},\n",
       " 'Italo Disco': {'deg': 2},\n",
       " 'Italian Mafia': {'deg': 17},\n",
       " 'Jamcore': {'deg': 9},\n",
       " 'Jersey Shore': {'deg': 10},\n",
       " 'Joyride': {'deg': 4},\n",
       " 'Juggalo': {'deg': 6},\n",
       " 'Junglecore': {'deg': 10},\n",
       " 'Junkpunk': {'deg': 0},\n",
       " 'Karasu Zoku': {'deg': 1},\n",
       " 'Kawaii': {'deg': 35},\n",
       " 'Kidcore': {'deg': 50},\n",
       " 'Kid Science': {'deg': 2},\n",
       " 'Kinderwhore': {'deg': 17},\n",
       " 'Kingcore': {'deg': 14},\n",
       " 'Knightcore': {'deg': 15},\n",
       " 'Kogal': {'deg': 4},\n",
       " 'Kuromicore': {'deg': 10},\n",
       " 'Laborwave': {'deg': 9},\n",
       " 'Lagenlook': {'deg': 5},\n",
       " 'Larme Kei': {'deg': 14},\n",
       " 'La Sape': {'deg': 2},\n",
       " 'Light Academia': {'deg': 35},\n",
       " 'Lightningwave': {'deg': 12},\n",
       " 'Lil Girl': {'deg': 7},\n",
       " 'Lit Kid': {'deg': 1},\n",
       " 'Liminal Space': {'deg': 28},\n",
       " 'Lo-Fi': {'deg': 59},\n",
       " 'Lolita': {'deg': 17},\n",
       " 'Lounge': {'deg': 13},\n",
       " 'Lovecore': {'deg': 20},\n",
       " 'Luminism': {'deg': 3},\n",
       " 'Lunarpunk': {'deg': 7},\n",
       " 'Macaute': {'deg': 13},\n",
       " 'Mad Scientist': {'deg': 2},\n",
       " 'Magenta': {'deg': 3},\n",
       " 'Magewave': {'deg': 3},\n",
       " 'Maidcore': {'deg': 0},\n",
       " 'Malandragem': {'deg': 0},\n",
       " 'Mallgoth': {'deg': 11},\n",
       " 'Mall Ninja': {'deg': 4},\n",
       " 'Mangas': {'deg': 1},\n",
       " 'Maternity': {'deg': 1},\n",
       " 'McBling': {'deg': 21},\n",
       " 'Medicalcore': {'deg': 17},\n",
       " 'Medieval': {'deg': 1},\n",
       " 'Memphis': {'deg': 12},\n",
       " 'Metal': {'deg': 18},\n",
       " 'Metalcore': {'deg': 6},\n",
       " 'Metrosexual': {'deg': 6},\n",
       " 'Miami Metro': {'deg': 7},\n",
       " 'Midwest Emo': {'deg': 1},\n",
       " 'Midwest Gothic': {'deg': 14},\n",
       " 'Military': {'deg': 5},\n",
       " 'Milleniwave': {'deg': 46},\n",
       " 'Milk': {'deg': 10},\n",
       " 'Minimalism': {'deg': 22},\n",
       " 'Mod': {'deg': 4},\n",
       " 'Modernism': {'deg': 36},\n",
       " 'Mori Kei': {'deg': 19},\n",
       " 'Morute': {'deg': 12},\n",
       " 'Mote Kei': {'deg': 2},\n",
       " 'Mosscore': {'deg': 20},\n",
       " 'Ms Paint': {'deg': 0},\n",
       " 'Mushroomcore': {'deg': 11},\n",
       " 'Musical Academia': {'deg': 14},\n",
       " 'Nanopunk': {'deg': 5},\n",
       " 'Natural Philosophy': {'deg': 17},\n",
       " 'Naturecore': {'deg': 57},\n",
       " 'Nautical': {'deg': 21},\n",
       " 'Nazi Chic': {'deg': 3},\n",
       " 'Neko': {'deg': 6},\n",
       " 'Neomilitarism': {'deg': 3},\n",
       " 'Nerd': {'deg': 19},\n",
       " 'Nerdcore': {'deg': 3},\n",
       " 'New Age': {'deg': 14},\n",
       " 'New Romantic': {'deg': 2},\n",
       " 'Neo-Romanism': {'deg': 25},\n",
       " 'New Wave': {'deg': 2},\n",
       " 'Nintencore': {'deg': 5},\n",
       " 'Normcore': {'deg': 14},\n",
       " 'Northerness': {'deg': 13},\n",
       " 'Nostalgiacore': {'deg': 40},\n",
       " 'Nowpunk': {'deg': 4},\n",
       " 'Nozems': {'deg': 1},\n",
       " 'Nuclear': {'deg': 2},\n",
       " 'Nu-Goth': {'deg': 7},\n",
       " 'Nymphet': {'deg': 13},\n",
       " 'Ocean Academia': {'deg': 1},\n",
       " 'Ocean Grunge': {'deg': 24},\n",
       " 'Old Hollywood': {'deg': 6},\n",
       " 'Old Web': {'deg': 25},\n",
       " 'Onii Kei': {'deg': 0},\n",
       " 'Oshare Kei': {'deg': 7},\n",
       " 'Otherkin': {'deg': 2},\n",
       " 'Pachuco': {'deg': 1},\n",
       " 'Pale': {'deg': 8},\n",
       " 'Palewave': {'deg': 2},\n",
       " 'Paleocore': {'deg': 10},\n",
       " 'Paninaro': {'deg': 0},\n",
       " 'Party Animal': {'deg': 11},\n",
       " 'Party Kei': {'deg': 8},\n",
       " 'Pastel': {'deg': 53},\n",
       " 'Pastel Academia': {'deg': 22},\n",
       " 'Pastel Goth': {'deg': 24},\n",
       " 'Pastel Punk': {'deg': 10},\n",
       " 'Peach': {'deg': 5},\n",
       " 'Pearly': {'deg': 16},\n",
       " 'Peoplehood': {'deg': 3},\n",
       " 'Petcore': {'deg': 6},\n",
       " 'Photorealism': {'deg': 9},\n",
       " 'Pigeoncore': {'deg': 5},\n",
       " 'Pink': {'deg': 4},\n",
       " 'Pin-up': {'deg': 8},\n",
       " 'Pirate': {'deg': 12},\n",
       " 'Pixel Cutie': {'deg': 7},\n",
       " 'Pixiecore': {'deg': 11},\n",
       " 'Plaguecore': {'deg': 4},\n",
       " 'Plant Mom': {'deg': 12},\n",
       " 'Playboy': {'deg': 8},\n",
       " 'Pointillism': {'deg': 5},\n",
       " 'Pop': {'deg': 15},\n",
       " 'Pop Art': {'deg': 8},\n",
       " 'Pop Kei': {'deg': 8},\n",
       " 'Post-Impressionism': {'deg': 9},\n",
       " 'Postmodernism': {'deg': 5},\n",
       " 'Post-Apocalyptic': {'deg': 11},\n",
       " 'Post-rock': {'deg': 0},\n",
       " 'Powwow Step': {'deg': 0},\n",
       " 'Prairiecore': {'deg': 11},\n",
       " 'Preppy': {'deg': 15},\n",
       " 'Princecore': {'deg': 14},\n",
       " 'Princesscore': {'deg': 26},\n",
       " 'Progressive Academia': {'deg': 0},\n",
       " 'Psychedelica': {'deg': 26},\n",
       " 'Punk': {'deg': 46},\n",
       " 'Purism': {'deg': 7},\n",
       " 'Queencore': {'deg': 14},\n",
       " 'Queer Academia': {'deg': 4},\n",
       " 'Queercore': {'deg': 3},\n",
       " 'R&B': {'deg': 3},\n",
       " 'Racaille': {'deg': 7},\n",
       " 'Rainbowcore': {'deg': 41},\n",
       " 'Rainy Day': {'deg': 24},\n",
       " 'Rangercore': {'deg': 14},\n",
       " 'Ratcore': {'deg': 6},\n",
       " 'Ravencore': {'deg': 9},\n",
       " 'Raver': {'deg': 30},\n",
       " 'Real Life Super Hero': {'deg': 6},\n",
       " 'Realism': {'deg': 5},\n",
       " 'Reefwave': {'deg': 11},\n",
       " 'Regency': {'deg': 5},\n",
       " 'Regional Gothic': {'deg': 4},\n",
       " 'Retro-Futurism': {'deg': 19},\n",
       " 'Rivethead': {'deg': 6},\n",
       " 'Roaring 20s': {'deg': 4},\n",
       " 'Robotics Kids': {'deg': 2},\n",
       " 'Rockabilly': {'deg': 7},\n",
       " 'Rococo': {'deg': 9},\n",
       " 'Rococopunk': {'deg': 1},\n",
       " 'Rollerwave': {'deg': 10},\n",
       " 'Roma': {'deg': 6},\n",
       " 'Romantic Goth': {'deg': 8},\n",
       " 'Romanticism': {'deg': 10},\n",
       " 'Romantic Academia': {'deg': 30},\n",
       " 'Romantic Italian': {'deg': 17},\n",
       " 'Royalcore': {'deg': 14},\n",
       " 'Rural China': {'deg': 2},\n",
       " 'Rusticcore': {'deg': 10},\n",
       " 'Sadpeople': {'deg': 18},\n",
       " 'Salon Kei': {'deg': 0},\n",
       " 'Sandalpunk': {'deg': 6},\n",
       " 'Sanriocore': {'deg': 19},\n",
       " 'Science Academia': {'deg': 23},\n",
       " 'Scrapbook': {'deg': 13},\n",
       " 'Scrapper': {'deg': 13},\n",
       " 'Scene': {'deg': 23},\n",
       " 'Scoutcore': {'deg': 7},\n",
       " 'Scuttlers': {'deg': 3},\n",
       " 'Seapunk': {'deg': 32},\n",
       " 'Selkiecore': {'deg': 5},\n",
       " 'Shanzhai': {'deg': 4},\n",
       " 'Shā mǎ tè': {'deg': 0},\n",
       " 'Shabby Chic': {'deg': 14},\n",
       " 'Sharpies': {'deg': 0},\n",
       " 'Shironuri': {'deg': 5},\n",
       " 'Sizz': {'deg': 2},\n",
       " 'Skinheads': {'deg': 0},\n",
       " 'Slimepunk': {'deg': 15},\n",
       " 'Sloanies': {'deg': 3},\n",
       " 'Slutcore': {'deg': 9},\n",
       " 'Snailcore': {'deg': 4},\n",
       " 'Snowdrop': {'deg': 5},\n",
       " 'Soft Apocalypse': {'deg': 5},\n",
       " 'Softie': {'deg': 24},\n",
       " 'Soft Macabre': {'deg': 3},\n",
       " 'Soggy': {'deg': 8},\n",
       " 'Solarpunk': {'deg': 8},\n",
       " 'Soulboys': {'deg': 0},\n",
       " 'Southern Gothic': {'deg': 14},\n",
       " 'Sovietwave': {'deg': 6},\n",
       " 'Spacecore': {'deg': 16},\n",
       " 'Sparklecore': {'deg': 22},\n",
       " 'Spiritcore': {'deg': 6},\n",
       " 'Spring': {'deg': 14},\n",
       " 'Spy fiction': {'deg': 0},\n",
       " 'Steampunk': {'deg': 20},\n",
       " 'Steelpunk': {'deg': 3},\n",
       " 'Stilyagi': {'deg': 0},\n",
       " 'Stimwave': {'deg': 5},\n",
       " 'Stonepunk': {'deg': 2},\n",
       " 'Stoner': {'deg': 10},\n",
       " 'Stripcore': {'deg': 18},\n",
       " 'Studyblr': {'deg': 29},\n",
       " 'Studyplace': {'deg': 25},\n",
       " 'Styla': {'deg': 6},\n",
       " 'Suburban Gothic': {'deg': 10},\n",
       " 'Sukeban': {'deg': 8},\n",
       " 'Summer': {'deg': 17},\n",
       " 'Suprematism': {'deg': 9},\n",
       " 'Surf Crush': {'deg': 12},\n",
       " 'Surrealism': {'deg': 13},\n",
       " 'Surreal Memer': {'deg': 6},\n",
       " 'Swenkas': {'deg': 2},\n",
       " 'Swordpunk': {'deg': 2},\n",
       " 'Synthwave': {'deg': 46},\n",
       " 'Takenokozoku': {'deg': 2},\n",
       " 'Tenwave': {'deg': 9},\n",
       " 'Techwear': {'deg': 7},\n",
       " 'Teddies': {'deg': 9},\n",
       " 'Technical Scene': {'deg': 1},\n",
       " 'Teethcore': {'deg': 5},\n",
       " 'Theatre Academia': {'deg': 15},\n",
       " 'Theatre Kids': {'deg': 10},\n",
       " 'Thrasher': {'deg': 2},\n",
       " 'Thriftcore': {'deg': 9},\n",
       " 'Tomboy': {'deg': 6},\n",
       " 'Trad Goth': {'deg': 3},\n",
       " 'Traditional Polish': {'deg': 2},\n",
       " 'Trailer Park Princess': {'deg': 12},\n",
       " 'Trashcore': {'deg': 8},\n",
       " 'Traumacore': {'deg': 29},\n",
       " 'Trendercore': {'deg': 4},\n",
       " 'Trillwave': {'deg': 7},\n",
       " 'Tropical': {'deg': 23},\n",
       " 'Tupinipunk': {'deg': 4},\n",
       " 'Tweencore': {'deg': 13},\n",
       " 'Twee': {'deg': 1},\n",
       " 'Ukiyo-e': {'deg': 1},\n",
       " 'Ulzzang': {'deg': 3},\n",
       " 'Urbancore': {'deg': 28},\n",
       " 'Unicorncore': {'deg': 21},\n",
       " 'Vacation Dadcore': {'deg': 16},\n",
       " 'Vampire': {'deg': 14},\n",
       " 'Vaporwave': {'deg': 76},\n",
       " 'Vibrant Academia': {'deg': 6},\n",
       " 'Victorian': {'deg': 20},\n",
       " 'Victorian Goth': {'deg': 5},\n",
       " 'Viking': {'deg': 0},\n",
       " 'Vintage': {'deg': 62},\n",
       " 'Vintage Academia': {'deg': 11},\n",
       " 'Vintage Parisian': {'deg': 15},\n",
       " \"Virgo's Tears\": {'deg': 7},\n",
       " 'Visual Kei': {'deg': 7},\n",
       " 'VSCO': {'deg': 24},\n",
       " 'Voidpunk': {'deg': 10},\n",
       " 'Vorticism': {'deg': 6},\n",
       " 'Vulture Culture': {'deg': 14},\n",
       " 'Wabi-Sabi': {'deg': 2},\n",
       " 'Waif': {'deg': 5},\n",
       " 'Waldorf': {'deg': 0},\n",
       " 'Wanderlust': {'deg': 13},\n",
       " 'Wandervogel': {'deg': 0},\n",
       " 'Warmcore': {'deg': 15},\n",
       " 'Web Creep': {'deg': 1},\n",
       " 'Weirdcore': {'deg': 19},\n",
       " 'Western': {'deg': 10},\n",
       " 'Winter': {'deg': 10},\n",
       " 'Witchy Academia': {'deg': 11},\n",
       " 'Witch House': {'deg': 18},\n",
       " 'Witchcore': {'deg': 53},\n",
       " 'Wizardcore': {'deg': 10},\n",
       " 'Wonderland': {'deg': 2},\n",
       " 'Woodland Goth': {'deg': 2},\n",
       " 'Wormcore': {'deg': 4},\n",
       " 'Writer Academia': {'deg': 10},\n",
       " 'Y2K': {'deg': 35},\n",
       " 'Yakuza': {'deg': 5},\n",
       " 'Yami Kawaii': {'deg': 20},\n",
       " 'Yankeecore': {'deg': 2},\n",
       " 'Yanki': {'deg': 5},\n",
       " 'Yume Kawaii': {'deg': 23},\n",
       " 'Yandere': {'deg': 8},\n",
       " 'Zazou': {'deg': 1},\n",
       " 'Zef': {'deg': 2},\n",
       " 'Zentai': {'deg': 4},\n",
       " 'Zombiecore': {'deg': 8},\n",
       " '1950s Suburbia': {'deg': 3},\n",
       " '2 Tone': {'deg': 3},\n",
       " '70s Disco': {'deg': 3}}"
      ]
     },
     "execution_count": 155,
     "metadata": {},
     "output_type": "execute_result"
    }
   ],
   "source": [
    "d"
   ]
  },
  {
   "cell_type": "code",
   "execution_count": 156,
   "id": "4c397def",
   "metadata": {
    "ExecuteTime": {
     "end_time": "2021-12-02T15:58:22.998997Z",
     "start_time": "2021-12-02T15:58:20.636238Z"
    },
    "run_control": {
     "marked": true
    }
   },
   "outputs": [],
   "source": [
    "import networkx as nx\n",
    "\n",
    "from bokeh.io import output_file, show\n",
    "from bokeh.models import (BoxZoomTool, Circle, HoverTool,\n",
    "                          MultiLine, Plot, Range1d, ResetTool, WheelZoomTool, PanTool, TapTool , MultiLine, NodesAndLinkedEdges, EdgesAndLinkedNodes)\n",
    "from bokeh.palettes import Spectral4\n",
    "from bokeh.plotting import from_networkx\n",
    "\n",
    "# Prepare Data\n",
    "G = UGCC\n",
    "\n",
    "SAME_CLUB_COLOR, DIFFERENT_CLUB_COLOR = \"black\", \"red\"\n",
    "# sizes = [v*5 for v in list(d.values())]\n",
    "\n",
    "edge_attrs = {}\n",
    "\n",
    "for start_node, end_node, _ in G.edges(data=True):\n",
    "    edge_color = SAME_CLUB_COLOR if G.nodes[start_node][\"loc\"] > G.nodes[end_node][\"loc\"] else DIFFERENT_CLUB_COLOR\n",
    "    edge_attrs[(start_node, end_node)] = edge_color\n",
    "\n",
    "nx.set_edge_attributes(G, edge_attrs, \"edge_color\")\n",
    "nx.set_node_attributes(G, d)\n",
    "\n",
    "# Show with Bokeh\n",
    "plot = Plot(width=900, height=900,\n",
    "            x_range=Range1d(-1.1, 1.1), y_range=Range1d(-1.1, 1.1))\n",
    "plot.title.text = \"Graph Interaction Demonstration\"\n",
    "\n",
    "node_hover_tool = HoverTool(tooltips=[(\"index\", \"@index\"), (\"loc\", \"@loc\")])\n",
    "plot.add_tools(node_hover_tool, PanTool(), WheelZoomTool(), ResetTool(), TapTool())\n",
    "\n",
    "graph_renderer = from_networkx(G, nx.spring_layout, scale=1, center=(0,0))\n",
    "\n",
    "graph_renderer.node_renderer.glyph = Circle(size=\"deg\", fill_color=Spectral4[0])\n",
    "graph_renderer.node_renderer.selection_glyph = Circle(size=\"deg\", fill_color=Spectral4[2])\n",
    "graph_renderer.node_renderer.hover_glyph = Circle(size=\"deg\", fill_color=Spectral4[1])\n",
    "\n",
    "graph_renderer.edge_renderer.glyph = MultiLine(line_color=\"edge_color\", line_alpha=0.8, line_width=1)\n",
    "graph_renderer.edge_renderer.selection_glyph = MultiLine(line_color=Spectral4[2], line_width=5)\n",
    "graph_renderer.edge_renderer.hover_glyph = MultiLine(line_color=Spectral4[1], line_width=5)\n",
    "\n",
    "graph_renderer.selection_policy = NodesAndLinkedEdges()\n",
    "# graph_renderer.inspection_policy = EdgesAndLinkedNodes()\n",
    "\n",
    "plot.renderers.append(graph_renderer)\n",
    "\n",
    "output_file(\"interactive_graphs.html\")\n",
    "show(plot)"
   ]
  },
  {
   "cell_type": "code",
   "execution_count": null,
   "id": "d7703b6e",
   "metadata": {},
   "outputs": [],
   "source": []
  },
  {
   "cell_type": "code",
   "execution_count": 126,
   "id": "8992631a",
   "metadata": {
    "ExecuteTime": {
     "end_time": "2021-12-02T15:13:50.634054Z",
     "start_time": "2021-12-02T15:13:50.606131Z"
    }
   },
   "outputs": [
    {
     "ename": "NameError",
     "evalue": "name 'ForceAtlas2' is not defined",
     "output_type": "error",
     "traceback": [
      "\u001b[1;31m---------------------------------------------------------------------------\u001b[0m",
      "\u001b[1;31mNameError\u001b[0m                                 Traceback (most recent call last)",
      "\u001b[1;32m~\\AppData\\Local\\Temp/ipykernel_35164/2739117503.py\u001b[0m in \u001b[0;36m<module>\u001b[1;34m\u001b[0m\n\u001b[0;32m      1\u001b[0m \u001b[1;31m# Using force atlas configuration to achieve a pretty graph\u001b[0m\u001b[1;33m\u001b[0m\u001b[1;33m\u001b[0m\u001b[0m\n\u001b[1;32m----> 2\u001b[1;33m forceatlas2 = ForceAtlas2(\n\u001b[0m\u001b[0;32m      3\u001b[0m                         \u001b[1;31m# Behavior alternatives\u001b[0m\u001b[1;33m\u001b[0m\u001b[1;33m\u001b[0m\u001b[0m\n\u001b[0;32m      4\u001b[0m                         \u001b[0moutboundAttractionDistribution\u001b[0m\u001b[1;33m=\u001b[0m\u001b[1;32mFalse\u001b[0m\u001b[1;33m,\u001b[0m  \u001b[1;31m# Dissuade hubs\u001b[0m\u001b[1;33m\u001b[0m\u001b[1;33m\u001b[0m\u001b[0m\n\u001b[0;32m      5\u001b[0m                         \u001b[0mlinLogMode\u001b[0m\u001b[1;33m=\u001b[0m\u001b[1;32mFalse\u001b[0m\u001b[1;33m,\u001b[0m  \u001b[1;31m# NOT IMPLEMENTED\u001b[0m\u001b[1;33m\u001b[0m\u001b[1;33m\u001b[0m\u001b[0m\n",
      "\u001b[1;31mNameError\u001b[0m: name 'ForceAtlas2' is not defined"
     ]
    }
   ],
   "source": [
    "# Using force atlas configuration to achieve a pretty graph\n",
    "forceatlas2 = ForceAtlas2(\n",
    "                        # Behavior alternatives\n",
    "                        outboundAttractionDistribution=False,  # Dissuade hubs\n",
    "                        linLogMode=False,  # NOT IMPLEMENTED\n",
    "                        adjustSizes=False,  # Prevent overlap (NOT IMPLEMENTED)\n",
    "                        edgeWeightInfluence=1.5,\n",
    "\n",
    "                        # Performance\n",
    "                        jitterTolerance=1.0,  # Tolerance\n",
    "                        barnesHutOptimize=True,\n",
    "                        barnesHutTheta=1.2,\n",
    "                        multiThreaded=False,  # NOT IMPLEMENTED\n",
    "\n",
    "                        # Tuning\n",
    "                        scalingRatio=1.0,\n",
    "                        strongGravityMode=False,\n",
    "                        gravity=40,\n",
    "\n",
    "                        # Log\n",
    "                        verbose=True)\n",
    "\n",
    "plt.figure(figsize=(18,18)) \n",
    "positions = forceatlas2.forceatlas2_networkx_layout(DG, pos=None, iterations=2000)\n",
    "nx.draw_networkx_nodes(DG, positions, node_size=[v*5 for v in list(d.values())], node_color=colors, alpha=0.8)\n",
    "nx.draw_networkx_edges(DG, positions, edge_color=edge_colors, alpha=0.5)\n",
    "plt.axis('off')\n",
    "plt.show()"
   ]
  },
  {
   "cell_type": "code",
   "execution_count": 84,
   "id": "881c325c",
   "metadata": {
    "ExecuteTime": {
     "end_time": "2021-12-02T14:56:08.930118Z",
     "start_time": "2021-12-02T14:56:08.897206Z"
    }
   },
   "outputs": [],
   "source": [
    "UG = DG.to_undirected()\n",
    "d2 = dict(UG.degree)"
   ]
  },
  {
   "cell_type": "code",
   "execution_count": 138,
   "id": "223c6e08",
   "metadata": {
    "scrolled": true
   },
   "outputs": [
    {
     "name": "stderr",
     "output_type": "stream",
     "text": [
      "100%|██████████| 2000/2000 [00:10<00:00, 181.95it/s]\n"
     ]
    },
    {
     "name": "stdout",
     "output_type": "stream",
     "text": [
      "BarnesHut Approximation  took  2.00  seconds\n",
      "Repulsion forces  took  8.24  seconds\n",
      "Gravitational forces  took  0.05  seconds\n",
      "Attraction forces  took  0.19  seconds\n",
      "AdjustSpeedAndApplyForces step  took  0.23  seconds\n"
     ]
    },
    {
     "data": {
      "image/png": "[encoded data removed]",
      "text/plain": [
       "<Figure size 1296x1296 with 1 Axes>"
      ]
     },
     "metadata": {},
     "output_type": "display_data"
    }
   ],
   "source": [
    "# Using force atlas configuration to achieve a pretty graph\n",
    "forceatlas2 = ForceAtlas2(\n",
    "                        # Behavior alternatives\n",
    "                        outboundAttractionDistribution=False,  # Dissuade hubs\n",
    "                        linLogMode=False,  # NOT IMPLEMENTED\n",
    "                        adjustSizes=False,  # Prevent overlap (NOT IMPLEMENTED)\n",
    "                        edgeWeightInfluence=1.5,\n",
    "\n",
    "                        # Performance\n",
    "                        jitterTolerance=1.0,  # Tolerance\n",
    "                        barnesHutOptimize=True,\n",
    "                        barnesHutTheta=1.2,\n",
    "                        multiThreaded=False,  # NOT IMPLEMENTED\n",
    "\n",
    "                        # Tuning\n",
    "                        scalingRatio=1.0,\n",
    "                        strongGravityMode=False,\n",
    "                        gravity=40,\n",
    "\n",
    "                        # Log\n",
    "                        verbose=True)\n",
    "\n",
    "plt.figure(figsize=(18,18)) \n",
    "positions = forceatlas2.forceatlas2_networkx_layout(UG, pos=None, iterations=2000)\n",
    "nx.draw_networkx_nodes(UG, positions, node_size=[v*5 for v in list(d2.values())], node_color=colors, alpha=0.8)\n",
    "nx.draw_networkx_edges(UG, positions, edge_color=edge_colors, alpha=0.5)\n",
    "plt.axis('off')\n",
    "plt.show()"
   ]
  },
  {
   "cell_type": "code",
   "execution_count": 85,
   "id": "58538da8",
   "metadata": {
    "ExecuteTime": {
     "end_time": "2021-12-02T14:56:10.981831Z",
     "start_time": "2021-12-02T14:56:10.959883Z"
    },
    "scrolled": true
   },
   "outputs": [
    {
     "data": {
      "text/plain": [
       "2542"
      ]
     },
     "execution_count": 85,
     "metadata": {},
     "output_type": "execute_result"
    }
   ],
   "source": [
    "len(UG.edges())"
   ]
  },
  {
   "cell_type": "code",
   "execution_count": 26,
   "id": "34b08da6",
   "metadata": {
    "ExecuteTime": {
     "end_time": "2021-11-23T23:31:57.861593Z",
     "start_time": "2021-11-23T23:31:57.854612Z"
    },
    "scrolled": true
   },
   "outputs": [
    {
     "data": {
      "text/plain": [
       "[{'name': 'Cottagecore', 'value': 56},\n",
       " {'name': 'Vaporwave', 'value': 55},\n",
       " {'name': 'Vintage', 'value': 47},\n",
       " {'name': 'Naturecore', 'value': 46},\n",
       " {'name': 'Cyberpunk', 'value': 42},\n",
       " {'name': 'Art Academia', 'value': 41},\n",
       " {'name': 'Dark Academia', 'value': 41},\n",
       " {'name': 'Pastel', 'value': 38},\n",
       " {'name': 'Kidcore', 'value': 37},\n",
       " {'name': 'Goth', 'value': 36},\n",
       " {'name': 'Grunge', 'value': 34},\n",
       " {'name': 'Synthwave', 'value': 33},\n",
       " {'name': 'Lo-Fi', 'value': 32},\n",
       " {'name': 'Glowwave', 'value': 30},\n",
       " {'name': 'Punk', 'value': 30},\n",
       " {'name': 'Animecore', 'value': 29},\n",
       " {'name': 'Witchcore', 'value': 28},\n",
       " {'name': 'Light Academia', 'value': 27},\n",
       " {'name': 'Baddie', 'value': 26},\n",
       " {'name': 'Goblincore', 'value': 25}]"
      ]
     },
     "execution_count": 26,
     "metadata": {},
     "output_type": "execute_result"
    }
   ],
   "source": [
    "# Top 5 most connected aesthetics in terms of in degree\n",
    "sorted([\n",
    "    {'name':x, 'value':DG.in_degree(x)} \n",
    "    for x,y in DG.nodes(data=True) \n",
    "], key=lambda k: k['value'],reverse=True)[0:20]"
   ]
  },
  {
   "cell_type": "code",
   "execution_count": 27,
   "id": "0c32d3ae",
   "metadata": {
    "ExecuteTime": {
     "end_time": "2021-11-23T23:32:06.682654Z",
     "start_time": "2021-11-23T23:32:06.666710Z"
    }
   },
   "outputs": [
    {
     "data": {
      "text/plain": [
       "[{'name': 'Milleniwave', 'value': 38},\n",
       " {'name': 'Cyberpunk', 'value': 33},\n",
       " {'name': 'Lo-Fi', 'value': 27},\n",
       " {'name': 'Cottagecore', 'value': 25},\n",
       " {'name': 'Witchcore', 'value': 25},\n",
       " {'name': 'Neo-Romanism', 'value': 24},\n",
       " {'name': 'Glowwave', 'value': 23},\n",
       " {'name': 'Rainbowcore', 'value': 21},\n",
       " {'name': 'Vaporwave', 'value': 21},\n",
       " {'name': 'Camp', 'value': 20},\n",
       " {'name': 'Dreamy', 'value': 20},\n",
       " {'name': 'Goth', 'value': 20},\n",
       " {'name': 'Modernism', 'value': 20},\n",
       " {'name': 'Grunge', 'value': 19},\n",
       " {'name': 'Nostalgiacore', 'value': 19},\n",
       " {'name': 'Bloomcore', 'value': 18},\n",
       " {'name': 'Dark Academia', 'value': 18},\n",
       " {'name': 'Cyberghetto', 'value': 17},\n",
       " {'name': 'Hot Topic', 'value': 17},\n",
       " {'name': 'Rainy Day', 'value': 17}]"
      ]
     },
     "execution_count": 27,
     "metadata": {},
     "output_type": "execute_result"
    }
   ],
   "source": [
    "# Top 5 most connected aesthetics in terms of out degree\n",
    "sorted([\n",
    "    {'name':x, 'value':DG.out_degree(x)} \n",
    "    for x,y in DG.nodes(data=True) \n",
    "], key=lambda k: k['value'],reverse=True)[0:20]"
   ]
  },
  {
   "cell_type": "code",
   "execution_count": 86,
   "id": "e430bf69",
   "metadata": {
    "ExecuteTime": {
     "end_time": "2021-12-02T14:56:14.262213Z",
     "start_time": "2021-12-02T14:56:14.193399Z"
    }
   },
   "outputs": [],
   "source": [
    "# extraction of GCC and creation of the undirected version of the graph\n",
    "largest_cc = max(nx.weakly_connected_components(DG), key=len)\n",
    "DGCC = DG.subgraph(largest_cc)\n",
    "UGCC = DGCC.to_undirected()"
   ]
  },
  {
   "cell_type": "code",
   "execution_count": 87,
   "id": "40e2292d",
   "metadata": {
    "ExecuteTime": {
     "end_time": "2021-12-02T14:56:15.228554Z",
     "start_time": "2021-12-02T14:56:15.191652Z"
    }
   },
   "outputs": [
    {
     "data": {
      "text/plain": [
       "(511, 3285)"
      ]
     },
     "execution_count": 87,
     "metadata": {},
     "output_type": "execute_result"
    }
   ],
   "source": [
    "len(DGCC.nodes()), len(DGCC.edges())"
   ]
  },
  {
   "cell_type": "code",
   "execution_count": 88,
   "id": "fbf3a317",
   "metadata": {
    "ExecuteTime": {
     "end_time": "2021-12-02T14:56:15.883863Z",
     "start_time": "2021-12-02T14:56:15.869904Z"
    }
   },
   "outputs": [
    {
     "data": {
      "text/plain": [
       "(511, 2540)"
      ]
     },
     "execution_count": 88,
     "metadata": {},
     "output_type": "execute_result"
    }
   ],
   "source": [
    "len(UGCC.nodes()), len(UGCC.edges())"
   ]
  },
  {
   "cell_type": "code",
   "execution_count": 31,
   "id": "79ace8da",
   "metadata": {
    "ExecuteTime": {
     "end_time": "2021-11-23T23:32:25.020384Z",
     "start_time": "2021-11-23T23:32:20.599906Z"
    },
    "scrolled": false
   },
   "outputs": [
    {
     "data": {
      "image/png": "[encoded data removed]",
      "text/plain": [
       "<Figure size 432x288 with 1 Axes>"
      ]
     },
     "metadata": {
      "needs_background": "light"
     },
     "output_type": "display_data"
    },
    {
     "data": {
      "image/png": "[encoded data removed]",
      "text/plain": [
       "<Figure size 432x288 with 1 Axes>"
      ]
     },
     "metadata": {
      "needs_background": "light"
     },
     "output_type": "display_data"
    }
   ],
   "source": [
    "d_in=dict(DGCC.in_degree())\n",
    "#Bar plot of the in-degree distribution\n",
    "in_degrees=list(d_in.values())\n",
    "v1 = np.arange(int(min(in_degrees)),int(max(in_degrees)))\n",
    "count,bins=np.histogram(in_degrees,bins=v1)\n",
    "plt.bar(bins[:-1], count,color='#5ce1e6')\n",
    "plt.title('Distribution of in-degrees of the Aesthetics Network',fontsize=13)\n",
    "plt.xlabel('In-Degree',fontsize=12,fontweight='bold')\n",
    "plt.ylabel('Counts',fontsize=12)\n",
    "plt.show() \n",
    "\n",
    "d_out=dict(DGCC.out_degree())\n",
    "#Bar plot of the out-degree distribution\n",
    "out_degrees=list(d_out.values())\n",
    "v2 = np.arange(int(min(out_degrees)),int(max(out_degrees))+2)\n",
    "count,bins=np.histogram(out_degrees,bins=v2)\n",
    "plt.bar(bins[:-1], count,color='#5ce1e6')\n",
    "plt.title('Distribution of out-degrees of the Aesthetics Network',fontsize=13)\n",
    "plt.xlabel('Out-Degree',fontsize=12,fontweight='bold')\n",
    "plt.ylabel('Counts',fontsize=12)\n",
    "plt.show() "
   ]
  },
  {
   "cell_type": "markdown",
   "id": "c2a8be55",
   "metadata": {
    "ExecuteTime": {
     "end_time": "2021-11-23T23:32:54.200368Z",
     "start_time": "2021-11-23T23:32:54.192389Z"
    }
   },
   "source": [
    "# Graph analysis"
   ]
  },
  {
   "cell_type": "markdown",
   "id": "fb496682",
   "metadata": {},
   "source": [
    "## Basic stats"
   ]
  },
  {
   "cell_type": "code",
   "execution_count": 58,
   "id": "3121bed3",
   "metadata": {
    "ExecuteTime": {
     "end_time": "2021-11-23T23:54:35.217022Z",
     "start_time": "2021-11-23T23:54:35.194359Z"
    }
   },
   "outputs": [],
   "source": [
    "# extraction of GCC and creation of the undirected version of the graph\n",
    "largest_cc = max(nx.weakly_connected_components(DG), key=len)\n",
    "DGCC = DG.subgraph(largest_cc)\n",
    "UGCC = DGCC.to_undirected()"
   ]
  },
  {
   "cell_type": "markdown",
   "id": "e7605d7f",
   "metadata": {},
   "source": [
    "### Number of nodes"
   ]
  },
  {
   "cell_type": "code",
   "execution_count": 34,
   "id": "9144b275",
   "metadata": {
    "ExecuteTime": {
     "end_time": "2021-11-23T23:38:36.810688Z",
     "start_time": "2021-11-23T23:38:36.804705Z"
    }
   },
   "outputs": [
    {
     "data": {
      "text/plain": [
       "546"
      ]
     },
     "execution_count": 34,
     "metadata": {},
     "output_type": "execute_result"
    }
   ],
   "source": [
    "len(DG.nodes)"
   ]
  },
  {
   "cell_type": "code",
   "execution_count": 59,
   "id": "72927cfb",
   "metadata": {
    "ExecuteTime": {
     "end_time": "2021-11-23T23:54:44.508612Z",
     "start_time": "2021-11-23T23:54:44.496301Z"
    }
   },
   "outputs": [
    {
     "data": {
      "text/plain": [
       "508"
      ]
     },
     "execution_count": 59,
     "metadata": {},
     "output_type": "execute_result"
    }
   ],
   "source": [
    "len(DGCC.nodes)"
   ]
  },
  {
   "cell_type": "code",
   "execution_count": 63,
   "id": "b7bee0f5",
   "metadata": {
    "ExecuteTime": {
     "end_time": "2021-11-23T23:56:11.270794Z",
     "start_time": "2021-11-23T23:56:11.261748Z"
    },
    "collapsed": true
   },
   "outputs": [
    {
     "data": {
      "text/plain": [
       "{'Afro-Victorian',\n",
       " 'Anglocore',\n",
       " 'Arts and Crafts',\n",
       " 'Bills',\n",
       " 'Bombacore',\n",
       " 'Comiccore',\n",
       " 'Dungeon Synth',\n",
       " 'Emancicore',\n",
       " 'Ero guro',\n",
       " 'Functionalism',\n",
       " 'Gorean',\n",
       " 'Grandmillenial',\n",
       " 'Grindhouse',\n",
       " 'Gull Girl',\n",
       " 'Junkpunk',\n",
       " 'La Sape',\n",
       " 'Maidcore',\n",
       " 'Malandragem',\n",
       " 'Mindcore',\n",
       " 'Onii Kei',\n",
       " 'Pachuco',\n",
       " 'Paninaro',\n",
       " 'Post-rock',\n",
       " 'Powwow Step',\n",
       " 'Progressive Academia',\n",
       " 'Salon Kei',\n",
       " 'Sharpies',\n",
       " 'Shā mǎ tè',\n",
       " 'Skinheads',\n",
       " 'Soulboys',\n",
       " 'Spy fiction',\n",
       " 'Stilyagi',\n",
       " 'Swenkas',\n",
       " 'Viking',\n",
       " 'Waldorf',\n",
       " 'Wandervogel',\n",
       " 'Yankeecore',\n",
       " 'Zazou'}"
      ]
     },
     "execution_count": 63,
     "metadata": {},
     "output_type": "execute_result"
    }
   ],
   "source": [
    "DG.nodes-DGCC.nodes"
   ]
  },
  {
   "cell_type": "markdown",
   "id": "e2a91feb",
   "metadata": {
    "ExecuteTime": {
     "end_time": "2021-11-23T23:38:51.415277Z",
     "start_time": "2021-11-23T23:38:51.405304Z"
    }
   },
   "source": [
    "### Number of links\n",
    "\n"
   ]
  },
  {
   "cell_type": "code",
   "execution_count": 37,
   "id": "c7bcd8a7",
   "metadata": {
    "ExecuteTime": {
     "end_time": "2021-11-23T23:39:06.531713Z",
     "start_time": "2021-11-23T23:39:06.522612Z"
    }
   },
   "outputs": [
    {
     "data": {
      "text/plain": [
       "3277"
      ]
     },
     "execution_count": 37,
     "metadata": {},
     "output_type": "execute_result"
    }
   ],
   "source": [
    "len(DG.edges)"
   ]
  },
  {
   "cell_type": "code",
   "execution_count": 61,
   "id": "2ece6482",
   "metadata": {
    "ExecuteTime": {
     "end_time": "2021-11-23T23:55:36.089607Z",
     "start_time": "2021-11-23T23:55:36.070127Z"
    }
   },
   "outputs": [
    {
     "data": {
      "text/plain": [
       "3274"
      ]
     },
     "execution_count": 61,
     "metadata": {},
     "output_type": "execute_result"
    }
   ],
   "source": [
    "len(DGCC.edges)"
   ]
  },
  {
   "cell_type": "code",
   "execution_count": 62,
   "id": "42a72df2",
   "metadata": {
    "ExecuteTime": {
     "end_time": "2021-11-23T23:55:41.851029Z",
     "start_time": "2021-11-23T23:55:41.833254Z"
    }
   },
   "outputs": [
    {
     "data": {
      "text/plain": [
       "2533"
      ]
     },
     "execution_count": 62,
     "metadata": {},
     "output_type": "execute_result"
    }
   ],
   "source": [
    "len(UGCC.edges)"
   ]
  },
  {
   "cell_type": "markdown",
   "id": "10a51e18",
   "metadata": {},
   "source": [
    "### Distributions of properties"
   ]
  },
  {
   "cell_type": "code",
   "execution_count": 64,
   "id": "42b971bf",
   "metadata": {
    "ExecuteTime": {
     "end_time": "2021-11-23T23:57:15.081563Z",
     "start_time": "2021-11-23T23:57:15.065606Z"
    },
    "scrolled": true
   },
   "outputs": [],
   "source": [
    "nx.set_node_attributes(DGCC, loc)"
   ]
  },
  {
   "cell_type": "code",
   "execution_count": 65,
   "id": "c6eb1695",
   "metadata": {
    "ExecuteTime": {
     "end_time": "2021-11-23T23:57:15.299036Z",
     "start_time": "2021-11-23T23:57:15.290060Z"
    },
    "collapsed": true
   },
   "outputs": [
    {
     "data": {
      "text/plain": [
       "NodeDataView({'Abstract': {'loc': 553}, 'Abstract Tech': {'loc': 761}, 'Acid Pixie': {'loc': 599}, 'Acidwave': {'loc': 432}, 'Adventurecore': {'loc': 1750}, 'Afrofuturism': {'loc': 982}, 'After Hours': {'loc': 676}, 'Agropeople': {'loc': 530}, 'Alien': {'loc': 396}, 'Alternative': {'loc': 2029}, 'Americana': {'loc': 2791}, 'American Pioneers': {'loc': 1373}, 'American Revolution': {'loc': 207}, 'Androgynous': {'loc': 391}, 'Anemoiacore': {'loc': 981}, 'Angelcore': {'loc': 1983}, 'Anglo Gothic': {'loc': 604}, 'Angura Kei': {'loc': 342}, 'Animecore': {'loc': 1245}, 'Anti-Fashion': {'loc': 401}, 'Applecore': {'loc': 320}, 'Art Academia': {'loc': 974}, 'Art Deco': {'loc': 965}, 'Art Hoe': {'loc': 998}, 'Art Nouveau': {'loc': 364}, 'Artistiekelingen': {'loc': 204}, 'Athlete': {'loc': 697}, 'Atompunk': {'loc': 889}, 'Auroracore': {'loc': 1008}, 'Autumn': {'loc': 529}, 'Avant-garde': {'loc': 361}, 'Babycore': {'loc': 733}, 'Babygirl': {'loc': 2018}, 'Barbiecore': {'loc': 1219}, 'Bardcore': {'loc': 596}, 'Baddie': {'loc': 1722}, 'Ballet Academia': {'loc': 595}, 'Baroque': {'loc': 1093}, 'Bastardcore': {'loc': 740}, 'Beatnik': {'loc': 355}, 'Bibliopunk': {'loc': 383}, 'Biker': {'loc': 631}, 'Bimbo Casual': {'loc': 424}, 'Biopunk': {'loc': 409}, 'Bizarro Fiction': {'loc': 684}, 'Blob Web': {'loc': 510}, 'Bloomcore': {'loc': 626}, 'Bodikon': {'loc': 1863}, 'Bogan': {'loc': 131}, 'Bohemian': {'loc': 455}, 'Bosozoku': {'loc': 225}, 'Boujee': {'loc': 1108}, 'Breakcore': {'loc': 1453}, 'Brocore': {'loc': 856}, 'Bronzepunk': {'loc': 297}, 'Britpop': {'loc': 279}, 'Bubble Goth': {'loc': 352}, 'Bubblegum Bitch': {'loc': 1068}, 'Bubblegum Witch': {'loc': 461}, 'Bunnycore': {'loc': 477}, 'Butterfly': {'loc': 447}, 'Cabincore': {'loc': 1038}, 'Cagole': {'loc': 371}, 'Camp': {'loc': 1100}, 'Campcore': {'loc': 386}, 'Candycore': {'loc': 537}, 'Caninecore': {'loc': 1791}, 'Carcore': {'loc': 569}, 'Cargopunk': {'loc': 325}, 'Carnivalcore': {'loc': 609}, 'Cartelcore': {'loc': 423}, 'Cartooncore': {'loc': 997}, 'Casino': {'loc': 542}, 'Cassette Futurism': {'loc': 295}, 'Changelingcore': {'loc': 662}, 'Chav': {'loc': 1183}, 'Cherry Emoji Twitter': {'loc': 697}, 'Chic Modernist': {'loc': 600}, 'Cholo': {'loc': 514}, 'Christcore': {'loc': 444}, 'Christian Girl Autumn': {'loc': 606}, 'Christmas': {'loc': 1363}, 'Chaotic Academia': {'loc': 1834}, 'City Pop': {'loc': 1228}, 'Classic Academia': {'loc': 674}, 'Classic Lolita': {'loc': 295}, 'Classicism': {'loc': 659}, 'Cleancore': {'loc': 924}, 'Clockpunk': {'loc': 197}, 'Cloudcore': {'loc': 406}, 'Clowncore': {'loc': 1128}, 'Club': {'loc': 601}, 'Club Kids': {'loc': 1147}, 'Coffee House/Cafe': {'loc': 663}, 'Comfy/Cozy': {'loc': 826}, 'Common White Girl': {'loc': 1097}, 'Concore': {'loc': 1434}, 'Constructivism': {'loc': 369}, 'Corporate': {'loc': 763}, 'Cottagecore': {'loc': 5365}, 'Cottagegore': {'loc': 736}, 'Country': {'loc': 843}, 'Cowpunk': {'loc': 194}, 'C-Pop': {'loc': 275}, 'Crackhead': {'loc': 937}, 'Craftcore': {'loc': 817}, 'Cripplepunk': {'loc': 574}, 'Crowcore': {'loc': 524}, 'Crustpunk': {'loc': 605}, 'Cryptid Academia': {'loc': 861}, 'Cryptidcore': {'loc': 1616}, 'Crystalcore': {'loc': 644}, 'Cubism': {'loc': 735}, 'Cuddle Party': {'loc': 508}, 'Cultcore': {'loc': 621}, 'Cult Party Kei': {'loc': 1061}, 'Cyber Minimalism': {'loc': 516}, 'Cyberdelic': {'loc': 769}, 'Cyberghetto': {'loc': 409}, 'Cybergoth': {'loc': 947}, 'Cybergrunge': {'loc': 377}, 'Cyberpop': {'loc': 863}, 'Cyberprep': {'loc': 524}, 'Cyberpunk': {'loc': 2288}, 'Dadaism': {'loc': 998}, 'Dark Paradise': {'loc': 640}, 'Dark Academia': {'loc': 7916}, 'Dark Naturalism': {'loc': 658}, 'Dark Nautical': {'loc': 1023}, 'Dark Nymphet': {'loc': 292}, 'Darkest Academia': {'loc': 788}, 'Daydreampunk': {'loc': 244}, 'Dazecore': {'loc': 497}, 'Decora': {'loc': 574}, 'Decopunk': {'loc': 707}, 'Desertwave': {'loc': 651}, 'De Stijl': {'loc': 472}, 'Devilcore': {'loc': 1224}, 'Diner': {'loc': 578}, 'Dinocore': {'loc': 468}, 'Dieselpunk': {'loc': 565}, 'Dollcore': {'loc': 498}, 'Dolly Kei': {'loc': 483}, 'Dracopunk': {'loc': 234}, 'Dragoncore': {'loc': 1666}, 'Dreamy': {'loc': 1103}, 'Drugcore': {'loc': 789}, 'Dual Kawaii': {'loc': 602}, 'Dullcore': {'loc': 560}, 'E-Boy': {'loc': 758}, 'E-Girl': {'loc': 927}, 'Electro Swing': {'loc': 451}, 'Emo': {'loc': 1156}, 'Equestrian': {'loc': 384}, 'Erokawa': {'loc': 423}, 'Ethereal': {'loc': 580}, 'Expressionism': {'loc': 730}, 'Fairy Academia': {'loc': 1016}, 'Fairycore': {'loc': 978}, 'Fairy Kei': {'loc': 794}, 'Fairy Tale': {'loc': 617}, 'Fanfare': {'loc': 1291}, 'Fantasy': {'loc': 746}, 'Fantasy Astronomy': {'loc': 107}, 'Fashwave': {'loc': 1582}, 'Fauvism': {'loc': 794}, 'Fawncore': {'loc': 530}, 'Femme Fatale': {'loc': 1134}, 'Film Noir': {'loc': 466}, 'Flapper': {'loc': 1280}, 'Fluxus Movement': {'loc': 133}, 'Foodie': {'loc': 1059}, 'Forestpunk': {'loc': 1291}, 'Fractal art': {'loc': 260}, 'Freak': {'loc': 105}, 'French Girl': {'loc': 896}, 'Frutiger Aero': {'loc': 749}, 'Furry': {'loc': 937}, 'Futago': {'loc': 280}, 'Futurism': {'loc': 443}, 'Gadgetpunk': {'loc': 215}, 'Game Night': {'loc': 328}, 'Gamine': {'loc': 606}, 'Geek': {'loc': 835}, 'Ghostcore': {'loc': 770}, 'Girl-Next-Door': {'loc': 339}, 'Glam Girl': {'loc': 349}, 'Glam Rock': {'loc': 696}, 'Glitch': {'loc': 653}, 'Gloomcore': {'loc': 710}, 'Glowwave': {'loc': 1147}, 'Goblincore': {'loc': 1693}, 'Goblin Academia': {'loc': 613}, 'Golden Age of Detective Fiction': {'loc': 1140}, 'Golden Hour': {'loc': 522}, 'Gopnik': {'loc': 499}, 'Gorecore': {'loc': 655}, 'Goth': {'loc': 4115}, 'Gothcore': {'loc': 500}, 'Gothic': {'loc': 1073}, 'Grandparentcore': {'loc': 926}, 'Grunge': {'loc': 1688}, 'Gurokawa': {'loc': 661}, 'Gyaru': {'loc': 2942}, 'Hallyu': {'loc': 1315}, 'Hauntology': {'loc': 713}, 'Halloween': {'loc': 715}, 'Happycore': {'loc': 870}, 'Hatecore': {'loc': 439}, 'Haussmann Paris': {'loc': 207}, 'Health Goth': {'loc': 933}, 'Heatwave': {'loc': 498}, 'Heistcore': {'loc': 1487}, 'Hellenic': {'loc': 1829}, 'Hermaphroditus': {'loc': 456}, 'High School Dream': {'loc': 836}, 'Hikecore': {'loc': 498}, 'Hip-Hop': {'loc': 1695}, 'Hippie': {'loc': 861}, 'Hipster': {'loc': 562}, 'Historical Americana': {'loc': 622}, 'Holosexual': {'loc': 734}, 'Honeycore': {'loc': 893}, 'Horror': {'loc': 1312}, 'Horror Academia': {'loc': 1649}, 'Hot Topic': {'loc': 1138}, 'Hustlewave': {'loc': 706}, 'Hydrogen': {'loc': 395}, 'Hyperpop': {'loc': 928}, 'Icepunk': {'loc': 671}, 'Impressionism': {'loc': 643}, 'Ironpunk': {'loc': 75}, 'Indie': {'loc': 1322}, 'Internet Academia': {'loc': 650}, 'Italo Disco': {'loc': 443}, 'Italian Mafia': {'loc': 1182}, 'Jamcore': {'loc': 670}, 'Jersey Shore': {'loc': 1483}, 'Joyride': {'loc': 612}, 'Juggalo': {'loc': 478}, 'Junglecore': {'loc': 888}, 'Karasu Zoku': {'loc': 775}, 'Kawaii': {'loc': 3687}, 'Kidcore': {'loc': 1314}, 'Kid Science': {'loc': 466}, 'Kinderwhore': {'loc': 934}, 'Kingcore': {'loc': 711}, 'Knightcore': {'loc': 690}, 'Kogal': {'loc': 596}, 'Kuromicore': {'loc': 558}, 'Laborwave': {'loc': 657}, 'Lagenlook': {'loc': 153}, 'Larme Kei': {'loc': 1295}, 'Light Academia': {'loc': 2483}, 'Lightningwave': {'loc': 335}, 'Lil Girl': {'loc': 315}, 'Lit Kid': {'loc': 221}, 'Liminal Space': {'loc': 1315}, 'Lo-Fi': {'loc': 2056}, 'Lolita': {'loc': 3643}, 'Lounge': {'loc': 469}, 'Lovecore': {'loc': 1346}, 'Luminism': {'loc': 517}, 'Lunarpunk': {'loc': 824}, 'Macaute': {'loc': 571}, 'Mad Scientist': {'loc': 290}, 'Magenta': {'loc': 238}, 'Magewave': {'loc': 435}, 'Mallgoth': {'loc': 500}, 'Mall Ninja': {'loc': 1001}, 'Mangas': {'loc': 234}, 'Maternity': {'loc': 135}, 'McBling': {'loc': 1056}, 'Medicalcore': {'loc': 988}, 'Medieval': {'loc': 180}, 'Memphis': {'loc': 462}, 'Metal': {'loc': 1951}, 'Metalcore': {'loc': 571}, 'Metrosexual': {'loc': 287}, 'Miami Metro': {'loc': 411}, 'Midwest Emo': {'loc': 1779}, 'Midwest Gothic': {'loc': 557}, 'Military': {'loc': 2370}, 'Milleniwave': {'loc': 4128}, 'Milk': {'loc': 463}, 'Minimalism': {'loc': 2036}, 'Mod': {'loc': 1010}, 'Modernism': {'loc': 1232}, 'Mori Kei': {'loc': 1312}, 'Morute': {'loc': 1621}, 'Mote Kei': {'loc': 235}, 'Mosscore': {'loc': 755}, 'Mushroomcore': {'loc': 734}, 'Musical Academia': {'loc': 1332}, 'Nanopunk': {'loc': 156}, 'Natural Philosophy': {'loc': 23}, 'Naturecore': {'loc': 587}, 'Nautical': {'loc': 579}, 'Nazi Chic': {'loc': 784}, 'Neko': {'loc': 558}, 'Neomilitarism': {'loc': 517}, 'Nerd': {'loc': 1465}, 'Nerdcore': {'loc': 1356}, 'New Age': {'loc': 2057}, 'New Romantic': {'loc': 281}, 'Neo-Romanism': {'loc': 1917}, 'New Wave': {'loc': 241}, 'Nintencore': {'loc': 686}, 'Normcore': {'loc': 1415}, 'Northerness': {'loc': 851}, 'Nostalgiacore': {'loc': 1526}, 'Nowpunk': {'loc': 143}, 'Nozems': {'loc': 101}, 'Nuclear': {'loc': 398}, 'Nu-Goth': {'loc': 504}, 'Nymphet': {'loc': 1545}, 'Ocean Academia': {'loc': 1148}, 'Ocean Grunge': {'loc': 824}, 'Old Hollywood': {'loc': 908}, 'Old Web': {'loc': 1053}, 'Oshare Kei': {'loc': 486}, 'Otherkin': {'loc': 1514}, 'Pale': {'loc': 1243}, 'Palewave': {'loc': 692}, 'Paleocore': {'loc': 429}, 'Party Animal': {'loc': 375}, 'Party Kei': {'loc': 386}, 'Pastel': {'loc': 484}, 'Pastel Academia': {'loc': 3222}, 'Pastel Goth': {'loc': 718}, 'Pastel Punk': {'loc': 226}, 'Peach': {'loc': 1298}, 'Pearly': {'loc': 439}, 'Peoplehood': {'loc': 424}, 'Petcore': {'loc': 439}, 'Photorealism': {'loc': 374}, 'Pigeoncore': {'loc': 681}, 'Pink': {'loc': 491}, 'Pin-up': {'loc': 2381}, 'Pirate': {'loc': 906}, 'Pixel Cutie': {'loc': 612}, 'Pixiecore': {'loc': 573}, 'Plaguecore': {'loc': 465}, 'Plant Mom': {'loc': 909}, 'Playboy': {'loc': 1109}, 'Pointillism': {'loc': 210}, 'Pop': {'loc': 4340}, 'Pop Art': {'loc': 749}, 'Pop Kei': {'loc': 306}, 'Post-Impressionism': {'loc': 212}, 'Postmodernism': {'loc': 281}, 'Post-Apocalyptic': {'loc': 860}, 'Prairiecore': {'loc': 718}, 'Preppy': {'loc': 3287}, 'Princecore': {'loc': 746}, 'Princesscore': {'loc': 1302}, 'Psychedelica': {'loc': 632}, 'Punk': {'loc': 2283}, 'Purism': {'loc': 426}, 'Queencore': {'loc': 851}, 'Queer Academia': {'loc': 722}, 'Queercore': {'loc': 921}, 'R&B': {'loc': 14}, 'Racaille': {'loc': 326}, 'Rainbowcore': {'loc': 998}, 'Rainy Day': {'loc': 775}, 'Rangercore': {'loc': 322}, 'Ratcore': {'loc': 491}, 'Ravencore': {'loc': 616}, 'Raver': {'loc': 1656}, 'Real Life Super Hero': {'loc': 394}, 'Realism': {'loc': 321}, 'Reefwave': {'loc': 506}, 'Regency': {'loc': 870}, 'Regional Gothic': {'loc': 297}, 'Retro-Futurism': {'loc': 439}, 'Rivethead': {'loc': 917}, 'Roaring 20s': {'loc': 466}, 'Robotics Kids': {'loc': 731}, 'Rockabilly': {'loc': 574}, 'Rococo': {'loc': 514}, 'Rococopunk': {'loc': 143}, 'Rollerwave': {'loc': 1237}, 'Roma': {'loc': 667}, 'Romantic Goth': {'loc': 413}, 'Romanticism': {'loc': 1098}, 'Romantic Academia': {'loc': 1437}, 'Romantic Italian': {'loc': 609}, 'Royalcore': {'loc': 3606}, 'Rural China': {'loc': 629}, 'Rusticcore': {'loc': 290}, 'Sadpeople': {'loc': 947}, 'Sandalpunk': {'loc': 277}, 'Sanriocore': {'loc': 754}, 'Science Academia': {'loc': 2250}, 'Scrapbook': {'loc': 409}, 'Scrapper': {'loc': 578}, 'Scene': {'loc': 634}, 'Scoutcore': {'loc': 566}, 'Scuttlers': {'loc': 168}, 'Seapunk': {'loc': 1035}, 'Selkiecore': {'loc': 1354}, 'Shanzhai': {'loc': 245}, 'Shabby Chic': {'loc': 404}, 'Shironuri': {'loc': 199}, 'Sizz': {'loc': 540}, 'Slimepunk': {'loc': 707}, 'Sloanies': {'loc': 2655}, 'Slutcore': {'loc': 760}, 'Snailcore': {'loc': 219}, 'Snowdrop': {'loc': 601}, 'Soft Apocalypse': {'loc': 509}, 'Softie': {'loc': 1528}, 'Soft Macabre': {'loc': 256}, 'Soggy': {'loc': 446}, 'Solarpunk': {'loc': 1009}, 'Southern Gothic': {'loc': 1237}, 'Sovietwave': {'loc': 1164}, 'Spacecore': {'loc': 825}, 'Sparklecore': {'loc': 375}, 'Spiritcore': {'loc': 484}, 'Spring': {'loc': 351}, 'Steampunk': {'loc': 906}, 'Steelpunk': {'loc': 469}, 'Stimwave': {'loc': 285}, 'Stonepunk': {'loc': 142}, 'Stoner': {'loc': 1087}, 'Stripcore': {'loc': 801}, 'Studyblr': {'loc': 512}, 'Studyplace': {'loc': 271}, 'Styla': {'loc': 247}, 'Suburban Gothic': {'loc': 733}, 'Sukeban': {'loc': 502}, 'Summer': {'loc': 482}, 'Suprematism': {'loc': 262}, 'Surf Crush': {'loc': 780}, 'Surrealism': {'loc': 359}, 'Surreal Memer': {'loc': 419}, 'Swordpunk': {'loc': 278}, 'Synthwave': {'loc': 1779}, 'Takenokozoku': {'loc': 322}, 'Tenwave': {'loc': 527}, 'Techwear': {'loc': 271}, 'Teddies': {'loc': 626}, 'Technical Scene': {'loc': 375}, 'Teethcore': {'loc': 315}, 'Theatre Academia': {'loc': 672}, 'Theatre Kids': {'loc': 625}, 'Thriftcore': {'loc': 498}, 'Tomboy': {'loc': 685}, 'Trad Goth': {'loc': 342}, 'Traditional Polish': {'loc': 1620}, 'Trailer Park Princess': {'loc': 642}, 'Trashcore': {'loc': 501}, 'Traumacore': {'loc': 2867}, 'Trendercore': {'loc': 1016}, 'Trillwave': {'loc': 3590}, 'Tropical': {'loc': 1298}, 'Tupinipunk': {'loc': 280}, 'Tweencore': {'loc': 638}, 'Twee': {'loc': 1233}, 'Ukiyo-e': {'loc': 178}, 'Ulzzang': {'loc': 222}, 'Urbancore': {'loc': 1148}, 'Unicorncore': {'loc': 1387}, 'Vacation Dadcore': {'loc': 1765}, 'Vampire': {'loc': 1525}, 'Vaporwave': {'loc': 4913}, 'Vibrant Academia': {'loc': 1148}, 'Victorian': {'loc': 773}, 'Victorian Goth': {'loc': 250}, 'Vintage': {'loc': 455}, 'Vintage Academia': {'loc': 1037}, 'Vintage Parisian': {'loc': 1543}, \"Virgo's Tears\": {'loc': 291}, 'Visual Kei': {'loc': 902}, 'VSCO': {'loc': 1368}, 'Voidpunk': {'loc': 673}, 'Vorticism': {'loc': 282}, 'Vulture Culture': {'loc': 280}, 'Wabi-Sabi': {'loc': 208}, 'Waif': {'loc': 1859}, 'Wanderlust': {'loc': 297}, 'Warmcore': {'loc': 265}, 'Web Creep': {'loc': 645}, 'Weirdcore': {'loc': 1340}, 'Western': {'loc': 685}, 'Winter': {'loc': 375}, 'Witchy Academia': {'loc': 754}, 'Witch House': {'loc': 808}, 'Witchcore': {'loc': 1364}, 'Wizardcore': {'loc': 359}, 'Wonderland': {'loc': 464}, 'Woodland Goth': {'loc': 23}, 'Wormcore': {'loc': 681}, 'Writer Academia': {'loc': 1074}, 'Y2K': {'loc': 2713}, 'Yakuza': {'loc': 380}, 'Yami Kawaii': {'loc': 1276}, 'Yanki': {'loc': 449}, 'Yume Kawaii': {'loc': 706}, 'Yandere': {'loc': 1302}, 'Zef': {'loc': 183}, 'Zentai': {'loc': 684}, 'Zombiecore': {'loc': 217}, '1950s Suburbia': {'loc': 1378}, '2 Tone': {'loc': 523}, '70s Disco': {'loc': 210}})"
      ]
     },
     "execution_count": 65,
     "metadata": {},
     "output_type": "execute_result"
    }
   ],
   "source": [
    "DGCC.nodes.data()"
   ]
  },
  {
   "cell_type": "code",
   "execution_count": 66,
   "id": "a550b68e",
   "metadata": {
    "ExecuteTime": {
     "end_time": "2021-11-23T23:57:15.593813Z",
     "start_time": "2021-11-23T23:57:15.587830Z"
    }
   },
   "outputs": [
    {
     "data": {
      "text/plain": [
       "855.7106299212599"
      ]
     },
     "execution_count": 66,
     "metadata": {},
     "output_type": "execute_result"
    }
   ],
   "source": [
    "loc_list = [DGCC.nodes[node]['loc'] for node in DGCC.nodes]\n",
    "np.mean(loc_list)"
   ]
  },
  {
   "cell_type": "code",
   "execution_count": 57,
   "id": "9ffe5895",
   "metadata": {
    "ExecuteTime": {
     "end_time": "2021-11-23T23:52:54.040343Z",
     "start_time": "2021-11-23T23:52:53.789451Z"
    },
    "scrolled": true
   },
   "outputs": [
    {
     "data": {
      "image/png": "[encoded data removed]",
      "text/plain": [
       "<Figure size 432x288 with 1 Axes>"
      ]
     },
     "metadata": {
      "needs_background": "light"
     },
     "output_type": "display_data"
    }
   ],
   "source": [
    "counts, edges = np.histogram(loc_list, bins = 100)\n",
    "plt.bar(edges[:-1], counts, width=np.diff(edges))\n",
    "plt.title(\"Degree distribution of graph G_np\")\n",
    "plt.xlabel('Number of nodes')\n",
    "plt.ylabel('Degree of the node')\n",
    "plt.show()"
   ]
  },
  {
   "cell_type": "markdown",
   "id": "b96d663c",
   "metadata": {},
   "source": [
    "### Degree Distributions"
   ]
  },
  {
   "cell_type": "code",
   "execution_count": 85,
   "id": "f6982ce1",
   "metadata": {
    "ExecuteTime": {
     "end_time": "2021-11-24T00:11:52.718594Z",
     "start_time": "2021-11-24T00:11:52.052646Z"
    }
   },
   "outputs": [
    {
     "name": "stderr",
     "output_type": "stream",
     "text": [
      "C:\\Users\\bgran\\AppData\\Local\\Temp/ipykernel_26920/2762125872.py:13: RuntimeWarning: divide by zero encountered in log\n",
      "  axs[0, 1].scatter(np.log(edges[:-1]), np.log(counts))\n",
      "C:\\Users\\bgran\\AppData\\Local\\Temp/ipykernel_26920/2762125872.py:28: RuntimeWarning: divide by zero encountered in log\n",
      "  axs[1, 1].scatter(np.log(edges[:-1]), np.log(counts))\n"
     ]
    },
    {
     "data": {
      "image/png": "[encoded data removed]",
      "text/plain": [
       "<Figure size 1152x864 with 4 Axes>"
      ]
     },
     "metadata": {
      "needs_background": "dark"
     },
     "output_type": "display_data"
    }
   ],
   "source": [
    "# directed in degrees\n",
    "fig, axs = plt.subplots(2, 2, figsize = (16,12))\n",
    "\n",
    "d_in=dict(DGCC.in_degree())\n",
    "#Bar plot of the in-degree distribution\n",
    "in_degrees=list(d_in.values())\n",
    "v1 = np.arange(int(min(in_degrees)),int(max(in_degrees)))\n",
    "count,bins=np.histogram(in_degrees,bins=v1)\n",
    "axs[0, 0].bar(bins[:-1], count)\n",
    "axs[0, 0].set_title('Distribution of in-degrees of the Aesthetics Network')\n",
    "\n",
    "x = [val for (node, val) in DGCC.in_degree()]\n",
    "counts, edges = np.histogram(x, bins = 1000)\n",
    "axs[0, 1].scatter(np.log(edges[:-1]), np.log(counts))\n",
    "axs[0, 1].set_title('Axis [1, 0]')\n",
    "\n",
    "\n",
    "# directed out degrees\n",
    "d_out=dict(DGCC.out_degree())\n",
    "#Bar plot of the out-degree distribution\n",
    "out_degrees=list(d_out.values())\n",
    "v2 = np.arange(int(min(out_degrees)),int(max(out_degrees))+2)\n",
    "count,bins=np.histogram(out_degrees,bins=v2)\n",
    "axs[1, 0].bar(bins[:-1], count)\n",
    "axs[1, 0].set_title('Distribution of out-degrees of the Aesthetics Network')\n",
    "\n",
    "x = [val for (node, val) in DGCC.out_degree()]\n",
    "counts, edges = np.histogram(x, bins = 1000)\n",
    "axs[1, 1].scatter(np.log(edges[:-1]), np.log(counts))\n",
    "axs[1, 1].set_title('Axis [1, 0]')\n",
    "\n",
    "for ax in axs.flat:\n",
    "    ax.set(xlabel='x-label', ylabel='y-label')\n",
    "\n"
   ]
  },
  {
   "cell_type": "code",
   "execution_count": 89,
   "id": "bdc0d3cb",
   "metadata": {
    "ExecuteTime": {
     "end_time": "2021-11-24T00:13:39.345970Z",
     "start_time": "2021-11-24T00:13:39.036881Z"
    }
   },
   "outputs": [
    {
     "name": "stderr",
     "output_type": "stream",
     "text": [
      "C:\\Users\\bgran\\AppData\\Local\\Temp/ipykernel_26920/1777366445.py:13: RuntimeWarning: divide by zero encountered in log\n",
      "  axs[1].scatter(np.log(edges[:-1]), np.log(counts))\n"
     ]
    },
    {
     "data": {
      "text/plain": [
       "Text(0.5, 1.0, 'Axis [1, 0]')"
      ]
     },
     "execution_count": 89,
     "metadata": {},
     "output_type": "execute_result"
    },
    {
     "data": {
      "image/png": "[encoded data removed]",
      "text/plain": [
       "<Figure size 1152x432 with 2 Axes>"
      ]
     },
     "metadata": {
      "needs_background": "dark"
     },
     "output_type": "display_data"
    }
   ],
   "source": [
    "# undirected degrees\n",
    "fig, axs = plt.subplots(1, 2, figsize = (16,6))\n",
    "\n",
    "d_in=dict(UGCC.degree())\n",
    "#Bar plot of the in-degree distribution\n",
    "in_degrees=list(d_in.values())\n",
    "v1 = np.arange(int(min(in_degrees)),int(max(in_degrees)))\n",
    "count,bins=np.histogram(in_degrees,bins=v1)\n",
    "axs[0].bar(bins[:-1], count)\n",
    "axs[0].set_title('Distribution of in-degrees of the Aesthetics Network')\n",
    "\n",
    "x = [val for (node, val) in UGCC.degree()]\n",
    "counts, edges = np.histogram(x, bins = 1000)\n",
    "axs[1].scatter(np.log(edges[:-1]), np.log(counts))\n",
    "axs[1].set_title('Axis [1, 0]')\n"
   ]
  },
  {
   "cell_type": "markdown",
   "id": "b321e2f3",
   "metadata": {
    "ExecuteTime": {
     "end_time": "2021-11-24T00:24:22.142338Z",
     "start_time": "2021-11-24T00:24:22.130557Z"
    }
   },
   "source": [
    "### Distributions stats"
   ]
  },
  {
   "cell_type": "code",
   "execution_count": 110,
   "id": "b9b9d91f",
   "metadata": {
    "ExecuteTime": {
     "end_time": "2021-11-24T00:27:56.392957Z",
     "start_time": "2021-11-24T00:27:56.371251Z"
    }
   },
   "outputs": [
    {
     "name": "stdout",
     "output_type": "stream",
     "text": [
      "6.44488188976378\n",
      "4.0\n",
      "1\n",
      "0\n",
      "56\n"
     ]
    }
   ],
   "source": [
    "# in degrees\n",
    "deg_list_all_in = [val for (node, val) in DGCC.in_degree()]\n",
    "print(np.mean(deg_list_all_in))\n",
    "print(np.median(deg_list_all_in))\n",
    "print(stats.mode(deg_list_all_in))\n",
    "print(np.min(deg_list_all_in))\n",
    "print(np.max(deg_list_all_in))"
   ]
  },
  {
   "cell_type": "code",
   "execution_count": 111,
   "id": "5aa90be3",
   "metadata": {
    "ExecuteTime": {
     "end_time": "2021-11-24T00:27:56.531167Z",
     "start_time": "2021-11-24T00:27:56.522401Z"
    }
   },
   "outputs": [
    {
     "name": "stdout",
     "output_type": "stream",
     "text": [
      "6.44488188976378\n",
      "6.0\n",
      "4\n",
      "0\n",
      "38\n"
     ]
    }
   ],
   "source": [
    "# out degrees\n",
    "deg_list_all_out = [val for (node, val) in DGCC.out_degree()]\n",
    "print(np.mean(deg_list_all_out))\n",
    "print(np.median(deg_list_all_out))\n",
    "print(stats.mode(deg_list_all_out))\n",
    "print(np.min(deg_list_all_out))\n",
    "print(np.max(deg_list_all_out))"
   ]
  },
  {
   "cell_type": "markdown",
   "id": "3af4d235",
   "metadata": {},
   "source": [
    "### Top connected nodes"
   ]
  },
  {
   "cell_type": "code",
   "execution_count": 90,
   "id": "98363f8f",
   "metadata": {
    "ExecuteTime": {
     "end_time": "2021-11-24T00:17:46.870622Z",
     "start_time": "2021-11-24T00:17:46.858654Z"
    }
   },
   "outputs": [
    {
     "data": {
      "text/plain": [
       "[{'name': 'Cottagecore', 'value': 56},\n",
       " {'name': 'Vaporwave', 'value': 55},\n",
       " {'name': 'Vintage', 'value': 47},\n",
       " {'name': 'Naturecore', 'value': 46},\n",
       " {'name': 'Cyberpunk', 'value': 42},\n",
       " {'name': 'Art Academia', 'value': 41},\n",
       " {'name': 'Dark Academia', 'value': 41},\n",
       " {'name': 'Pastel', 'value': 38},\n",
       " {'name': 'Kidcore', 'value': 37},\n",
       " {'name': 'Goth', 'value': 36},\n",
       " {'name': 'Grunge', 'value': 34},\n",
       " {'name': 'Synthwave', 'value': 33},\n",
       " {'name': 'Lo-Fi', 'value': 32},\n",
       " {'name': 'Glowwave', 'value': 30},\n",
       " {'name': 'Punk', 'value': 30},\n",
       " {'name': 'Animecore', 'value': 29},\n",
       " {'name': 'Witchcore', 'value': 28},\n",
       " {'name': 'Light Academia', 'value': 27},\n",
       " {'name': 'Baddie', 'value': 26},\n",
       " {'name': 'Goblincore', 'value': 25}]"
      ]
     },
     "execution_count": 90,
     "metadata": {},
     "output_type": "execute_result"
    }
   ],
   "source": [
    "# Top 5 most connected aesthetics in terms of in degree\n",
    "sorted([\n",
    "    {'name':x, 'value':DGCC.in_degree(x)} \n",
    "    for x,y in DGCC.nodes(data=True) \n",
    "], key=lambda k: k['value'],reverse=True)[0:20]"
   ]
  },
  {
   "cell_type": "code",
   "execution_count": 91,
   "id": "a7e349f0",
   "metadata": {
    "ExecuteTime": {
     "end_time": "2021-11-24T00:18:31.479263Z",
     "start_time": "2021-11-24T00:18:31.460315Z"
    }
   },
   "outputs": [
    {
     "data": {
      "text/plain": [
       "[{'name': 'Milleniwave', 'value': 38},\n",
       " {'name': 'Cyberpunk', 'value': 33},\n",
       " {'name': 'Lo-Fi', 'value': 27},\n",
       " {'name': 'Cottagecore', 'value': 25},\n",
       " {'name': 'Witchcore', 'value': 25},\n",
       " {'name': 'Neo-Romanism', 'value': 24},\n",
       " {'name': 'Glowwave', 'value': 23},\n",
       " {'name': 'Rainbowcore', 'value': 21},\n",
       " {'name': 'Vaporwave', 'value': 21},\n",
       " {'name': 'Camp', 'value': 20},\n",
       " {'name': 'Dreamy', 'value': 20},\n",
       " {'name': 'Goth', 'value': 20},\n",
       " {'name': 'Modernism', 'value': 20},\n",
       " {'name': 'Grunge', 'value': 19},\n",
       " {'name': 'Nostalgiacore', 'value': 19},\n",
       " {'name': 'Bloomcore', 'value': 18},\n",
       " {'name': 'Dark Academia', 'value': 18},\n",
       " {'name': 'Cyberghetto', 'value': 17},\n",
       " {'name': 'Hot Topic', 'value': 17},\n",
       " {'name': 'Rainy Day', 'value': 17}]"
      ]
     },
     "execution_count": 91,
     "metadata": {},
     "output_type": "execute_result"
    }
   ],
   "source": [
    "# Top 5 most connected aesthetics in terms of out degree\n",
    "sorted([\n",
    "    {'name':x, 'value':DGCC.out_degree(x)} \n",
    "    for x,y in DGCC.nodes(data=True) \n",
    "], key=lambda k: k['value'],reverse=True)[0:20]"
   ]
  },
  {
   "cell_type": "code",
   "execution_count": 92,
   "id": "71c66461",
   "metadata": {
    "ExecuteTime": {
     "end_time": "2021-11-24T00:19:02.693620Z",
     "start_time": "2021-11-24T00:19:02.678670Z"
    }
   },
   "outputs": [
    {
     "data": {
      "text/plain": [
       "[{'name': 'Cottagecore', 'value': 59},\n",
       " {'name': 'Vaporwave', 'value': 57},\n",
       " {'name': 'Vintage', 'value': 50},\n",
       " {'name': 'Naturecore', 'value': 48},\n",
       " {'name': 'Cyberpunk', 'value': 46},\n",
       " {'name': 'Art Academia', 'value': 44},\n",
       " {'name': 'Dark Academia', 'value': 44},\n",
       " {'name': 'Lo-Fi', 'value': 41},\n",
       " {'name': 'Milleniwave', 'value': 41},\n",
       " {'name': 'Pastel', 'value': 40},\n",
       " {'name': 'Goth', 'value': 38},\n",
       " {'name': 'Punk', 'value': 38},\n",
       " {'name': 'Grunge', 'value': 37},\n",
       " {'name': 'Kidcore', 'value': 37},\n",
       " {'name': 'Synthwave', 'value': 36},\n",
       " {'name': 'Glowwave', 'value': 35},\n",
       " {'name': 'Witchcore', 'value': 34},\n",
       " {'name': 'Rainbowcore', 'value': 33},\n",
       " {'name': 'Dreamy', 'value': 31},\n",
       " {'name': 'Baddie', 'value': 30}]"
      ]
     },
     "execution_count": 92,
     "metadata": {},
     "output_type": "execute_result"
    }
   ],
   "source": [
    "# Top 5 most connected aesthetics undirected representation\n",
    "sorted([\n",
    "    {'name':x, 'value':UGCC.degree(x)} \n",
    "    for x,y in UGCC.nodes(data=True) \n",
    "], key=lambda k: k['value'],reverse=True)[0:20]"
   ]
  },
  {
   "cell_type": "code",
   "execution_count": 93,
   "id": "6c61c7c4",
   "metadata": {
    "ExecuteTime": {
     "end_time": "2021-11-24T00:22:34.673315Z",
     "start_time": "2021-11-24T00:22:34.657439Z"
    }
   },
   "outputs": [
    {
     "data": {
      "text/plain": [
       "[{'name': 'Milleniwave', 'value': 30},\n",
       " {'name': 'Neo-Romanism', 'value': 23},\n",
       " {'name': 'Camp', 'value': 19},\n",
       " {'name': 'Cyberghetto', 'value': 16},\n",
       " {'name': 'Auroracore', 'value': 14},\n",
       " {'name': 'Hot Topic', 'value': 14},\n",
       " {'name': 'Nerd', 'value': 13},\n",
       " {'name': 'Ghostcore', 'value': 10},\n",
       " {'name': 'Rainy Day', 'value': 10},\n",
       " {'name': 'Fairy Tale', 'value': 9}]"
      ]
     },
     "execution_count": 93,
     "metadata": {},
     "output_type": "execute_result"
    }
   ],
   "source": [
    "sorted([{'name':x, 'value':DGCC.out_degree(x)-DGCC.in_degree(x)} for x,y in DGCC.nodes(data=True)], key=lambda k: k['value'],reverse=True)[0:10]"
   ]
  },
  {
   "cell_type": "code",
   "execution_count": 94,
   "id": "8caad3f4",
   "metadata": {
    "ExecuteTime": {
     "end_time": "2021-11-24T00:22:55.182350Z",
     "start_time": "2021-11-24T00:22:55.164404Z"
    }
   },
   "outputs": [
    {
     "data": {
      "text/plain": [
       "[{'name': 'Naturecore', 'value': 35},\n",
       " {'name': 'Vaporwave', 'value': 34},\n",
       " {'name': 'Vintage', 'value': 33},\n",
       " {'name': 'Art Academia', 'value': 32},\n",
       " {'name': 'Cottagecore', 'value': 31},\n",
       " {'name': 'Kidcore', 'value': 24},\n",
       " {'name': 'Dark Academia', 'value': 23},\n",
       " {'name': 'Pastel', 'value': 23},\n",
       " {'name': 'Animecore', 'value': 20},\n",
       " {'name': 'Light Academia', 'value': 20}]"
      ]
     },
     "execution_count": 94,
     "metadata": {},
     "output_type": "execute_result"
    }
   ],
   "source": [
    "sorted([{'name':x, 'value':DGCC.in_degree(x)-DGCC.out_degree(x)} for x,y in DGCC.nodes(data=True)], key=lambda k: k['value'],reverse=True)[0:10]"
   ]
  },
  {
   "cell_type": "markdown",
   "id": "be4e362b",
   "metadata": {
    "ExecuteTime": {
     "end_time": "2021-11-24T00:26:55.160131Z",
     "start_time": "2021-11-24T00:26:55.150650Z"
    }
   },
   "source": [
    "### Exponent of the degree distribution "
   ]
  },
  {
   "cell_type": "code",
   "execution_count": 113,
   "id": "4b133631",
   "metadata": {
    "ExecuteTime": {
     "end_time": "2021-11-24T00:28:05.884421Z",
     "start_time": "2021-11-24T00:28:05.867614Z"
    }
   },
   "outputs": [
    {
     "name": "stdout",
     "output_type": "stream",
     "text": [
      "Calculating best minimal value for power law fit\n",
      "xmin progress: 00%\r",
      "xmin progress: 02%\r",
      "xmin progress: 05%\r",
      "xmin progress: 07%\r",
      "xmin progress: 10%\r",
      "xmin progress: 12%\r",
      "xmin progress: 15%\r",
      "xmin progress: 17%\r",
      "xmin progress: 20%\r",
      "xmin progress: 22%\r",
      "xmin progress: 25%\r",
      "xmin progress: 27%\r",
      "xmin progress: 30%\r",
      "xmin progress: 32%\r",
      "xmin progress: 35%\r",
      "xmin progress: 37%\r",
      "xmin progress: 40%\r",
      "xmin progress: 42%\r",
      "xmin progress: 45%\r",
      "xmin progress: 47%\r",
      "xmin progress: 50%\r",
      "xmin progress: 52%\r",
      "xmin progress: 55%\r",
      "xmin progress: 57%\r",
      "xmin progress: 60%\r",
      "xmin progress: 62%\r",
      "xmin progress: 65%\r",
      "xmin progress: 67%\r",
      "xmin progress: 70%\r",
      "xmin progress: 72%\r",
      "xmin progress: 75%\r",
      "xmin progress: 77%\r",
      "xmin progress: 80%\r",
      "xmin progress: 82%\r",
      "xmin progress: 85%\r",
      "xmin progress: 87%\r",
      "xmin progress: 90%\r",
      "xmin progress: 92%\r",
      "xmin progress: 95%\r",
      "xmin progress: 97%\r"
     ]
    },
    {
     "name": "stderr",
     "output_type": "stream",
     "text": [
      "Values less than or equal to 0 in data. Throwing out 0 or negative values\n"
     ]
    },
    {
     "data": {
      "text/plain": [
       "3.050233937142813"
      ]
     },
     "execution_count": 113,
     "metadata": {},
     "output_type": "execute_result"
    }
   ],
   "source": [
    "powerlaw.Fit(deg_list_all_in).alpha\n"
   ]
  },
  {
   "cell_type": "code",
   "execution_count": 114,
   "id": "a4e0f785",
   "metadata": {
    "ExecuteTime": {
     "end_time": "2021-11-24T00:28:06.053321Z",
     "start_time": "2021-11-24T00:28:06.042793Z"
    }
   },
   "outputs": [
    {
     "name": "stdout",
     "output_type": "stream",
     "text": [
      "Calculating best minimal value for power law fit\n",
      "xmin progress: 00%\r",
      "xmin progress: 03%\r",
      "xmin progress: 07%\r",
      "xmin progress: 11%\r",
      "xmin progress: 15%\r",
      "xmin progress: 19%\r",
      "xmin progress: 23%\r",
      "xmin progress: 26%\r",
      "xmin progress: 30%\r",
      "xmin progress: 34%\r",
      "xmin progress: 38%\r",
      "xmin progress: 42%\r",
      "xmin progress: 46%\r",
      "xmin progress: 50%\r",
      "xmin progress: 53%\r",
      "xmin progress: 57%\r",
      "xmin progress: 61%\r",
      "xmin progress: 65%\r",
      "xmin progress: 69%\r",
      "xmin progress: 73%\r",
      "xmin progress: 76%\r",
      "xmin progress: 80%\r",
      "xmin progress: 84%\r",
      "xmin progress: 88%\r",
      "xmin progress: 92%\r",
      "xmin progress: 96%\r"
     ]
    },
    {
     "name": "stderr",
     "output_type": "stream",
     "text": [
      "Values less than or equal to 0 in data. Throwing out 0 or negative values\n"
     ]
    },
    {
     "data": {
      "text/plain": [
       "4.870819108375876"
      ]
     },
     "execution_count": 114,
     "metadata": {},
     "output_type": "execute_result"
    }
   ],
   "source": [
    "powerlaw.Fit(deg_list_all_out).alpha"
   ]
  },
  {
   "cell_type": "code",
   "execution_count": 121,
   "id": "7ba7017c",
   "metadata": {
    "ExecuteTime": {
     "end_time": "2021-11-24T00:36:12.269651Z",
     "start_time": "2021-11-24T00:36:12.154096Z"
    }
   },
   "outputs": [
    {
     "data": {
      "image/png": "[encoded data removed]",
      "text/plain": [
       "<Figure size 432x288 with 1 Axes>"
      ]
     },
     "metadata": {
      "needs_background": "dark"
     },
     "output_type": "display_data"
    }
   ],
   "source": [
    "plt.scatter(deg_list_all_out, deg_list_all_in)\n",
    "plt.axis('square')\n",
    "plt.show()"
   ]
  },
  {
   "cell_type": "code",
   "execution_count": 115,
   "id": "de2658bd",
   "metadata": {
    "ExecuteTime": {
     "end_time": "2021-11-24T00:28:37.225148Z",
     "start_time": "2021-11-24T00:28:37.103636Z"
    }
   },
   "outputs": [
    {
     "data": {
      "image/png": "[encoded data removed]",
      "text/plain": [
       "<Figure size 432x288 with 1 Axes>"
      ]
     },
     "metadata": {
      "needs_background": "dark"
     },
     "output_type": "display_data"
    }
   ],
   "source": [
    "heatmap, xedges, yedges = np.histogram2d(deg_list_all_in, deg_list_all_out, bins=16)\n",
    "extent = [xedges[0], xedges[-1], yedges[0], yedges[-1]]\n",
    "\n",
    "plt.clf()\n",
    "plt.imshow(heatmap.T, extent=extent, origin='lower')\n",
    "plt.show()"
   ]
  },
  {
   "cell_type": "code",
   "execution_count": 117,
   "id": "d53b61d7",
   "metadata": {
    "ExecuteTime": {
     "end_time": "2021-11-24T00:28:57.098346Z",
     "start_time": "2021-11-24T00:28:56.965323Z"
    }
   },
   "outputs": [
    {
     "data": {
      "image/png": "[encoded data removed]",
      "text/plain": [
       "<Figure size 432x288 with 1 Axes>"
      ]
     },
     "metadata": {
      "needs_background": "dark"
     },
     "output_type": "display_data"
    }
   ],
   "source": [
    "plt.scatter(deg_list_all_out, list(nx.get_node_attributes(DGCC, 'loc').values()))\n",
    "plt.show()"
   ]
  },
  {
   "cell_type": "code",
   "execution_count": 118,
   "id": "54972a36",
   "metadata": {
    "ExecuteTime": {
     "end_time": "2021-11-24T00:29:14.624644Z",
     "start_time": "2021-11-24T00:29:14.488444Z"
    }
   },
   "outputs": [
    {
     "data": {
      "image/png": "[encoded data removed]",
      "text/plain": [
       "<Figure size 432x288 with 1 Axes>"
      ]
     },
     "metadata": {
      "needs_background": "dark"
     },
     "output_type": "display_data"
    }
   ],
   "source": [
    "plt.scatter(deg_list_all_in, list(nx.get_node_attributes(DGCC, 'loc').values()))\n",
    "plt.show()"
   ]
  },
  {
   "cell_type": "markdown",
   "id": "cf8c8fe1",
   "metadata": {},
   "source": [
    "### Nodes centrality"
   ]
  },
  {
   "cell_type": "code",
   "execution_count": 122,
   "id": "86b7a383",
   "metadata": {
    "ExecuteTime": {
     "end_time": "2021-11-24T00:37:22.800120Z",
     "start_time": "2021-11-24T00:37:22.775311Z"
    }
   },
   "outputs": [
    {
     "data": {
      "text/plain": [
       "[{'name': 'Cottagecore', 'value': 0.15976331360946747},\n",
       " {'name': 'Vaporwave', 'value': 0.14990138067061146},\n",
       " {'name': 'Cyberpunk', 'value': 0.14792899408284024},\n",
       " {'name': 'Vintage', 'value': 0.1203155818540434},\n",
       " {'name': 'Dark Academia', 'value': 0.116370808678501}]"
      ]
     },
     "execution_count": 122,
     "metadata": {},
     "output_type": "execute_result"
    }
   ],
   "source": [
    "# degree centrality\n",
    "sorted([{'name':x, 'value':y} for x,y in nx.degree_centrality(DGCC).items()], key=lambda k: k['value'],reverse=True)[0:5]"
   ]
  },
  {
   "cell_type": "code",
   "execution_count": 125,
   "id": "030aac6c",
   "metadata": {
    "ExecuteTime": {
     "end_time": "2021-11-24T00:46:59.675392Z",
     "start_time": "2021-11-24T00:46:59.651944Z"
    }
   },
   "outputs": [
    {
     "data": {
      "text/plain": [
       "[{'name': 'Cottagecore', 'value': 0.11045364891518739},\n",
       " {'name': 'Vaporwave', 'value': 0.10848126232741617},\n",
       " {'name': 'Vintage', 'value': 0.09270216962524655},\n",
       " {'name': 'Naturecore', 'value': 0.09072978303747535},\n",
       " {'name': 'Cyberpunk', 'value': 0.08284023668639054}]"
      ]
     },
     "execution_count": 125,
     "metadata": {},
     "output_type": "execute_result"
    }
   ],
   "source": [
    "# degree centrality\n",
    "sorted([{'name':x, 'value':y} for x,y in nx.in_degree_centrality(DGCC).items()], key=lambda k: k['value'],reverse=True)[0:5]"
   ]
  },
  {
   "cell_type": "code",
   "execution_count": 126,
   "id": "68366c38",
   "metadata": {
    "ExecuteTime": {
     "end_time": "2021-11-24T00:47:06.683696Z",
     "start_time": "2021-11-24T00:47:06.664753Z"
    }
   },
   "outputs": [
    {
     "data": {
      "text/plain": [
       "[{'name': 'Milleniwave', 'value': 0.07495069033530573},\n",
       " {'name': 'Cyberpunk', 'value': 0.0650887573964497},\n",
       " {'name': 'Lo-Fi', 'value': 0.05325443786982249},\n",
       " {'name': 'Cottagecore', 'value': 0.04930966469428008},\n",
       " {'name': 'Witchcore', 'value': 0.04930966469428008}]"
      ]
     },
     "execution_count": 126,
     "metadata": {},
     "output_type": "execute_result"
    }
   ],
   "source": [
    "# degree centrality\n",
    "sorted([{'name':x, 'value':y} for x,y in nx.out_degree_centrality(DGCC).items()], key=lambda k: k['value'],reverse=True)[0:5]"
   ]
  },
  {
   "cell_type": "code",
   "execution_count": 123,
   "id": "904762a1",
   "metadata": {
    "ExecuteTime": {
     "end_time": "2021-11-24T00:37:43.577982Z",
     "start_time": "2021-11-24T00:37:41.705646Z"
    }
   },
   "outputs": [
    {
     "data": {
      "text/plain": [
       "[{'name': 'Cyberpunk', 'value': 0.07255572007121502},\n",
       " {'name': 'Cottagecore', 'value': 0.06094767916442742},\n",
       " {'name': 'Vintage', 'value': 0.0574569135896909},\n",
       " {'name': 'Goth', 'value': 0.05004624758206219},\n",
       " {'name': 'Grunge', 'value': 0.04505906911688491}]"
      ]
     },
     "execution_count": 123,
     "metadata": {},
     "output_type": "execute_result"
    }
   ],
   "source": [
    "# betweenness centrality\n",
    "sorted([{'name':x, 'value':y} for x,y in nx.betweenness_centrality(DGCC).items()], key=lambda k: k['value'],reverse=True)[0:5]"
   ]
  },
  {
   "cell_type": "code",
   "execution_count": 124,
   "id": "6466751e",
   "metadata": {
    "ExecuteTime": {
     "end_time": "2021-11-24T00:39:48.937966Z",
     "start_time": "2021-11-24T00:39:48.780852Z"
    }
   },
   "outputs": [
    {
     "data": {
      "text/plain": [
       "[{'name': 'Vaporwave', 'value': 0.3242991953682048},\n",
       " {'name': 'Glowwave', 'value': 0.2610032794847355},\n",
       " {'name': 'Cyberpunk', 'value': 0.23659603911133634},\n",
       " {'name': 'Synthwave', 'value': 0.23081808493396566},\n",
       " {'name': 'Vintage', 'value': 0.23048080983447877}]"
      ]
     },
     "execution_count": 124,
     "metadata": {},
     "output_type": "execute_result"
    }
   ],
   "source": [
    "# eigenvector centrality (how do do it separately for in and out edges)\n",
    "sorted([{'name':x, 'value':y} for x,y in nx.eigenvector_centrality(DGCC).items()], key=lambda k: k['value'],reverse=True)[0:5]"
   ]
  },
  {
   "cell_type": "markdown",
   "id": "ae990215",
   "metadata": {},
   "source": [
    "### PageRank node importance"
   ]
  },
  {
   "cell_type": "code",
   "execution_count": 142,
   "id": "705dbe57",
   "metadata": {
    "ExecuteTime": {
     "end_time": "2021-11-24T01:13:26.413364Z",
     "start_time": "2021-11-24T01:13:26.377680Z"
    }
   },
   "outputs": [],
   "source": [
    "ppr1 = nx.pagerank(DGCC)"
   ]
  },
  {
   "cell_type": "code",
   "execution_count": 144,
   "id": "9b4fc021",
   "metadata": {
    "ExecuteTime": {
     "end_time": "2021-11-24T01:13:47.187186Z",
     "start_time": "2021-11-24T01:13:47.175045Z"
    }
   },
   "outputs": [
    {
     "data": {
      "text/plain": [
       "[{'name': 'Cottagecore', 'value': 0.015543618830890995},\n",
       " {'name': 'Dark Academia', 'value': 0.01403760726550105},\n",
       " {'name': 'Vaporwave', 'value': 0.013279172637377804},\n",
       " {'name': 'Vintage', 'value': 0.012817552761233898},\n",
       " {'name': 'Cyberpunk', 'value': 0.012621475672289684}]"
      ]
     },
     "execution_count": 144,
     "metadata": {},
     "output_type": "execute_result"
    }
   ],
   "source": [
    "sorted([{'name':x, 'value':y} for x,y in ppr1.items()], key=lambda k: k['value'],reverse=True)[0:5]"
   ]
  },
  {
   "cell_type": "markdown",
   "id": "ecf74dc2",
   "metadata": {},
   "source": [
    "### Assortativity"
   ]
  },
  {
   "cell_type": "code",
   "execution_count": 128,
   "id": "e110d560",
   "metadata": {
    "ExecuteTime": {
     "end_time": "2021-11-24T00:48:24.220934Z",
     "start_time": "2021-11-24T00:48:24.198993Z"
    }
   },
   "outputs": [
    {
     "data": {
      "text/plain": [
       "-0.10258619398637152"
      ]
     },
     "execution_count": 128,
     "metadata": {},
     "output_type": "execute_result"
    }
   ],
   "source": [
    "nx.degree_assortativity_coefficient(UGCC)"
   ]
  },
  {
   "cell_type": "code",
   "execution_count": 129,
   "id": "37c8bf31",
   "metadata": {
    "ExecuteTime": {
     "end_time": "2021-11-24T00:48:34.141158Z",
     "start_time": "2021-11-24T00:48:34.068791Z"
    }
   },
   "outputs": [
    {
     "data": {
      "text/plain": [
       "-0.003750709845959614"
      ]
     },
     "execution_count": 129,
     "metadata": {},
     "output_type": "execute_result"
    }
   ],
   "source": [
    "nx.attribute_assortativity_coefficient(UGCC, 'loc')\n"
   ]
  },
  {
   "cell_type": "code",
   "execution_count": 130,
   "id": "79826f59",
   "metadata": {
    "ExecuteTime": {
     "end_time": "2021-11-24T00:48:48.471937Z",
     "start_time": "2021-11-24T00:48:48.460077Z"
    }
   },
   "outputs": [],
   "source": [
    "# by attribute TBD\n",
    "# nx.attribute_assortativity_coefficient(UD, 'race')\n"
   ]
  },
  {
   "cell_type": "markdown",
   "id": "87d639c0",
   "metadata": {},
   "source": [
    "### Shortest path analysis compared to random graph"
   ]
  },
  {
   "cell_type": "code",
   "execution_count": 131,
   "id": "7bb6d939",
   "metadata": {
    "ExecuteTime": {
     "end_time": "2021-11-24T01:06:33.617262Z",
     "start_time": "2021-11-24T01:06:32.324996Z"
    }
   },
   "outputs": [
    {
     "data": {
      "text/plain": [
       "3.1300959791268697"
      ]
     },
     "execution_count": 131,
     "metadata": {},
     "output_type": "execute_result"
    }
   ],
   "source": [
    "nx.average_shortest_path_length(DGCC)\n"
   ]
  },
  {
   "cell_type": "code",
   "execution_count": 132,
   "id": "bb47ec78",
   "metadata": {
    "ExecuteTime": {
     "end_time": "2021-11-24T01:06:39.182910Z",
     "start_time": "2021-11-24T01:06:38.856512Z"
    }
   },
   "outputs": [
    {
     "data": {
      "text/plain": [
       "3.155228377517899"
      ]
     },
     "execution_count": 132,
     "metadata": {},
     "output_type": "execute_result"
    }
   ],
   "source": [
    "nx.average_shortest_path_length(UGCC)"
   ]
  },
  {
   "cell_type": "code",
   "execution_count": 134,
   "id": "2769214e",
   "metadata": {
    "ExecuteTime": {
     "end_time": "2021-11-24T01:07:00.144997Z",
     "start_time": "2021-11-24T01:06:58.881158Z"
    }
   },
   "outputs": [],
   "source": [
    "shortest_paths = list(nx.shortest_path_length(UGCC))\n",
    "path_lengths_dg = []\n",
    "for i in range(len(shortest_paths)):\n",
    "    path_lengths_dg += list(shortest_paths[i][1].values())"
   ]
  },
  {
   "cell_type": "code",
   "execution_count": 135,
   "id": "80d8e540",
   "metadata": {
    "ExecuteTime": {
     "end_time": "2021-11-24T01:08:40.034243Z",
     "start_time": "2021-11-24T01:08:40.021915Z"
    }
   },
   "outputs": [
    {
     "data": {
      "text/plain": [
       "0.01966950876702542"
      ]
     },
     "execution_count": 135,
     "metadata": {},
     "output_type": "execute_result"
    }
   ],
   "source": [
    "N = len(UGCC.nodes)\n",
    "k = sum([d for (n, d) in nx.degree(UGCC)]) / float(UGCC.number_of_nodes())\n",
    "p = k/(N-1)\n",
    "p"
   ]
  },
  {
   "cell_type": "code",
   "execution_count": 136,
   "id": "82e8b376",
   "metadata": {
    "ExecuteTime": {
     "end_time": "2021-11-24T01:08:42.251236Z",
     "start_time": "2021-11-24T01:08:42.228385Z"
    }
   },
   "outputs": [],
   "source": [
    "GR = nx.erdos_renyi_graph(N, p)"
   ]
  },
  {
   "cell_type": "code",
   "execution_count": 137,
   "id": "989173c4",
   "metadata": {
    "ExecuteTime": {
     "end_time": "2021-11-24T01:08:50.632609Z",
     "start_time": "2021-11-24T01:08:50.408583Z"
    }
   },
   "outputs": [],
   "source": [
    "shortest_paths = list(nx.shortest_path_length(GR))\n",
    "path_lengths_gr = []\n",
    "for i in range(len(shortest_paths)):\n",
    "    path_lengths_gr += list(shortest_paths[i][1].values())"
   ]
  },
  {
   "cell_type": "code",
   "execution_count": 140,
   "id": "7e491c1e",
   "metadata": {
    "ExecuteTime": {
     "end_time": "2021-11-24T01:09:46.246504Z",
     "start_time": "2021-11-24T01:09:46.106431Z"
    },
    "scrolled": true
   },
   "outputs": [
    {
     "data": {
      "image/png": "[encoded data removed]",
      "text/plain": [
       "<Figure size 432x288 with 1 Axes>"
      ]
     },
     "metadata": {
      "needs_background": "dark"
     },
     "output_type": "display_data"
    }
   ],
   "source": [
    "counts, edges = np.histogram(path_lengths_dg)\n",
    "plt.bar(edges[:-1], counts, width=np.diff(edges))\n",
    "plt.title(\"Shortest path length distribution of UGCC\")\n",
    "plt.xlabel('Number of nodes')\n",
    "plt.ylabel('Degree of the node')\n",
    "plt.show()"
   ]
  },
  {
   "cell_type": "code",
   "execution_count": 141,
   "id": "d473f14b",
   "metadata": {
    "ExecuteTime": {
     "end_time": "2021-11-24T01:09:55.300553Z",
     "start_time": "2021-11-24T01:09:55.136522Z"
    }
   },
   "outputs": [
    {
     "data": {
      "image/png": "[encoded data removed]",
      "text/plain": [
       "<Figure size 432x288 with 1 Axes>"
      ]
     },
     "metadata": {
      "needs_background": "dark"
     },
     "output_type": "display_data"
    }
   ],
   "source": [
    "counts, edges = np.histogram(path_lengths_gr)\n",
    "plt.bar(edges[:-1], counts, width=np.diff(edges))\n",
    "plt.title(\"Shortest path length distribution of Erdos Renyi graph\")\n",
    "plt.xlabel('Number of nodes')\n",
    "plt.ylabel('Degree of the node')\n",
    "plt.show()"
   ]
  },
  {
   "cell_type": "markdown",
   "id": "627e0b74",
   "metadata": {},
   "source": [
    "### Importance of a categorical proprty TBD"
   ]
  },
  {
   "cell_type": "code",
   "execution_count": null,
   "id": "0c31bb57",
   "metadata": {},
   "outputs": [],
   "source": []
  }
 ],
 "metadata": {
  "kernelspec": {
   "display_name": "Python 3",
   "language": "python",
   "name": "python3"
  },
  "language_info": {
   "codemirror_mode": {
    "name": "ipython",
    "version": 3
   },
   "file_extension": ".py",
   "mimetype": "text/x-python",
   "name": "python",
   "nbconvert_exporter": "python",
   "pygments_lexer": "ipython3",
   "version": "3.8.8"
  },
  "toc": {
   "base_numbering": 1,
   "nav_menu": {},
   "number_sections": true,
   "sideBar": true,
   "skip_h1_title": false,
   "title_cell": "Table of Contents",
   "title_sidebar": "Contents",
   "toc_cell": false,
   "toc_position": {
    "height": "790px",
    "left": "31px",
    "top": "72px",
    "width": "258.391px"
   },
   "toc_section_display": true,
   "toc_window_display": true
  },
  "varInspector": {
   "cols": {
    "lenName": 16,
    "lenType": 16,
    "lenVar": 40
   },
   "kernels_config": {
    "python": {
     "delete_cmd_postfix": "",
     "delete_cmd_prefix": "del ",
     "library": "var_list.py",
     "varRefreshCmd": "print(var_dic_list())"
    },
    "r": {
     "delete_cmd_postfix": ") ",
     "delete_cmd_prefix": "rm(",
     "library": "var_list.r",
     "varRefreshCmd": "cat(var_dic_list()) "
    }
   },
   "types_to_exclude": [
    "module",
    "function",
    "builtin_function_or_method",
    "instance",
    "_Feature"
   ],
   "window_display": false
  }
 },
 "nbformat": 4,
 "nbformat_minor": 5
}
