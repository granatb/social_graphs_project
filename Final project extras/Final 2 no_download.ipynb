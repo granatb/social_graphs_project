{
 "cells": [
  {
   "cell_type": "code",
   "execution_count": 1,
   "id": "101ae93e",
   "metadata": {},
   "outputs": [
    {
     "name": "stdout",
     "output_type": "stream",
     "text": [
      "*** Introductory Examples for the NLTK Book ***\n",
      "Loading text1, ..., text9 and sent1, ..., sent9\n",
      "Type the name of the text or sentence to view it.\n",
      "Type: 'texts()' or 'sents()' to list the materials.\n",
      "text1: Moby Dick by Herman Melville 1851\n",
      "text2: Sense and Sensibility by Jane Austen 1811\n",
      "text3: The Book of Genesis\n",
      "text4: Inaugural Address Corpus\n",
      "text5: Chat Corpus\n",
      "text6: Monty Python and the Holy Grail\n",
      "text7: Wall Street Journal\n",
      "text8: Personals Corpus\n",
      "text9: The Man Who Was Thursday by G . K . Chesterton 1908\n"
     ]
    }
   ],
   "source": [
    "import nltk\n",
    "import pandas as pd\n",
    "import networkx as nx\n",
    "from matplotlib import pyplot as plt\n",
    "from nltk.tokenize import WordPunctTokenizer\n",
    "from nltk.corpus import stopwords\n",
    "from nltk.corpus import PlaintextCorpusReader\n",
    "from nltk.book import FreqDist\n",
    "import os\n",
    "import re\n",
    "import community.community_louvain as community_louvain\n",
    "import math\n",
    "from wordcloud import WordCloud, STOPWORDS, ImageColorGenerator\n",
    "#from PIL import Image"
   ]
  },
  {
   "cell_type": "code",
   "execution_count": 2,
   "id": "5843f831",
   "metadata": {},
   "outputs": [],
   "source": [
    "df_aesthetics = pd.read_csv('aesthetics.csv')"
   ]
  },
  {
   "cell_type": "code",
   "execution_count": 3,
   "id": "43b9f7ae",
   "metadata": {},
   "outputs": [],
   "source": [
    "file_list=[]\n",
    "\n",
    "for aest in list(df_aesthetics['0']):\n",
    "    aest_file = aest.replace('/','_')\n",
    "    file_list+=[aest_file+\".txt\"]"
   ]
  },
  {
   "cell_type": "code",
   "execution_count": 4,
   "id": "e3a0f3cf",
   "metadata": {},
   "outputs": [],
   "source": [
    "#file_list"
   ]
  },
  {
   "cell_type": "code",
   "execution_count": 5,
   "id": "b21d0b6a",
   "metadata": {},
   "outputs": [
    {
     "ename": "OSError",
     "evalue": "No such file or directory: 'C:\\\\Users\\\\Gabo\\\\Desktop\\\\Social Graphs\\\\Final project\\\\SG Final\\\\clean\\\\Arts and Crafts.txt'",
     "output_type": "error",
     "traceback": [
      "\u001b[1;31m---------------------------------------------------------------------------\u001b[0m",
      "\u001b[1;31mOSError\u001b[0m                                   Traceback (most recent call last)",
      "\u001b[1;32m<ipython-input-5-4427468b9676>\u001b[0m in \u001b[0;36m<module>\u001b[1;34m\u001b[0m\n\u001b[0;32m      3\u001b[0m \u001b[0mwordlists\u001b[0m \u001b[1;33m=\u001b[0m \u001b[0mPlaintextCorpusReader\u001b[0m\u001b[1;33m(\u001b[0m\u001b[0mcorpus_root\u001b[0m\u001b[1;33m,\u001b[0m \u001b[0mfile_list\u001b[0m\u001b[1;33m)\u001b[0m\u001b[1;33m\u001b[0m\u001b[1;33m\u001b[0m\u001b[0m\n\u001b[0;32m      4\u001b[0m \u001b[1;33m\u001b[0m\u001b[0m\n\u001b[1;32m----> 5\u001b[1;33m \u001b[0mwholeText\u001b[0m \u001b[1;33m=\u001b[0m \u001b[0mnltk\u001b[0m\u001b[1;33m.\u001b[0m\u001b[0mText\u001b[0m\u001b[1;33m(\u001b[0m\u001b[0mwordlists\u001b[0m\u001b[1;33m.\u001b[0m\u001b[0mwords\u001b[0m\u001b[1;33m(\u001b[0m\u001b[1;33m)\u001b[0m\u001b[1;33m)\u001b[0m\u001b[1;33m\u001b[0m\u001b[1;33m\u001b[0m\u001b[0m\n\u001b[0m",
      "\u001b[1;32m~\\anaconda3\\lib\\site-packages\\nltk\\corpus\\reader\\plaintext.py\u001b[0m in \u001b[0;36mwords\u001b[1;34m(self, fileids)\u001b[0m\n\u001b[0;32m     91\u001b[0m             [\n\u001b[0;32m     92\u001b[0m                 \u001b[0mself\u001b[0m\u001b[1;33m.\u001b[0m\u001b[0mCorpusView\u001b[0m\u001b[1;33m(\u001b[0m\u001b[0mpath\u001b[0m\u001b[1;33m,\u001b[0m \u001b[0mself\u001b[0m\u001b[1;33m.\u001b[0m\u001b[0m_read_word_block\u001b[0m\u001b[1;33m,\u001b[0m \u001b[0mencoding\u001b[0m\u001b[1;33m=\u001b[0m\u001b[0menc\u001b[0m\u001b[1;33m)\u001b[0m\u001b[1;33m\u001b[0m\u001b[1;33m\u001b[0m\u001b[0m\n\u001b[1;32m---> 93\u001b[1;33m                 \u001b[1;32mfor\u001b[0m \u001b[1;33m(\u001b[0m\u001b[0mpath\u001b[0m\u001b[1;33m,\u001b[0m \u001b[0menc\u001b[0m\u001b[1;33m,\u001b[0m \u001b[0mfileid\u001b[0m\u001b[1;33m)\u001b[0m \u001b[1;32min\u001b[0m \u001b[0mself\u001b[0m\u001b[1;33m.\u001b[0m\u001b[0mabspaths\u001b[0m\u001b[1;33m(\u001b[0m\u001b[0mfileids\u001b[0m\u001b[1;33m,\u001b[0m \u001b[1;32mTrue\u001b[0m\u001b[1;33m,\u001b[0m \u001b[1;32mTrue\u001b[0m\u001b[1;33m)\u001b[0m\u001b[1;33m\u001b[0m\u001b[1;33m\u001b[0m\u001b[0m\n\u001b[0m\u001b[0;32m     94\u001b[0m             ]\n\u001b[0;32m     95\u001b[0m         )\n",
      "\u001b[1;32m~\\anaconda3\\lib\\site-packages\\nltk\\corpus\\reader\\api.py\u001b[0m in \u001b[0;36mabspaths\u001b[1;34m(self, fileids, include_encoding, include_fileid)\u001b[0m\n\u001b[0;32m    186\u001b[0m             \u001b[0mfileids\u001b[0m \u001b[1;33m=\u001b[0m \u001b[1;33m[\u001b[0m\u001b[0mfileids\u001b[0m\u001b[1;33m]\u001b[0m\u001b[1;33m\u001b[0m\u001b[1;33m\u001b[0m\u001b[0m\n\u001b[0;32m    187\u001b[0m \u001b[1;33m\u001b[0m\u001b[0m\n\u001b[1;32m--> 188\u001b[1;33m         \u001b[0mpaths\u001b[0m \u001b[1;33m=\u001b[0m \u001b[1;33m[\u001b[0m\u001b[0mself\u001b[0m\u001b[1;33m.\u001b[0m\u001b[0m_root\u001b[0m\u001b[1;33m.\u001b[0m\u001b[0mjoin\u001b[0m\u001b[1;33m(\u001b[0m\u001b[0mf\u001b[0m\u001b[1;33m)\u001b[0m \u001b[1;32mfor\u001b[0m \u001b[0mf\u001b[0m \u001b[1;32min\u001b[0m \u001b[0mfileids\u001b[0m\u001b[1;33m]\u001b[0m\u001b[1;33m\u001b[0m\u001b[1;33m\u001b[0m\u001b[0m\n\u001b[0m\u001b[0;32m    189\u001b[0m \u001b[1;33m\u001b[0m\u001b[0m\n\u001b[0;32m    190\u001b[0m         \u001b[1;32mif\u001b[0m \u001b[0minclude_encoding\u001b[0m \u001b[1;32mand\u001b[0m \u001b[0minclude_fileid\u001b[0m\u001b[1;33m:\u001b[0m\u001b[1;33m\u001b[0m\u001b[1;33m\u001b[0m\u001b[0m\n",
      "\u001b[1;32m~\\anaconda3\\lib\\site-packages\\nltk\\corpus\\reader\\api.py\u001b[0m in \u001b[0;36m<listcomp>\u001b[1;34m(.0)\u001b[0m\n\u001b[0;32m    186\u001b[0m             \u001b[0mfileids\u001b[0m \u001b[1;33m=\u001b[0m \u001b[1;33m[\u001b[0m\u001b[0mfileids\u001b[0m\u001b[1;33m]\u001b[0m\u001b[1;33m\u001b[0m\u001b[1;33m\u001b[0m\u001b[0m\n\u001b[0;32m    187\u001b[0m \u001b[1;33m\u001b[0m\u001b[0m\n\u001b[1;32m--> 188\u001b[1;33m         \u001b[0mpaths\u001b[0m \u001b[1;33m=\u001b[0m \u001b[1;33m[\u001b[0m\u001b[0mself\u001b[0m\u001b[1;33m.\u001b[0m\u001b[0m_root\u001b[0m\u001b[1;33m.\u001b[0m\u001b[0mjoin\u001b[0m\u001b[1;33m(\u001b[0m\u001b[0mf\u001b[0m\u001b[1;33m)\u001b[0m \u001b[1;32mfor\u001b[0m \u001b[0mf\u001b[0m \u001b[1;32min\u001b[0m \u001b[0mfileids\u001b[0m\u001b[1;33m]\u001b[0m\u001b[1;33m\u001b[0m\u001b[1;33m\u001b[0m\u001b[0m\n\u001b[0m\u001b[0;32m    189\u001b[0m \u001b[1;33m\u001b[0m\u001b[0m\n\u001b[0;32m    190\u001b[0m         \u001b[1;32mif\u001b[0m \u001b[0minclude_encoding\u001b[0m \u001b[1;32mand\u001b[0m \u001b[0minclude_fileid\u001b[0m\u001b[1;33m:\u001b[0m\u001b[1;33m\u001b[0m\u001b[1;33m\u001b[0m\u001b[0m\n",
      "\u001b[1;32m~\\anaconda3\\lib\\site-packages\\nltk\\data.py\u001b[0m in \u001b[0;36mjoin\u001b[1;34m(self, fileid)\u001b[0m\n\u001b[0;32m    333\u001b[0m     \u001b[1;32mdef\u001b[0m \u001b[0mjoin\u001b[0m\u001b[1;33m(\u001b[0m\u001b[0mself\u001b[0m\u001b[1;33m,\u001b[0m \u001b[0mfileid\u001b[0m\u001b[1;33m)\u001b[0m\u001b[1;33m:\u001b[0m\u001b[1;33m\u001b[0m\u001b[1;33m\u001b[0m\u001b[0m\n\u001b[0;32m    334\u001b[0m         \u001b[0m_path\u001b[0m \u001b[1;33m=\u001b[0m \u001b[0mos\u001b[0m\u001b[1;33m.\u001b[0m\u001b[0mpath\u001b[0m\u001b[1;33m.\u001b[0m\u001b[0mjoin\u001b[0m\u001b[1;33m(\u001b[0m\u001b[0mself\u001b[0m\u001b[1;33m.\u001b[0m\u001b[0m_path\u001b[0m\u001b[1;33m,\u001b[0m \u001b[0mfileid\u001b[0m\u001b[1;33m)\u001b[0m\u001b[1;33m\u001b[0m\u001b[1;33m\u001b[0m\u001b[0m\n\u001b[1;32m--> 335\u001b[1;33m         \u001b[1;32mreturn\u001b[0m \u001b[0mFileSystemPathPointer\u001b[0m\u001b[1;33m(\u001b[0m\u001b[0m_path\u001b[0m\u001b[1;33m)\u001b[0m\u001b[1;33m\u001b[0m\u001b[1;33m\u001b[0m\u001b[0m\n\u001b[0m\u001b[0;32m    336\u001b[0m \u001b[1;33m\u001b[0m\u001b[0m\n\u001b[0;32m    337\u001b[0m     \u001b[1;32mdef\u001b[0m \u001b[0m__repr__\u001b[0m\u001b[1;33m(\u001b[0m\u001b[0mself\u001b[0m\u001b[1;33m)\u001b[0m\u001b[1;33m:\u001b[0m\u001b[1;33m\u001b[0m\u001b[1;33m\u001b[0m\u001b[0m\n",
      "\u001b[1;32m~\\anaconda3\\lib\\site-packages\\nltk\\compat.py\u001b[0m in \u001b[0;36m_decorator\u001b[1;34m(*args, **kwargs)\u001b[0m\n\u001b[0;32m     39\u001b[0m     \u001b[1;32mdef\u001b[0m \u001b[0m_decorator\u001b[0m\u001b[1;33m(\u001b[0m\u001b[1;33m*\u001b[0m\u001b[0margs\u001b[0m\u001b[1;33m,\u001b[0m \u001b[1;33m**\u001b[0m\u001b[0mkwargs\u001b[0m\u001b[1;33m)\u001b[0m\u001b[1;33m:\u001b[0m\u001b[1;33m\u001b[0m\u001b[1;33m\u001b[0m\u001b[0m\n\u001b[0;32m     40\u001b[0m         \u001b[0margs\u001b[0m \u001b[1;33m=\u001b[0m \u001b[1;33m(\u001b[0m\u001b[0margs\u001b[0m\u001b[1;33m[\u001b[0m\u001b[1;36m0\u001b[0m\u001b[1;33m]\u001b[0m\u001b[1;33m,\u001b[0m \u001b[0madd_py3_data\u001b[0m\u001b[1;33m(\u001b[0m\u001b[0margs\u001b[0m\u001b[1;33m[\u001b[0m\u001b[1;36m1\u001b[0m\u001b[1;33m]\u001b[0m\u001b[1;33m)\u001b[0m\u001b[1;33m)\u001b[0m \u001b[1;33m+\u001b[0m \u001b[0margs\u001b[0m\u001b[1;33m[\u001b[0m\u001b[1;36m2\u001b[0m\u001b[1;33m:\u001b[0m\u001b[1;33m]\u001b[0m\u001b[1;33m\u001b[0m\u001b[1;33m\u001b[0m\u001b[0m\n\u001b[1;32m---> 41\u001b[1;33m         \u001b[1;32mreturn\u001b[0m \u001b[0minit_func\u001b[0m\u001b[1;33m(\u001b[0m\u001b[1;33m*\u001b[0m\u001b[0margs\u001b[0m\u001b[1;33m,\u001b[0m \u001b[1;33m**\u001b[0m\u001b[0mkwargs\u001b[0m\u001b[1;33m)\u001b[0m\u001b[1;33m\u001b[0m\u001b[1;33m\u001b[0m\u001b[0m\n\u001b[0m\u001b[0;32m     42\u001b[0m \u001b[1;33m\u001b[0m\u001b[0m\n\u001b[0;32m     43\u001b[0m     \u001b[1;32mreturn\u001b[0m \u001b[0mwraps\u001b[0m\u001b[1;33m(\u001b[0m\u001b[0minit_func\u001b[0m\u001b[1;33m)\u001b[0m\u001b[1;33m(\u001b[0m\u001b[0m_decorator\u001b[0m\u001b[1;33m)\u001b[0m\u001b[1;33m\u001b[0m\u001b[1;33m\u001b[0m\u001b[0m\n",
      "\u001b[1;32m~\\anaconda3\\lib\\site-packages\\nltk\\data.py\u001b[0m in \u001b[0;36m__init__\u001b[1;34m(self, _path)\u001b[0m\n\u001b[0;32m    311\u001b[0m         \u001b[0m_path\u001b[0m \u001b[1;33m=\u001b[0m \u001b[0mos\u001b[0m\u001b[1;33m.\u001b[0m\u001b[0mpath\u001b[0m\u001b[1;33m.\u001b[0m\u001b[0mabspath\u001b[0m\u001b[1;33m(\u001b[0m\u001b[0m_path\u001b[0m\u001b[1;33m)\u001b[0m\u001b[1;33m\u001b[0m\u001b[1;33m\u001b[0m\u001b[0m\n\u001b[0;32m    312\u001b[0m         \u001b[1;32mif\u001b[0m \u001b[1;32mnot\u001b[0m \u001b[0mos\u001b[0m\u001b[1;33m.\u001b[0m\u001b[0mpath\u001b[0m\u001b[1;33m.\u001b[0m\u001b[0mexists\u001b[0m\u001b[1;33m(\u001b[0m\u001b[0m_path\u001b[0m\u001b[1;33m)\u001b[0m\u001b[1;33m:\u001b[0m\u001b[1;33m\u001b[0m\u001b[1;33m\u001b[0m\u001b[0m\n\u001b[1;32m--> 313\u001b[1;33m             \u001b[1;32mraise\u001b[0m \u001b[0mIOError\u001b[0m\u001b[1;33m(\u001b[0m\u001b[1;34m\"No such file or directory: %r\"\u001b[0m \u001b[1;33m%\u001b[0m \u001b[0m_path\u001b[0m\u001b[1;33m)\u001b[0m\u001b[1;33m\u001b[0m\u001b[1;33m\u001b[0m\u001b[0m\n\u001b[0m\u001b[0;32m    314\u001b[0m         \u001b[0mself\u001b[0m\u001b[1;33m.\u001b[0m\u001b[0m_path\u001b[0m \u001b[1;33m=\u001b[0m \u001b[0m_path\u001b[0m\u001b[1;33m\u001b[0m\u001b[1;33m\u001b[0m\u001b[0m\n\u001b[0;32m    315\u001b[0m \u001b[1;33m\u001b[0m\u001b[0m\n",
      "\u001b[1;31mOSError\u001b[0m: No such file or directory: 'C:\\\\Users\\\\Gabo\\\\Desktop\\\\Social Graphs\\\\Final project\\\\SG Final\\\\clean\\\\Arts and Crafts.txt'"
     ]
    }
   ],
   "source": [
    "corpus_root = os.getcwd()+'/clean'\n",
    "\n",
    "wordlists = PlaintextCorpusReader(corpus_root, file_list)\n",
    "\n",
    "wholeText = nltk.Text(wordlists.words())"
   ]
  },
  {
   "cell_type": "code",
   "execution_count": null,
   "id": "d880ff7d",
   "metadata": {},
   "outputs": [],
   "source": [
    "len(wholeText)"
   ]
  },
  {
   "cell_type": "code",
   "execution_count": null,
   "id": "b1ad177c",
   "metadata": {},
   "outputs": [],
   "source": [
    "len(set(wholeText))"
   ]
  },
  {
   "cell_type": "code",
   "execution_count": null,
   "id": "299b4295",
   "metadata": {},
   "outputs": [],
   "source": [
    "len(set(wholeText)) / len(wholeText)"
   ]
  },
  {
   "cell_type": "code",
   "execution_count": null,
   "id": "29d9b8cd",
   "metadata": {},
   "outputs": [],
   "source": [
    "fdist1 = FreqDist(wholeText)\n",
    "fdist1"
   ]
  },
  {
   "cell_type": "code",
   "execution_count": null,
   "id": "573fd516",
   "metadata": {
    "scrolled": true
   },
   "outputs": [],
   "source": [
    "plt.figure(figsize=(20, 15))\n",
    "fdist1.plot(75, cumulative=True)"
   ]
  },
  {
   "cell_type": "code",
   "execution_count": null,
   "id": "022134f5",
   "metadata": {
    "scrolled": false
   },
   "outputs": [],
   "source": [
    "fdist1.most_common(5)"
   ]
  },
  {
   "cell_type": "code",
   "execution_count": null,
   "id": "79c301fe",
   "metadata": {},
   "outputs": [],
   "source": [
    "corpus_root = os.getcwd()+'/cleaner'\n",
    "\n",
    "wordlists_nostop = PlaintextCorpusReader(corpus_root, file_list)\n",
    "\n",
    "nostopText = nltk.Text(wordlists_nostop.words())"
   ]
  },
  {
   "cell_type": "code",
   "execution_count": null,
   "id": "be8b1ba6",
   "metadata": {
    "scrolled": true
   },
   "outputs": [],
   "source": [
    "len(nostopText)"
   ]
  },
  {
   "cell_type": "code",
   "execution_count": null,
   "id": "96988276",
   "metadata": {
    "scrolled": true
   },
   "outputs": [],
   "source": [
    "len(set(nostopText))"
   ]
  },
  {
   "cell_type": "code",
   "execution_count": null,
   "id": "7ef00d08",
   "metadata": {},
   "outputs": [],
   "source": [
    "len(set(nostopText)) / len(nostopText)"
   ]
  },
  {
   "cell_type": "code",
   "execution_count": null,
   "id": "591c3335",
   "metadata": {
    "scrolled": true
   },
   "outputs": [],
   "source": [
    "fdist2 = FreqDist(nostopText)\n",
    "fdist2"
   ]
  },
  {
   "cell_type": "code",
   "execution_count": null,
   "id": "01065b70",
   "metadata": {
    "scrolled": true
   },
   "outputs": [],
   "source": [
    "plt.figure(figsize=(20, 15))\n",
    "fdist2.plot(75, cumulative=True)"
   ]
  },
  {
   "cell_type": "code",
   "execution_count": null,
   "id": "cd426101",
   "metadata": {
    "scrolled": true
   },
   "outputs": [],
   "source": [
    "fdist2.most_common(50)"
   ]
  },
  {
   "cell_type": "code",
   "execution_count": null,
   "id": "cc1c0e29",
   "metadata": {},
   "outputs": [],
   "source": [
    "disp = ['aesthetic', 'fashion', 'music', 'style','art', 'people', 'colors']"
   ]
  },
  {
   "cell_type": "code",
   "execution_count": null,
   "id": "3a8b25a9",
   "metadata": {
    "scrolled": true
   },
   "outputs": [],
   "source": [
    "wholeText.dispersion_plot(disp)"
   ]
  },
  {
   "cell_type": "code",
   "execution_count": null,
   "id": "390bdd2a",
   "metadata": {},
   "outputs": [],
   "source": [
    "disp2 = ['architecture', 'music', 'fashion', 'art', 'culture', 'nature']"
   ]
  },
  {
   "cell_type": "code",
   "execution_count": null,
   "id": "1122e8f4",
   "metadata": {},
   "outputs": [],
   "source": [
    "wholeText.dispersion_plot(disp2)"
   ]
  },
  {
   "cell_type": "code",
   "execution_count": null,
   "id": "2124f0cf",
   "metadata": {
    "scrolled": true
   },
   "outputs": [],
   "source": [
    "wholeText.collocations()"
   ]
  },
  {
   "cell_type": "code",
   "execution_count": null,
   "id": "7b7b43fc",
   "metadata": {},
   "outputs": [],
   "source": [
    "alph_list"
   ]
  },
  {
   "cell_type": "code",
   "execution_count": null,
   "id": "fa9e0f0e",
   "metadata": {},
   "outputs": [],
   "source": [
    "DG = nx.DiGraph()\n",
    "\n",
    "for i in list(df_aesthetics['0']):\n",
    "    if \"|\" in i:\n",
    "        spl=re.split('(?:\\|)', i)\n",
    "        alph_list[alph_list.index(i)]=spl[1]\n",
    "        DG.add_node(spl[1])    \n",
    "    else:\n",
    "        DG.add_node(i)"
   ]
  },
  {
   "cell_type": "code",
   "execution_count": null,
   "id": "6b043237",
   "metadata": {},
   "outputs": [],
   "source": [
    "len(DG.nodes())"
   ]
  },
  {
   "cell_type": "code",
   "execution_count": null,
   "id": "f13915fd",
   "metadata": {},
   "outputs": [],
   "source": [
    "egdes={}\n",
    "for char in DG:\n",
    "    char_file = char.replace('/','_')\n",
    "    with open('aesthetics/'+f'{char_file}.txt', 'r') as f:\n",
    "        a = f.read().replace('\\n', '')\n",
    "        pol = list(set(re.findall(r'\\[\\[([\\w\\s]*).*?\\]\\]', a)))\n",
    "    table = str(re.findall(r'(?<=\\{\\{).*?(?=\\}\\})', a))\n",
    "\n",
    "    \n",
    "    connections = [x for x in list(set(re.findall(r'(?<=\\[\\[).*?(?=\\]\\])', table))) if x in DG]\n",
    "    \n",
    "    for c in connections:\n",
    "        DG.add_edge(char, c )"
   ]
  },
  {
   "cell_type": "code",
   "execution_count": null,
   "id": "d2a4a41d",
   "metadata": {},
   "outputs": [],
   "source": [
    "len(DG.edges())"
   ]
  },
  {
   "cell_type": "code",
   "execution_count": null,
   "id": "cd2d49b5",
   "metadata": {},
   "outputs": [],
   "source": [
    "UG = DG.to_undirected()\n"
   ]
  },
  {
   "cell_type": "code",
   "execution_count": null,
   "id": "ac775e95",
   "metadata": {},
   "outputs": [],
   "source": [
    "partition = community_louvain.best_partition(UG)\n",
    "len(set(partition.values()))"
   ]
  },
  {
   "cell_type": "code",
   "execution_count": null,
   "id": "912eebf6",
   "metadata": {},
   "outputs": [],
   "source": [
    "community_louvain.modularity(partition, UG)"
   ]
  },
  {
   "cell_type": "code",
   "execution_count": null,
   "id": "50b5087c",
   "metadata": {},
   "outputs": [],
   "source": [
    "plt.hist(partition.values(), len(set(partition.values())))\n",
    "plt.show()"
   ]
  },
  {
   "cell_type": "code",
   "execution_count": null,
   "id": "080bf00e",
   "metadata": {},
   "outputs": [],
   "source": [
    "sums = {}\n",
    "coms = []\n",
    "for x in set(partition.values()):\n",
    "    sums[x] = sum(value == x for value in partition.values())\n",
    "    coms.append([k for k,v in partition.items() if v == x])"
   ]
  },
  {
   "cell_type": "code",
   "execution_count": null,
   "id": "bc252632",
   "metadata": {},
   "outputs": [],
   "source": [
    "#sums\n",
    "#coms[31]"
   ]
  },
  {
   "cell_type": "code",
   "execution_count": null,
   "id": "c171db8b",
   "metadata": {},
   "outputs": [],
   "source": [
    "big_coms = [x[0] for x in sorted(sums.items(), key=lambda x: x[1], reverse=True)[:5]]"
   ]
  },
  {
   "cell_type": "code",
   "execution_count": null,
   "id": "6e210363",
   "metadata": {
    "scrolled": true
   },
   "outputs": [],
   "source": [
    "big_coms.sort()\n",
    "big_coms"
   ]
  },
  {
   "cell_type": "code",
   "execution_count": null,
   "id": "e02aa15b",
   "metadata": {},
   "outputs": [],
   "source": [
    "nx.set_node_attributes(UG, partition, \"partition\")"
   ]
  },
  {
   "cell_type": "code",
   "execution_count": null,
   "id": "7cae6ef9",
   "metadata": {},
   "outputs": [],
   "source": [
    "#Sorting the characters by edges and communities\n",
    "ch_1=[]\n",
    "for n in UG.nodes():\n",
    "    ch_1.append((n,UG.degree(n),UG.nodes()[n]['partition']))\n",
    "\n",
    "ch_1.sort(key=lambda x:x[1],reverse=True)\n",
    "ch_1.sort(key=lambda x:x[2])"
   ]
  },
  {
   "cell_type": "code",
   "execution_count": null,
   "id": "7b9ddc55",
   "metadata": {},
   "outputs": [],
   "source": [
    "ch_big = [x for x in ch_1 if x[2] in big_coms]"
   ]
  },
  {
   "cell_type": "code",
   "execution_count": null,
   "id": "54663fb6",
   "metadata": {},
   "outputs": [],
   "source": [
    "ch_big"
   ]
  },
  {
   "cell_type": "code",
   "execution_count": null,
   "id": "bde5f38c",
   "metadata": {},
   "outputs": [],
   "source": []
  },
  {
   "cell_type": "code",
   "execution_count": null,
   "id": "585f6407",
   "metadata": {},
   "outputs": [],
   "source": [
    "#Name each community by its three most connected characters.\n",
    "count=0\n",
    "com_name={}\n",
    "for i in range(len(ch_big)):\n",
    "    if ch_big[i][2]==big_coms[count]:\n",
    "        com_name[big_coms[count]]=str(ch_big[i][0])+\"-\"+str(ch_big[i+1][0])+\"-\"+str(ch_big[i+2][0])\n",
    "        count+=1\n",
    "    "
   ]
  },
  {
   "cell_type": "code",
   "execution_count": null,
   "id": "fc8d7061",
   "metadata": {
    "scrolled": true
   },
   "outputs": [],
   "source": [
    "com_name"
   ]
  },
  {
   "cell_type": "code",
   "execution_count": null,
   "id": "2d306e1c",
   "metadata": {
    "scrolled": false
   },
   "outputs": [],
   "source": [
    "#ch_1"
   ]
  },
  {
   "cell_type": "code",
   "execution_count": null,
   "id": "c5556575",
   "metadata": {},
   "outputs": [],
   "source": [
    "community_corpora={}\n",
    "\n",
    "for com in [x[0] for x in sorted(sums.items(), key=lambda x: x[1], reverse=True)]:\n",
    "    char = coms[com]\n",
    "    \n",
    "    char = [x.replace('/','_') for x in char]\n",
    "    \n",
    "    clist = [i+\".txt\" for i in char]\n",
    "    \n",
    "    wordlists_ = PlaintextCorpusReader(corpus_root, clist)\n",
    "    community_corpora[com]= nltk.Text(wordlists_.words())"
   ]
  },
  {
   "cell_type": "code",
   "execution_count": null,
   "id": "8b5c0fe1",
   "metadata": {},
   "outputs": [],
   "source": [
    "#community_corpora"
   ]
  },
  {
   "cell_type": "code",
   "execution_count": null,
   "id": "b7d911c3",
   "metadata": {},
   "outputs": [],
   "source": [
    "#TF values ft/len(text) and idf values log((N/nt)\n",
    "comunity_tf={}\n",
    "for x in big_coms:\n",
    "    l=[]\n",
    "    l = sorted(dict(FreqDist(community_corpora[x])).items(), key=lambda x: x[1], reverse=True)\n",
    "    d={}\n",
    "    for y in l:\n",
    "        d[y[0]] = y[1]/len(community_corpora[x])\n",
    "    comunity_tf[x] = d"
   ]
  },
  {
   "cell_type": "code",
   "execution_count": null,
   "id": "40a38410",
   "metadata": {},
   "outputs": [],
   "source": [
    "for r in comunity_tf:\n",
    "    print(sorted(comunity_tf[r].items(), key = lambda x: x[1], reverse = True)[:5])"
   ]
  },
  {
   "cell_type": "code",
   "execution_count": null,
   "id": "bbbb463a",
   "metadata": {},
   "outputs": [],
   "source": [
    "N_com = len(community_corpora)\n",
    "\n",
    "comunity_tfidf = comunity_tf.copy()\n",
    "idf_com = {}\n",
    "\n",
    "for word in set(nostopText):\n",
    "    nt = 0\n",
    "    for comu in community_corpora:\n",
    "        if word in set(community_corpora[comu]):\n",
    "            nt+=1\n",
    "    idf_com[word] = math.log((N_com/(nt+1)),10)\n",
    "    \n",
    "for comu in comunity_tfidf:\n",
    "    for word in comunity_tfidf[comu]:\n",
    "        comunity_tfidf[comu][word] = int(comunity_tfidf[comu][word]*idf_com[word]*10000) # multiplying by 10000 and changing into integer to prepare the scores for wordclouds"
   ]
  },
  {
   "cell_type": "code",
   "execution_count": null,
   "id": "8ed9de52",
   "metadata": {},
   "outputs": [],
   "source": [
    "for r in comunity_tfidf:\n",
    "    print(sorted(comunity_tfidf[r].items(), key = lambda x: x[1], reverse = True)[:5])"
   ]
  },
  {
   "cell_type": "code",
   "execution_count": null,
   "id": "d7aa72fb",
   "metadata": {},
   "outputs": [],
   "source": [
    "wc_str = {}\n",
    "\n",
    "for comu in big_coms:\n",
    "    wc_str[comu] = ''\n",
    "\n",
    "    for x in comunity_tfidf[comu]:\n",
    "        wc_str[comu] += (x+' ')*comunity_tfidf[comu][x]"
   ]
  },
  {
   "cell_type": "code",
   "execution_count": null,
   "id": "79bbfd5f",
   "metadata": {},
   "outputs": [],
   "source": [
    "wc_str"
   ]
  },
  {
   "cell_type": "code",
   "execution_count": null,
   "id": "b2483ec8",
   "metadata": {},
   "outputs": [],
   "source": [
    "plt.figure()\n",
    "stopwords = set(STOPWORDS)\n",
    "plt.figure(figsize=[17, 30])\n",
    "\n",
    "for t in range(len(big_coms)):\n",
    "    plt.subplot(5, 1, t+1).set_title(str(big_coms[t])+\" wordcloud\")\n",
    "    \n",
    "#     mask = np.array(Image.open(races_wc[t]+\".png\"))\n",
    "#     transformed_mask = np.ndarray((mask.shape[0],mask.shape[1],mask.shape[2]), np.int32)\n",
    "#     for i in range(len(mask)):\n",
    "#         for j in range(len(mask[i])):\n",
    "#             transformed_mask[i][j] = list(map(transform_format, mask[i][j]))\n",
    "            \n",
    "#     image_colors = ImageColorGenerator(mask)\n",
    "    \n",
    "    wordcloud = WordCloud(max_font_size=130, collocations = False, width = 600, height = 600,\n",
    "                background_color ='white',\n",
    "                stopwords = stopwords,\n",
    "                #mask = transformed_mask,\n",
    "                min_font_size = 10).generate(wc_str[big_coms[t]])\n",
    "    \n",
    "    plt.imshow(wordcloud, interpolation=\"bilinear\")\n",
    "    plt.axis(\"off\")\n",
    "plt.show()"
   ]
  }
 ],
 "metadata": {
  "kernelspec": {
   "display_name": "Python 3",
   "language": "python",
   "name": "python3"
  },
  "language_info": {
   "codemirror_mode": {
    "name": "ipython",
    "version": 3
   },
   "file_extension": ".py",
   "mimetype": "text/x-python",
   "name": "python",
   "nbconvert_exporter": "python",
   "pygments_lexer": "ipython3",
   "version": "3.8.8"
  }
 },
 "nbformat": 4,
 "nbformat_minor": 5
}
